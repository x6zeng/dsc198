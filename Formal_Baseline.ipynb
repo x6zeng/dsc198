{
 "cells": [
  {
   "cell_type": "markdown",
   "id": "6e10568b",
   "metadata": {},
   "source": [
    "### Importations"
   ]
  },
  {
   "cell_type": "code",
   "execution_count": 1,
   "id": "99ab9b2d",
   "metadata": {},
   "outputs": [],
   "source": [
    "# Baisc Packages\n",
    "import numpy as np\n",
    "import pandas as pd\n",
    "import math\n",
    "import os\n",
    "import matplotlib\n",
    "import matplotlib.pyplot as plt\n",
    "import seaborn as sns\n",
    "import warnings \n",
    "# Transformers\n",
    "from sklearn.preprocessing import OneHotEncoder\n",
    "from sklearn.compose import ColumnTransformer\n",
    "from sklearn.preprocessing import FunctionTransformer\n",
    "# model selection\n",
    "from sklearn.model_selection import train_test_split\n",
    "from sklearn.model_selection import RepeatedStratifiedKFold\n",
    "from sklearn.model_selection import GridSearchCV\n",
    "# model\n",
    "import xgboost as xgb\n",
    "# pipeline\n",
    "from sklearn.pipeline import Pipeline\n",
    "# validation\n",
    "from sklearn.metrics import plot_confusion_matrix\n",
    "from sklearn.metrics import accuracy_score\n",
    "from sklearn.metrics import roc_curve\n",
    "from sklearn.metrics import auc\n",
    "from sklearn.metrics import recall_score"
   ]
  },
  {
   "cell_type": "code",
   "execution_count": 2,
   "id": "e7545043",
   "metadata": {},
   "outputs": [],
   "source": [
    "# global parameter settings\n",
    "from sklearn import set_config\n",
    "set_config(display=\"diagram\")\n",
    "sns.set_theme()"
   ]
  },
  {
   "cell_type": "code",
   "execution_count": 3,
   "id": "e1e2f69a",
   "metadata": {},
   "outputs": [
    {
     "name": "stderr",
     "output_type": "stream",
     "text": [
      "Intel(R) Extension for Scikit-learn* enabled (https://github.com/intel/scikit-learn-intelex)\n"
     ]
    }
   ],
   "source": [
    "# Intel Package for Acceleration\n",
    "from sklearnex import patch_sklearn\n",
    "patch_sklearn()"
   ]
  },
  {
   "cell_type": "markdown",
   "id": "977366ca",
   "metadata": {},
   "source": [
    "## Load Data"
   ]
  },
  {
   "cell_type": "code",
   "execution_count": 4,
   "id": "a733f0b0",
   "metadata": {},
   "outputs": [],
   "source": [
    "#Data path\n",
    "train_transaction_path = \"data/train_transaction.csv\"\n",
    "train_identity_path = \"data/train_identity.csv\"\n",
    "test_transaction_path = \"data/test_transaction.csv\"\n",
    "test_identity_path = \"data/test_identity.csv\"\n",
    "sample_submission_path = \"data/sample_submission.csv\"\n",
    "\n",
    "# Train Data Process\n",
    "train_transaction = pd.read_csv(train_transaction_path)\n",
    "train_identity = pd.read_csv(train_identity_path)\n",
    "train_df = pd.merge(train_identity, train_transaction, on=\"TransactionID\", how='right')\n",
    "# Release Memory\n",
    "del train_transaction\n",
    "del train_identity\n",
    "\n",
    "# Test Data Process\n",
    "test_transaction = pd.read_csv(test_transaction_path)\n",
    "test_identity = pd.read_csv(test_identity_path)\n",
    "test_df = pd.merge(test_identity, test_transaction, on=\"TransactionID\", how='right')\n",
    "# Release Memory\n",
    "del test_transaction\n",
    "del test_identity"
   ]
  },
  {
   "cell_type": "code",
   "execution_count": 5,
   "id": "f941db80",
   "metadata": {},
   "outputs": [],
   "source": [
    "# make sure test_df and train_df are with the corresponding column names\n",
    "test_df.columns = test_df.columns.str.replace('-', '_')"
   ]
  },
  {
   "cell_type": "markdown",
   "id": "03da6e4c",
   "metadata": {},
   "source": [
    "## Premodal Data Preprocessing"
   ]
  },
  {
   "cell_type": "markdown",
   "id": "10835ee7",
   "metadata": {},
   "source": [
    "### Time"
   ]
  },
  {
   "cell_type": "code",
   "execution_count": 6,
   "id": "ad8750a3",
   "metadata": {},
   "outputs": [],
   "source": [
    "## Day of week (one hot)\n",
    "def convert_day_of_week(x):\n",
    "    return (x // (24 * 60 * 60)) % 7\n",
    "\n",
    "# Hour of day (one hot)\n",
    "def convert_hour(x):\n",
    "    return (x // (1 * 60 * 60)) % 24\n",
    "\n",
    "def addr1_transform(x):\n",
    "    if x in top_addr1: \n",
    "        return x\n",
    "    elif (pd.isnull(x) == True):\n",
    "        return 0\n",
    "    else:\n",
    "        return -1\n",
    "    \n",
    "def addr2_transform(x):\n",
    "    if x in top_addr2:\n",
    "        return x\n",
    "    elif (pd.isnull(x) == True):\n",
    "        return 0\n",
    "    else:\n",
    "        return -1\n",
    "    \n",
    "def email_p_transform(x):\n",
    "    if x in top_email_p:\n",
    "        return x\n",
    "    elif (pd.isnull(x) == True):\n",
    "        return 'Missing'\n",
    "    else:\n",
    "        return 'Other'\n",
    "    \n",
    "def email_r_transform(x):\n",
    "    if x in top_email_r:\n",
    "        return x\n",
    "    elif (pd.isnull(x) == True):\n",
    "        return 'Missing'\n",
    "    else:\n",
    "        return 'Other'"
   ]
  },
  {
   "cell_type": "code",
   "execution_count": 7,
   "id": "44488ed9",
   "metadata": {},
   "outputs": [],
   "source": [
    "# Transform the train_df\n",
    "# Time\n",
    "train_df['TransactionDT'] = train_df['TransactionDT'] - min(train_df['TransactionDT']) # shift encoding? might be in transformer, too\n",
    "train_df['TransactionDayOfWeek'] = train_df['TransactionDT'].apply(convert_day_of_week) # give a day of week\n",
    "train_df['TransactionHour'] = train_df['TransactionDT'].apply(convert_hour) # give the hour of the day\n",
    "\n",
    "# Following utilize a Top K encoding for categorical variables\n",
    "#addr1, addr2\n",
    "top_addr1 = list(train_df['addr1'].value_counts().index)[:10] #top ten regions\n",
    "top_addr2 = list(train_df['addr2'].value_counts().index)[:10] #top ten countries\n",
    "train_df['addr1_new'] = train_df['addr1'].apply(addr1_transform)\n",
    "train_df['addr2_new'] = train_df['addr2'].apply(addr2_transform)\n",
    "#Email_Domain\n",
    "top_email_p = list(train_df['P_emaildomain'].value_counts().index)[:20] #top twenty regions\n",
    "top_email_r = list(train_df['R_emaildomain'].value_counts().index)[:20] #top twenty countries\n",
    "train_df['P_emaildomain_new'] = train_df['P_emaildomain'].apply(email_p_transform)\n",
    "train_df['R_emaildomain_new'] = train_df['R_emaildomain'].apply(email_r_transform)\n"
   ]
  },
  {
   "cell_type": "code",
   "execution_count": 8,
   "id": "50a21165",
   "metadata": {},
   "outputs": [],
   "source": [
    "# Transform the test_df\n",
    "# Time\n",
    "test_df['TransactionDT'] = test_df['TransactionDT'] - min(test_df['TransactionDT']) # shift encoding? might be in transformer, too\n",
    "test_df['TransactionDayOfWeek'] = test_df['TransactionDT'].apply(convert_day_of_week) # give a day of week\n",
    "test_df['TransactionHour'] = test_df['TransactionDT'].apply(convert_hour) # give the hour of the day\n",
    "\n",
    "# Following utilize a Top K encoding for categorical variables\n",
    "#addr1, addr2\n",
    "top_addr1 = list(test_df['addr1'].value_counts().index)[:10] #top ten regions\n",
    "top_addr2 = list(test_df['addr2'].value_counts().index)[:10] #top ten countries\n",
    "test_df['addr1_new'] = test_df['addr1'].apply(addr1_transform)\n",
    "test_df['addr2_new'] = test_df['addr2'].apply(addr2_transform)\n",
    "#Email_Domain\n",
    "top_email_p = list(test_df['P_emaildomain'].value_counts().index)[:20] #top twenty regions\n",
    "top_email_r = list(test_df['R_emaildomain'].value_counts().index)[:20] #top twenty countries\n",
    "test_df['P_emaildomain_new'] = test_df['P_emaildomain'].apply(email_p_transform)\n",
    "test_df['R_emaildomain_new'] = test_df['R_emaildomain'].apply(email_r_transform)"
   ]
  },
  {
   "cell_type": "markdown",
   "id": "e041c6de",
   "metadata": {},
   "source": [
    "## Train-Test Split and Raw Model Result"
   ]
  },
  {
   "cell_type": "code",
   "execution_count": 41,
   "id": "d2f07991",
   "metadata": {},
   "outputs": [],
   "source": [
    "X_train, X_test, y_train, y_test = train_test_split(train_df.drop(columns = 'isFraud'), train_df['isFraud'], random_state=1)"
   ]
  },
  {
   "cell_type": "code",
   "execution_count": 42,
   "id": "3eead934",
   "metadata": {},
   "outputs": [],
   "source": [
    "# parameter list\n",
    "one_hot_lst = ['DeviceType', 'id_12', 'id_15', 'id_16', 'id_23', 'id_27', 'id_28', 'id_29', 'id_32', 'id_34', \n",
    "               'id_35', 'id_36', 'id_37', 'id_38', 'TransactionDayOfWeek', 'TransactionHour', 'addr1_new', 'addr2_new',\n",
    "                'ProductCD', 'card4', 'card6', 'M1', 'M2', 'M3', 'M4', 'M5', 'M6', 'M7', 'M8', 'M9', 'P_emaildomain_new', 'R_emaildomain_new']\n",
    "identity_lst = ['C1', 'C2', 'C3', 'C4', 'C5', 'C6', 'C7', 'C8', 'C9', 'C10', 'C11', 'C12', 'C13', 'C14',\n",
    "                'dist1', 'dist2', 'TransactionDT'] + train_df.columns[train_df.columns.str.contains('V')].tolist() # V lists"
   ]
  },
  {
   "cell_type": "code",
   "execution_count": 43,
   "id": "01225782",
   "metadata": {},
   "outputs": [],
   "source": [
    "preproc = ColumnTransformer(\n",
    "    transformers = [\n",
    "        ('ohe', OneHotEncoder(handle_unknown = 'ignore'), one_hot_lst),\n",
    "        ('log', FunctionTransformer(np.log), ['TransactionAmt']),\n",
    "        ('identity', FunctionTransformer(lambda x: x), identity_lst) # do nothing\n",
    "    ], remainder = 'drop'\n",
    ")"
   ]
  },
  {
   "cell_type": "code",
   "execution_count": 99,
   "id": "a7650575",
   "metadata": {},
   "outputs": [],
   "source": [
    "# Pipeline\n",
    "pl = Pipeline(steps = [\n",
    "    ('preprocesser', preproc),\n",
    "    ('xgb_cl', xgb.XGBClassifier(use_label_encoder = False, eval_metric = 'logloss', tree_method = 'hist', scale_pos_weight = 30))\n",
    "])"
   ]
  },
  {
   "cell_type": "code",
   "execution_count": 100,
   "id": "94025de8",
   "metadata": {},
   "outputs": [
    {
     "name": "stdout",
     "output_type": "stream",
     "text": [
      "CPU times: total: 1min 35s\n",
      "Wall time: 12.4 s\n"
     ]
    },
    {
     "data": {
      "text/html": [
       "<style>#sk-aa1eb37b-bd1e-4ec4-aae0-499774301fdb {color: black;background-color: white;}#sk-aa1eb37b-bd1e-4ec4-aae0-499774301fdb pre{padding: 0;}#sk-aa1eb37b-bd1e-4ec4-aae0-499774301fdb div.sk-toggleable {background-color: white;}#sk-aa1eb37b-bd1e-4ec4-aae0-499774301fdb label.sk-toggleable__label {cursor: pointer;display: block;width: 100%;margin-bottom: 0;padding: 0.2em 0.3em;box-sizing: border-box;text-align: center;}#sk-aa1eb37b-bd1e-4ec4-aae0-499774301fdb div.sk-toggleable__content {max-height: 0;max-width: 0;overflow: hidden;text-align: left;background-color: #f0f8ff;}#sk-aa1eb37b-bd1e-4ec4-aae0-499774301fdb div.sk-toggleable__content pre {margin: 0.2em;color: black;border-radius: 0.25em;background-color: #f0f8ff;}#sk-aa1eb37b-bd1e-4ec4-aae0-499774301fdb input.sk-toggleable__control:checked~div.sk-toggleable__content {max-height: 200px;max-width: 100%;overflow: auto;}#sk-aa1eb37b-bd1e-4ec4-aae0-499774301fdb div.sk-estimator input.sk-toggleable__control:checked~label.sk-toggleable__label {background-color: #d4ebff;}#sk-aa1eb37b-bd1e-4ec4-aae0-499774301fdb div.sk-label input.sk-toggleable__control:checked~label.sk-toggleable__label {background-color: #d4ebff;}#sk-aa1eb37b-bd1e-4ec4-aae0-499774301fdb input.sk-hidden--visually {border: 0;clip: rect(1px 1px 1px 1px);clip: rect(1px, 1px, 1px, 1px);height: 1px;margin: -1px;overflow: hidden;padding: 0;position: absolute;width: 1px;}#sk-aa1eb37b-bd1e-4ec4-aae0-499774301fdb div.sk-estimator {font-family: monospace;background-color: #f0f8ff;margin: 0.25em 0.25em;border: 1px dotted black;border-radius: 0.25em;box-sizing: border-box;}#sk-aa1eb37b-bd1e-4ec4-aae0-499774301fdb div.sk-estimator:hover {background-color: #d4ebff;}#sk-aa1eb37b-bd1e-4ec4-aae0-499774301fdb div.sk-parallel-item::after {content: \"\";width: 100%;border-bottom: 1px solid gray;flex-grow: 1;}#sk-aa1eb37b-bd1e-4ec4-aae0-499774301fdb div.sk-label:hover label.sk-toggleable__label {background-color: #d4ebff;}#sk-aa1eb37b-bd1e-4ec4-aae0-499774301fdb div.sk-serial::before {content: \"\";position: absolute;border-left: 1px solid gray;box-sizing: border-box;top: 2em;bottom: 0;left: 50%;}#sk-aa1eb37b-bd1e-4ec4-aae0-499774301fdb div.sk-serial {display: flex;flex-direction: column;align-items: center;background-color: white;}#sk-aa1eb37b-bd1e-4ec4-aae0-499774301fdb div.sk-item {z-index: 1;}#sk-aa1eb37b-bd1e-4ec4-aae0-499774301fdb div.sk-parallel {display: flex;align-items: stretch;justify-content: center;background-color: white;}#sk-aa1eb37b-bd1e-4ec4-aae0-499774301fdb div.sk-parallel-item {display: flex;flex-direction: column;position: relative;background-color: white;}#sk-aa1eb37b-bd1e-4ec4-aae0-499774301fdb div.sk-parallel-item:first-child::after {align-self: flex-end;width: 50%;}#sk-aa1eb37b-bd1e-4ec4-aae0-499774301fdb div.sk-parallel-item:last-child::after {align-self: flex-start;width: 50%;}#sk-aa1eb37b-bd1e-4ec4-aae0-499774301fdb div.sk-parallel-item:only-child::after {width: 0;}#sk-aa1eb37b-bd1e-4ec4-aae0-499774301fdb div.sk-dashed-wrapped {border: 1px dashed gray;margin: 0.2em;box-sizing: border-box;padding-bottom: 0.1em;background-color: white;position: relative;}#sk-aa1eb37b-bd1e-4ec4-aae0-499774301fdb div.sk-label label {font-family: monospace;font-weight: bold;background-color: white;display: inline-block;line-height: 1.2em;}#sk-aa1eb37b-bd1e-4ec4-aae0-499774301fdb div.sk-label-container {position: relative;z-index: 2;text-align: center;}#sk-aa1eb37b-bd1e-4ec4-aae0-499774301fdb div.sk-container {display: inline-block;position: relative;}</style><div id=\"sk-aa1eb37b-bd1e-4ec4-aae0-499774301fdb\" class\"sk-top-container\"><div class=\"sk-container\"><div class=\"sk-item sk-dashed-wrapped\"><div class=\"sk-label-container\"><div class=\"sk-label sk-toggleable\"><input class=\"sk-toggleable__control sk-hidden--visually\" id=\"9f355f3c-178e-4621-97d0-74b535bd4e37\" type=\"checkbox\" ><label class=\"sk-toggleable__label\" for=\"9f355f3c-178e-4621-97d0-74b535bd4e37\">Pipeline</label><div class=\"sk-toggleable__content\"><pre>Pipeline(steps=[('preprocesser',\n",
       "                 ColumnTransformer(transformers=[('ohe',\n",
       "                                                  OneHotEncoder(handle_unknown='ignore'),\n",
       "                                                  ['DeviceType', 'id_12',\n",
       "                                                   'id_15', 'id_16', 'id_23',\n",
       "                                                   'id_27', 'id_28', 'id_29',\n",
       "                                                   'id_32', 'id_34', 'id_35',\n",
       "                                                   'id_36', 'id_37', 'id_38',\n",
       "                                                   'TransactionDayOfWeek',\n",
       "                                                   'TransactionHour',\n",
       "                                                   'addr1_new', 'addr2_new',\n",
       "                                                   'ProductCD', 'card4',\n",
       "                                                   'card6', 'M1', 'M2', 'M3',\n",
       "                                                   'M4', 'M5', 'M6'...\n",
       "                               importance_type=None, interaction_constraints='',\n",
       "                               learning_rate=0.300000012, max_delta_step=0,\n",
       "                               max_depth=6, min_child_weight=1, missing=nan,\n",
       "                               monotone_constraints='()', n_estimators=100,\n",
       "                               n_jobs=12, num_parallel_tree=1, predictor='auto',\n",
       "                               random_state=0, reg_alpha=0, reg_lambda=1,\n",
       "                               scale_pos_weight=30, subsample=1,\n",
       "                               tree_method='hist', use_label_encoder=False,\n",
       "                               validate_parameters=1, verbosity=None))])</pre></div></div></div><div class=\"sk-serial\"><div class=\"sk-item sk-dashed-wrapped\"><div class=\"sk-label-container\"><div class=\"sk-label sk-toggleable\"><input class=\"sk-toggleable__control sk-hidden--visually\" id=\"7569f921-3449-4ac4-a1dd-e5db27545368\" type=\"checkbox\" ><label class=\"sk-toggleable__label\" for=\"7569f921-3449-4ac4-a1dd-e5db27545368\">preprocesser: ColumnTransformer</label><div class=\"sk-toggleable__content\"><pre>ColumnTransformer(transformers=[('ohe', OneHotEncoder(handle_unknown='ignore'),\n",
       "                                 ['DeviceType', 'id_12', 'id_15', 'id_16',\n",
       "                                  'id_23', 'id_27', 'id_28', 'id_29', 'id_32',\n",
       "                                  'id_34', 'id_35', 'id_36', 'id_37', 'id_38',\n",
       "                                  'TransactionDayOfWeek', 'TransactionHour',\n",
       "                                  'addr1_new', 'addr2_new', 'ProductCD',\n",
       "                                  'card4', 'card6', 'M1', 'M2', 'M3', 'M4',\n",
       "                                  'M5', 'M6', 'M7', 'M8', 'M9', ...]),\n",
       "                                ('log', FunctionTransformer(func=<ufunc 'log'>),\n",
       "                                 ['TransactionAmt']),\n",
       "                                ('identity',\n",
       "                                 FunctionTransformer(func=<function <lambda> at 0x00000201DBD3DF70>),\n",
       "                                 ['C1', 'C2', 'C3', 'C4', 'C5', 'C6', 'C7',\n",
       "                                  'C8', 'C9', 'C10', 'C11', 'C12', 'C13', 'C14',\n",
       "                                  'dist1', 'dist2', 'TransactionDT', 'V1', 'V2',\n",
       "                                  'V3', 'V4', 'V5', 'V6', 'V7', 'V8', 'V9',\n",
       "                                  'V10', 'V11', 'V12', 'V13', ...])])</pre></div></div></div><div class=\"sk-parallel\"><div class=\"sk-parallel-item\"><div class=\"sk-item\"><div class=\"sk-label-container\"><div class=\"sk-label sk-toggleable\"><input class=\"sk-toggleable__control sk-hidden--visually\" id=\"2b7cb4fe-3e1f-4dfe-aaea-2fa01329dee6\" type=\"checkbox\" ><label class=\"sk-toggleable__label\" for=\"2b7cb4fe-3e1f-4dfe-aaea-2fa01329dee6\">ohe</label><div class=\"sk-toggleable__content\"><pre>['DeviceType', 'id_12', 'id_15', 'id_16', 'id_23', 'id_27', 'id_28', 'id_29', 'id_32', 'id_34', 'id_35', 'id_36', 'id_37', 'id_38', 'TransactionDayOfWeek', 'TransactionHour', 'addr1_new', 'addr2_new', 'ProductCD', 'card4', 'card6', 'M1', 'M2', 'M3', 'M4', 'M5', 'M6', 'M7', 'M8', 'M9', 'P_emaildomain_new', 'R_emaildomain_new']</pre></div></div></div><div class=\"sk-serial\"><div class=\"sk-item\"><div class=\"sk-estimator sk-toggleable\"><input class=\"sk-toggleable__control sk-hidden--visually\" id=\"9876148e-6fd0-4f2d-b7e4-9314af1f3d55\" type=\"checkbox\" ><label class=\"sk-toggleable__label\" for=\"9876148e-6fd0-4f2d-b7e4-9314af1f3d55\">OneHotEncoder</label><div class=\"sk-toggleable__content\"><pre>OneHotEncoder(handle_unknown='ignore')</pre></div></div></div></div></div></div><div class=\"sk-parallel-item\"><div class=\"sk-item\"><div class=\"sk-label-container\"><div class=\"sk-label sk-toggleable\"><input class=\"sk-toggleable__control sk-hidden--visually\" id=\"1d1912a1-3f85-4c8b-8f3a-063655ab3841\" type=\"checkbox\" ><label class=\"sk-toggleable__label\" for=\"1d1912a1-3f85-4c8b-8f3a-063655ab3841\">log</label><div class=\"sk-toggleable__content\"><pre>['TransactionAmt']</pre></div></div></div><div class=\"sk-serial\"><div class=\"sk-item\"><div class=\"sk-estimator sk-toggleable\"><input class=\"sk-toggleable__control sk-hidden--visually\" id=\"27298757-201f-4625-a523-40bbd81ec1a3\" type=\"checkbox\" ><label class=\"sk-toggleable__label\" for=\"27298757-201f-4625-a523-40bbd81ec1a3\">FunctionTransformer</label><div class=\"sk-toggleable__content\"><pre>FunctionTransformer(func=<ufunc 'log'>)</pre></div></div></div></div></div></div><div class=\"sk-parallel-item\"><div class=\"sk-item\"><div class=\"sk-label-container\"><div class=\"sk-label sk-toggleable\"><input class=\"sk-toggleable__control sk-hidden--visually\" id=\"77379b55-b7c3-4095-9807-c12d7ab99c73\" type=\"checkbox\" ><label class=\"sk-toggleable__label\" for=\"77379b55-b7c3-4095-9807-c12d7ab99c73\">identity</label><div class=\"sk-toggleable__content\"><pre>['C1', 'C2', 'C3', 'C4', 'C5', 'C6', 'C7', 'C8', 'C9', 'C10', 'C11', 'C12', 'C13', 'C14', 'dist1', 'dist2', 'TransactionDT', 'V1', 'V2', 'V3', 'V4', 'V5', 'V6', 'V7', 'V8', 'V9', 'V10', 'V11', 'V12', 'V13', 'V14', 'V15', 'V16', 'V17', 'V18', 'V19', 'V20', 'V21', 'V22', 'V23', 'V24', 'V25', 'V26', 'V27', 'V28', 'V29', 'V30', 'V31', 'V32', 'V33', 'V34', 'V35', 'V36', 'V37', 'V38', 'V39', 'V40', 'V41', 'V42', 'V43', 'V44', 'V45', 'V46', 'V47', 'V48', 'V49', 'V50', 'V51', 'V52', 'V53', 'V54', 'V55', 'V56', 'V57', 'V58', 'V59', 'V60', 'V61', 'V62', 'V63', 'V64', 'V65', 'V66', 'V67', 'V68', 'V69', 'V70', 'V71', 'V72', 'V73', 'V74', 'V75', 'V76', 'V77', 'V78', 'V79', 'V80', 'V81', 'V82', 'V83', 'V84', 'V85', 'V86', 'V87', 'V88', 'V89', 'V90', 'V91', 'V92', 'V93', 'V94', 'V95', 'V96', 'V97', 'V98', 'V99', 'V100', 'V101', 'V102', 'V103', 'V104', 'V105', 'V106', 'V107', 'V108', 'V109', 'V110', 'V111', 'V112', 'V113', 'V114', 'V115', 'V116', 'V117', 'V118', 'V119', 'V120', 'V121', 'V122', 'V123', 'V124', 'V125', 'V126', 'V127', 'V128', 'V129', 'V130', 'V131', 'V132', 'V133', 'V134', 'V135', 'V136', 'V137', 'V138', 'V139', 'V140', 'V141', 'V142', 'V143', 'V144', 'V145', 'V146', 'V147', 'V148', 'V149', 'V150', 'V151', 'V152', 'V153', 'V154', 'V155', 'V156', 'V157', 'V158', 'V159', 'V160', 'V161', 'V162', 'V163', 'V164', 'V165', 'V166', 'V167', 'V168', 'V169', 'V170', 'V171', 'V172', 'V173', 'V174', 'V175', 'V176', 'V177', 'V178', 'V179', 'V180', 'V181', 'V182', 'V183', 'V184', 'V185', 'V186', 'V187', 'V188', 'V189', 'V190', 'V191', 'V192', 'V193', 'V194', 'V195', 'V196', 'V197', 'V198', 'V199', 'V200', 'V201', 'V202', 'V203', 'V204', 'V205', 'V206', 'V207', 'V208', 'V209', 'V210', 'V211', 'V212', 'V213', 'V214', 'V215', 'V216', 'V217', 'V218', 'V219', 'V220', 'V221', 'V222', 'V223', 'V224', 'V225', 'V226', 'V227', 'V228', 'V229', 'V230', 'V231', 'V232', 'V233', 'V234', 'V235', 'V236', 'V237', 'V238', 'V239', 'V240', 'V241', 'V242', 'V243', 'V244', 'V245', 'V246', 'V247', 'V248', 'V249', 'V250', 'V251', 'V252', 'V253', 'V254', 'V255', 'V256', 'V257', 'V258', 'V259', 'V260', 'V261', 'V262', 'V263', 'V264', 'V265', 'V266', 'V267', 'V268', 'V269', 'V270', 'V271', 'V272', 'V273', 'V274', 'V275', 'V276', 'V277', 'V278', 'V279', 'V280', 'V281', 'V282', 'V283', 'V284', 'V285', 'V286', 'V287', 'V288', 'V289', 'V290', 'V291', 'V292', 'V293', 'V294', 'V295', 'V296', 'V297', 'V298', 'V299', 'V300', 'V301', 'V302', 'V303', 'V304', 'V305', 'V306', 'V307', 'V308', 'V309', 'V310', 'V311', 'V312', 'V313', 'V314', 'V315', 'V316', 'V317', 'V318', 'V319', 'V320', 'V321', 'V322', 'V323', 'V324', 'V325', 'V326', 'V327', 'V328', 'V329', 'V330', 'V331', 'V332', 'V333', 'V334', 'V335', 'V336', 'V337', 'V338', 'V339']</pre></div></div></div><div class=\"sk-serial\"><div class=\"sk-item\"><div class=\"sk-estimator sk-toggleable\"><input class=\"sk-toggleable__control sk-hidden--visually\" id=\"713ea161-9603-4aa2-81a9-ee708bcdc902\" type=\"checkbox\" ><label class=\"sk-toggleable__label\" for=\"713ea161-9603-4aa2-81a9-ee708bcdc902\">FunctionTransformer</label><div class=\"sk-toggleable__content\"><pre>FunctionTransformer(func=<function <lambda> at 0x00000201DBD3DF70>)</pre></div></div></div></div></div></div></div></div><div class=\"sk-item\"><div class=\"sk-estimator sk-toggleable\"><input class=\"sk-toggleable__control sk-hidden--visually\" id=\"efd3a273-064d-48d0-860f-448708a06fac\" type=\"checkbox\" ><label class=\"sk-toggleable__label\" for=\"efd3a273-064d-48d0-860f-448708a06fac\">XGBClassifier</label><div class=\"sk-toggleable__content\"><pre>XGBClassifier(base_score=0.5, booster='gbtree', colsample_bylevel=1,\n",
       "              colsample_bynode=1, colsample_bytree=1, enable_categorical=False,\n",
       "              eval_metric='logloss', gamma=0, gpu_id=-1, importance_type=None,\n",
       "              interaction_constraints='', learning_rate=0.300000012,\n",
       "              max_delta_step=0, max_depth=6, min_child_weight=1, missing=nan,\n",
       "              monotone_constraints='()', n_estimators=100, n_jobs=12,\n",
       "              num_parallel_tree=1, predictor='auto', random_state=0,\n",
       "              reg_alpha=0, reg_lambda=1, scale_pos_weight=30, subsample=1,\n",
       "              tree_method='hist', use_label_encoder=False,\n",
       "              validate_parameters=1, verbosity=None)</pre></div></div></div></div></div></div></div>"
      ],
      "text/plain": [
       "Pipeline(steps=[('preprocesser',\n",
       "                 ColumnTransformer(transformers=[('ohe',\n",
       "                                                  OneHotEncoder(handle_unknown='ignore'),\n",
       "                                                  ['DeviceType', 'id_12',\n",
       "                                                   'id_15', 'id_16', 'id_23',\n",
       "                                                   'id_27', 'id_28', 'id_29',\n",
       "                                                   'id_32', 'id_34', 'id_35',\n",
       "                                                   'id_36', 'id_37', 'id_38',\n",
       "                                                   'TransactionDayOfWeek',\n",
       "                                                   'TransactionHour',\n",
       "                                                   'addr1_new', 'addr2_new',\n",
       "                                                   'ProductCD', 'card4',\n",
       "                                                   'card6', 'M1', 'M2', 'M3',\n",
       "                                                   'M4', 'M5', 'M6'...\n",
       "                               importance_type=None, interaction_constraints='',\n",
       "                               learning_rate=0.300000012, max_delta_step=0,\n",
       "                               max_depth=6, min_child_weight=1, missing=nan,\n",
       "                               monotone_constraints='()', n_estimators=100,\n",
       "                               n_jobs=12, num_parallel_tree=1, predictor='auto',\n",
       "                               random_state=0, reg_alpha=0, reg_lambda=1,\n",
       "                               scale_pos_weight=30, subsample=1,\n",
       "                               tree_method='hist', use_label_encoder=False,\n",
       "                               validate_parameters=1, verbosity=None))])"
      ]
     },
     "execution_count": 100,
     "metadata": {},
     "output_type": "execute_result"
    }
   ],
   "source": [
    "%%time\n",
    "# fit the train data\n",
    "pl.fit(X_train, y_train)"
   ]
  },
  {
   "cell_type": "markdown",
   "id": "783165ee",
   "metadata": {},
   "source": [
    "### Evaluations"
   ]
  },
  {
   "cell_type": "code",
   "execution_count": 101,
   "id": "554f872d",
   "metadata": {},
   "outputs": [
    {
     "data": {
      "text/plain": [
       "0.9081473453675167"
      ]
     },
     "execution_count": 101,
     "metadata": {},
     "output_type": "execute_result"
    }
   ],
   "source": [
    "# Accuracy on train data\n",
    "pl.score(X_train, y_train)"
   ]
  },
  {
   "cell_type": "code",
   "execution_count": 102,
   "id": "d8d0f8a5",
   "metadata": {},
   "outputs": [
    {
     "data": {
      "text/plain": [
       "0.9044874182951197"
      ]
     },
     "execution_count": 102,
     "metadata": {},
     "output_type": "execute_result"
    }
   ],
   "source": [
    "# Accuracy on test data\n",
    "pl.score(X_test, y_test)"
   ]
  },
  {
   "cell_type": "code",
   "execution_count": 103,
   "id": "cda8428b",
   "metadata": {},
   "outputs": [
    {
     "data": {
      "text/plain": [
       "0.8160762942779292"
      ]
     },
     "execution_count": 103,
     "metadata": {},
     "output_type": "execute_result"
    }
   ],
   "source": [
    "# Recall on test data\n",
    "recall_score(y_test, pl.predict(X_test))"
   ]
  },
  {
   "cell_type": "code",
   "execution_count": 104,
   "id": "894c38df",
   "metadata": {},
   "outputs": [
    {
     "data": {
      "image/png": "[encoded data removed]",
      "text/plain": [
       "<Figure size 432x288 with 2 Axes>"
      ]
     },
     "metadata": {},
     "output_type": "display_data"
    },
    {
     "data": {
      "text/plain": [
       "<Figure size 432x288 with 0 Axes>"
      ]
     },
     "metadata": {},
     "output_type": "display_data"
    }
   ],
   "source": [
    "# Confusion Matrix\n",
    "plot_confusion_matrix(pl, X_test, y_test)\n",
    "plt.show()\n",
    "plt.clf()"
   ]
  },
  {
   "cell_type": "code",
   "execution_count": 105,
   "id": "cdd5ce79",
   "metadata": {},
   "outputs": [
    {
     "data": {
      "image/png": "[encoded data removed]",
      "text/plain": [
       "<Figure size 432x288 with 1 Axes>"
      ]
     },
     "metadata": {},
     "output_type": "display_data"
    }
   ],
   "source": [
    "# ROC Curve and AUC\n",
    "fpr, tpr, _ = roc_curve(y_test, pl.predict(X_test))\n",
    "auc_score = auc(fpr, tpr)\n",
    "plt.title('ROC Curve')\n",
    "plt.plot(fpr, tpr, label='AUC = {:.2f}'.format(auc_score))\n",
    "plt.plot([0,1],[0,1],'r--')\n",
    "plt.xlim([-0.1,1.1])\n",
    "plt.ylim([-0.1,1.1])\n",
    "plt.ylabel('True Positive Rate')\n",
    "plt.xlabel('False Positive Rate')\n",
    "plt.legend(loc='lower right')\n",
    "plt.show()"
   ]
  },
  {
   "cell_type": "code",
   "execution_count": 106,
   "id": "01bd45b0",
   "metadata": {},
   "outputs": [],
   "source": [
    "# following is a for balanced model output\n",
    "submission = pd.DataFrame({'TransactionID': test_df['TransactionID'], 'isFraud': pl.predict(test_df)})\n",
    "submission.to_csv(\"base_spw30.csv\", index = False)"
   ]
  },
  {
   "cell_type": "markdown",
   "id": "fb148d78",
   "metadata": {},
   "source": [
    "Explore why such **high precision** but a relative **low auc**"
   ]
  },
  {
   "cell_type": "markdown",
   "id": "b655c860",
   "metadata": {},
   "source": [
    "## Balanced Dataset"
   ]
  },
  {
   "cell_type": "code",
   "execution_count": 21,
   "id": "dd2f3d72",
   "metadata": {},
   "outputs": [],
   "source": [
    "# create a balanced dataframe\n",
    "train_is_fraud = train_df[train_df['isFraud']==1]\n",
    "train_is_not_fraud = train_df[train_df['isFraud']==0].sample(n=len(train_is_fraud))\n",
    "train_dfb = pd.concat([train_is_fraud, train_is_not_fraud])\n",
    "\n",
    "# release memory\n",
    "del train_is_fraud\n",
    "del train_is_not_fraud"
   ]
  },
  {
   "cell_type": "code",
   "execution_count": 22,
   "id": "11dffeb2",
   "metadata": {},
   "outputs": [],
   "source": [
    "# Pipeline cross validated balanced\n",
    "pl_b = Pipeline(steps = [\n",
    "    ('preprocesser', preproc),\n",
    "    ('xgb_cl', xgb.XGBClassifier(use_label_encoder = False, eval_metric = 'logloss', tree_method = 'hist'))\n",
    "])"
   ]
  },
  {
   "cell_type": "code",
   "execution_count": 23,
   "id": "4beafccf",
   "metadata": {},
   "outputs": [],
   "source": [
    "X_train, X_test, y_train, y_test = train_test_split(train_dfb.drop(columns = 'isFraud'), train_dfb['isFraud'], random_state=1)"
   ]
  },
  {
   "cell_type": "code",
   "execution_count": 24,
   "id": "603aa7d2",
   "metadata": {},
   "outputs": [
    {
     "name": "stdout",
     "output_type": "stream",
     "text": [
      "CPU times: total: 16.2 s\n",
      "Wall time: 1.74 s\n"
     ]
    },
    {
     "data": {
      "text/html": [
       "<style>#sk-80be7e4e-bab7-43bc-b697-132f5eddf20c {color: black;background-color: white;}#sk-80be7e4e-bab7-43bc-b697-132f5eddf20c pre{padding: 0;}#sk-80be7e4e-bab7-43bc-b697-132f5eddf20c div.sk-toggleable {background-color: white;}#sk-80be7e4e-bab7-43bc-b697-132f5eddf20c label.sk-toggleable__label {cursor: pointer;display: block;width: 100%;margin-bottom: 0;padding: 0.2em 0.3em;box-sizing: border-box;text-align: center;}#sk-80be7e4e-bab7-43bc-b697-132f5eddf20c div.sk-toggleable__content {max-height: 0;max-width: 0;overflow: hidden;text-align: left;background-color: #f0f8ff;}#sk-80be7e4e-bab7-43bc-b697-132f5eddf20c div.sk-toggleable__content pre {margin: 0.2em;color: black;border-radius: 0.25em;background-color: #f0f8ff;}#sk-80be7e4e-bab7-43bc-b697-132f5eddf20c input.sk-toggleable__control:checked~div.sk-toggleable__content {max-height: 200px;max-width: 100%;overflow: auto;}#sk-80be7e4e-bab7-43bc-b697-132f5eddf20c div.sk-estimator input.sk-toggleable__control:checked~label.sk-toggleable__label {background-color: #d4ebff;}#sk-80be7e4e-bab7-43bc-b697-132f5eddf20c div.sk-label input.sk-toggleable__control:checked~label.sk-toggleable__label {background-color: #d4ebff;}#sk-80be7e4e-bab7-43bc-b697-132f5eddf20c input.sk-hidden--visually {border: 0;clip: rect(1px 1px 1px 1px);clip: rect(1px, 1px, 1px, 1px);height: 1px;margin: -1px;overflow: hidden;padding: 0;position: absolute;width: 1px;}#sk-80be7e4e-bab7-43bc-b697-132f5eddf20c div.sk-estimator {font-family: monospace;background-color: #f0f8ff;margin: 0.25em 0.25em;border: 1px dotted black;border-radius: 0.25em;box-sizing: border-box;}#sk-80be7e4e-bab7-43bc-b697-132f5eddf20c div.sk-estimator:hover {background-color: #d4ebff;}#sk-80be7e4e-bab7-43bc-b697-132f5eddf20c div.sk-parallel-item::after {content: \"\";width: 100%;border-bottom: 1px solid gray;flex-grow: 1;}#sk-80be7e4e-bab7-43bc-b697-132f5eddf20c div.sk-label:hover label.sk-toggleable__label {background-color: #d4ebff;}#sk-80be7e4e-bab7-43bc-b697-132f5eddf20c div.sk-serial::before {content: \"\";position: absolute;border-left: 1px solid gray;box-sizing: border-box;top: 2em;bottom: 0;left: 50%;}#sk-80be7e4e-bab7-43bc-b697-132f5eddf20c div.sk-serial {display: flex;flex-direction: column;align-items: center;background-color: white;}#sk-80be7e4e-bab7-43bc-b697-132f5eddf20c div.sk-item {z-index: 1;}#sk-80be7e4e-bab7-43bc-b697-132f5eddf20c div.sk-parallel {display: flex;align-items: stretch;justify-content: center;background-color: white;}#sk-80be7e4e-bab7-43bc-b697-132f5eddf20c div.sk-parallel-item {display: flex;flex-direction: column;position: relative;background-color: white;}#sk-80be7e4e-bab7-43bc-b697-132f5eddf20c div.sk-parallel-item:first-child::after {align-self: flex-end;width: 50%;}#sk-80be7e4e-bab7-43bc-b697-132f5eddf20c div.sk-parallel-item:last-child::after {align-self: flex-start;width: 50%;}#sk-80be7e4e-bab7-43bc-b697-132f5eddf20c div.sk-parallel-item:only-child::after {width: 0;}#sk-80be7e4e-bab7-43bc-b697-132f5eddf20c div.sk-dashed-wrapped {border: 1px dashed gray;margin: 0.2em;box-sizing: border-box;padding-bottom: 0.1em;background-color: white;position: relative;}#sk-80be7e4e-bab7-43bc-b697-132f5eddf20c div.sk-label label {font-family: monospace;font-weight: bold;background-color: white;display: inline-block;line-height: 1.2em;}#sk-80be7e4e-bab7-43bc-b697-132f5eddf20c div.sk-label-container {position: relative;z-index: 2;text-align: center;}#sk-80be7e4e-bab7-43bc-b697-132f5eddf20c div.sk-container {display: inline-block;position: relative;}</style><div id=\"sk-80be7e4e-bab7-43bc-b697-132f5eddf20c\" class\"sk-top-container\"><div class=\"sk-container\"><div class=\"sk-item sk-dashed-wrapped\"><div class=\"sk-label-container\"><div class=\"sk-label sk-toggleable\"><input class=\"sk-toggleable__control sk-hidden--visually\" id=\"d3a812f3-ea0f-4130-9aa2-e8f6e4775219\" type=\"checkbox\" ><label class=\"sk-toggleable__label\" for=\"d3a812f3-ea0f-4130-9aa2-e8f6e4775219\">Pipeline</label><div class=\"sk-toggleable__content\"><pre>Pipeline(steps=[('preprocesser',\n",
       "                 ColumnTransformer(transformers=[('ohe',\n",
       "                                                  OneHotEncoder(handle_unknown='ignore'),\n",
       "                                                  ['DeviceType', 'id_12',\n",
       "                                                   'id_15', 'id_16', 'id_23',\n",
       "                                                   'id_27', 'id_28', 'id_29',\n",
       "                                                   'id_32', 'id_34', 'id_35',\n",
       "                                                   'id_36', 'id_37', 'id_38',\n",
       "                                                   'TransactionDayOfWeek',\n",
       "                                                   'TransactionHour',\n",
       "                                                   'addr1_new', 'addr2_new',\n",
       "                                                   'ProductCD', 'card4',\n",
       "                                                   'card6', 'M1', 'M2', 'M3',\n",
       "                                                   'M4', 'M5', 'M6'...\n",
       "                               importance_type=None, interaction_constraints='',\n",
       "                               learning_rate=0.300000012, max_delta_step=0,\n",
       "                               max_depth=6, min_child_weight=1, missing=nan,\n",
       "                               monotone_constraints='()', n_estimators=100,\n",
       "                               n_jobs=12, num_parallel_tree=1, predictor='auto',\n",
       "                               random_state=0, reg_alpha=0, reg_lambda=1,\n",
       "                               scale_pos_weight=1, subsample=1,\n",
       "                               tree_method='hist', use_label_encoder=False,\n",
       "                               validate_parameters=1, verbosity=None))])</pre></div></div></div><div class=\"sk-serial\"><div class=\"sk-item sk-dashed-wrapped\"><div class=\"sk-label-container\"><div class=\"sk-label sk-toggleable\"><input class=\"sk-toggleable__control sk-hidden--visually\" id=\"896f1627-ce9c-4d0a-8b7a-da85be2dc7b0\" type=\"checkbox\" ><label class=\"sk-toggleable__label\" for=\"896f1627-ce9c-4d0a-8b7a-da85be2dc7b0\">preprocesser: ColumnTransformer</label><div class=\"sk-toggleable__content\"><pre>ColumnTransformer(transformers=[('ohe', OneHotEncoder(handle_unknown='ignore'),\n",
       "                                 ['DeviceType', 'id_12', 'id_15', 'id_16',\n",
       "                                  'id_23', 'id_27', 'id_28', 'id_29', 'id_32',\n",
       "                                  'id_34', 'id_35', 'id_36', 'id_37', 'id_38',\n",
       "                                  'TransactionDayOfWeek', 'TransactionHour',\n",
       "                                  'addr1_new', 'addr2_new', 'ProductCD',\n",
       "                                  'card4', 'card6', 'M1', 'M2', 'M3', 'M4',\n",
       "                                  'M5', 'M6', 'M7', 'M8', 'M9', ...]),\n",
       "                                ('log', FunctionTransformer(func=<ufunc 'log'>),\n",
       "                                 ['TransactionAmt']),\n",
       "                                ('identity',\n",
       "                                 FunctionTransformer(func=<function <lambda> at 0x00000201DCE654C0>),\n",
       "                                 ['C1', 'C2', 'C3', 'C4', 'C5', 'C6', 'C7',\n",
       "                                  'C8', 'C9', 'C10', 'C11', 'C12', 'C13', 'C14',\n",
       "                                  'dist1', 'dist2', 'TransactionDT', 'V1', 'V2',\n",
       "                                  'V3', 'V4', 'V5', 'V6', 'V7', 'V8', 'V9',\n",
       "                                  'V10', 'V11', 'V12', 'V13', ...])])</pre></div></div></div><div class=\"sk-parallel\"><div class=\"sk-parallel-item\"><div class=\"sk-item\"><div class=\"sk-label-container\"><div class=\"sk-label sk-toggleable\"><input class=\"sk-toggleable__control sk-hidden--visually\" id=\"27b6de72-62c8-4f05-ae3d-f3b90eb7a20e\" type=\"checkbox\" ><label class=\"sk-toggleable__label\" for=\"27b6de72-62c8-4f05-ae3d-f3b90eb7a20e\">ohe</label><div class=\"sk-toggleable__content\"><pre>['DeviceType', 'id_12', 'id_15', 'id_16', 'id_23', 'id_27', 'id_28', 'id_29', 'id_32', 'id_34', 'id_35', 'id_36', 'id_37', 'id_38', 'TransactionDayOfWeek', 'TransactionHour', 'addr1_new', 'addr2_new', 'ProductCD', 'card4', 'card6', 'M1', 'M2', 'M3', 'M4', 'M5', 'M6', 'M7', 'M8', 'M9', 'P_emaildomain_new', 'R_emaildomain_new']</pre></div></div></div><div class=\"sk-serial\"><div class=\"sk-item\"><div class=\"sk-estimator sk-toggleable\"><input class=\"sk-toggleable__control sk-hidden--visually\" id=\"733348c6-c90f-42ba-a274-6414ea96dd16\" type=\"checkbox\" ><label class=\"sk-toggleable__label\" for=\"733348c6-c90f-42ba-a274-6414ea96dd16\">OneHotEncoder</label><div class=\"sk-toggleable__content\"><pre>OneHotEncoder(handle_unknown='ignore')</pre></div></div></div></div></div></div><div class=\"sk-parallel-item\"><div class=\"sk-item\"><div class=\"sk-label-container\"><div class=\"sk-label sk-toggleable\"><input class=\"sk-toggleable__control sk-hidden--visually\" id=\"a5fb71c3-d32e-4413-9cb6-5285b2b71416\" type=\"checkbox\" ><label class=\"sk-toggleable__label\" for=\"a5fb71c3-d32e-4413-9cb6-5285b2b71416\">log</label><div class=\"sk-toggleable__content\"><pre>['TransactionAmt']</pre></div></div></div><div class=\"sk-serial\"><div class=\"sk-item\"><div class=\"sk-estimator sk-toggleable\"><input class=\"sk-toggleable__control sk-hidden--visually\" id=\"9350a8a9-1be2-4641-8fd7-60c05c2e68c0\" type=\"checkbox\" ><label class=\"sk-toggleable__label\" for=\"9350a8a9-1be2-4641-8fd7-60c05c2e68c0\">FunctionTransformer</label><div class=\"sk-toggleable__content\"><pre>FunctionTransformer(func=<ufunc 'log'>)</pre></div></div></div></div></div></div><div class=\"sk-parallel-item\"><div class=\"sk-item\"><div class=\"sk-label-container\"><div class=\"sk-label sk-toggleable\"><input class=\"sk-toggleable__control sk-hidden--visually\" id=\"f2bcf2f0-72db-4cdd-b7a8-2dc1323177a5\" type=\"checkbox\" ><label class=\"sk-toggleable__label\" for=\"f2bcf2f0-72db-4cdd-b7a8-2dc1323177a5\">identity</label><div class=\"sk-toggleable__content\"><pre>['C1', 'C2', 'C3', 'C4', 'C5', 'C6', 'C7', 'C8', 'C9', 'C10', 'C11', 'C12', 'C13', 'C14', 'dist1', 'dist2', 'TransactionDT', 'V1', 'V2', 'V3', 'V4', 'V5', 'V6', 'V7', 'V8', 'V9', 'V10', 'V11', 'V12', 'V13', 'V14', 'V15', 'V16', 'V17', 'V18', 'V19', 'V20', 'V21', 'V22', 'V23', 'V24', 'V25', 'V26', 'V27', 'V28', 'V29', 'V30', 'V31', 'V32', 'V33', 'V34', 'V35', 'V36', 'V37', 'V38', 'V39', 'V40', 'V41', 'V42', 'V43', 'V44', 'V45', 'V46', 'V47', 'V48', 'V49', 'V50', 'V51', 'V52', 'V53', 'V54', 'V55', 'V56', 'V57', 'V58', 'V59', 'V60', 'V61', 'V62', 'V63', 'V64', 'V65', 'V66', 'V67', 'V68', 'V69', 'V70', 'V71', 'V72', 'V73', 'V74', 'V75', 'V76', 'V77', 'V78', 'V79', 'V80', 'V81', 'V82', 'V83', 'V84', 'V85', 'V86', 'V87', 'V88', 'V89', 'V90', 'V91', 'V92', 'V93', 'V94', 'V95', 'V96', 'V97', 'V98', 'V99', 'V100', 'V101', 'V102', 'V103', 'V104', 'V105', 'V106', 'V107', 'V108', 'V109', 'V110', 'V111', 'V112', 'V113', 'V114', 'V115', 'V116', 'V117', 'V118', 'V119', 'V120', 'V121', 'V122', 'V123', 'V124', 'V125', 'V126', 'V127', 'V128', 'V129', 'V130', 'V131', 'V132', 'V133', 'V134', 'V135', 'V136', 'V137', 'V138', 'V139', 'V140', 'V141', 'V142', 'V143', 'V144', 'V145', 'V146', 'V147', 'V148', 'V149', 'V150', 'V151', 'V152', 'V153', 'V154', 'V155', 'V156', 'V157', 'V158', 'V159', 'V160', 'V161', 'V162', 'V163', 'V164', 'V165', 'V166', 'V167', 'V168', 'V169', 'V170', 'V171', 'V172', 'V173', 'V174', 'V175', 'V176', 'V177', 'V178', 'V179', 'V180', 'V181', 'V182', 'V183', 'V184', 'V185', 'V186', 'V187', 'V188', 'V189', 'V190', 'V191', 'V192', 'V193', 'V194', 'V195', 'V196', 'V197', 'V198', 'V199', 'V200', 'V201', 'V202', 'V203', 'V204', 'V205', 'V206', 'V207', 'V208', 'V209', 'V210', 'V211', 'V212', 'V213', 'V214', 'V215', 'V216', 'V217', 'V218', 'V219', 'V220', 'V221', 'V222', 'V223', 'V224', 'V225', 'V226', 'V227', 'V228', 'V229', 'V230', 'V231', 'V232', 'V233', 'V234', 'V235', 'V236', 'V237', 'V238', 'V239', 'V240', 'V241', 'V242', 'V243', 'V244', 'V245', 'V246', 'V247', 'V248', 'V249', 'V250', 'V251', 'V252', 'V253', 'V254', 'V255', 'V256', 'V257', 'V258', 'V259', 'V260', 'V261', 'V262', 'V263', 'V264', 'V265', 'V266', 'V267', 'V268', 'V269', 'V270', 'V271', 'V272', 'V273', 'V274', 'V275', 'V276', 'V277', 'V278', 'V279', 'V280', 'V281', 'V282', 'V283', 'V284', 'V285', 'V286', 'V287', 'V288', 'V289', 'V290', 'V291', 'V292', 'V293', 'V294', 'V295', 'V296', 'V297', 'V298', 'V299', 'V300', 'V301', 'V302', 'V303', 'V304', 'V305', 'V306', 'V307', 'V308', 'V309', 'V310', 'V311', 'V312', 'V313', 'V314', 'V315', 'V316', 'V317', 'V318', 'V319', 'V320', 'V321', 'V322', 'V323', 'V324', 'V325', 'V326', 'V327', 'V328', 'V329', 'V330', 'V331', 'V332', 'V333', 'V334', 'V335', 'V336', 'V337', 'V338', 'V339']</pre></div></div></div><div class=\"sk-serial\"><div class=\"sk-item\"><div class=\"sk-estimator sk-toggleable\"><input class=\"sk-toggleable__control sk-hidden--visually\" id=\"536d3eb4-8f18-4bf2-ac8c-a9cd488b6154\" type=\"checkbox\" ><label class=\"sk-toggleable__label\" for=\"536d3eb4-8f18-4bf2-ac8c-a9cd488b6154\">FunctionTransformer</label><div class=\"sk-toggleable__content\"><pre>FunctionTransformer(func=<function <lambda> at 0x00000201DCE654C0>)</pre></div></div></div></div></div></div></div></div><div class=\"sk-item\"><div class=\"sk-estimator sk-toggleable\"><input class=\"sk-toggleable__control sk-hidden--visually\" id=\"4c996d3e-911b-4f0b-ab02-8456e09fa2ee\" type=\"checkbox\" ><label class=\"sk-toggleable__label\" for=\"4c996d3e-911b-4f0b-ab02-8456e09fa2ee\">XGBClassifier</label><div class=\"sk-toggleable__content\"><pre>XGBClassifier(base_score=0.5, booster='gbtree', colsample_bylevel=1,\n",
       "              colsample_bynode=1, colsample_bytree=1, enable_categorical=False,\n",
       "              eval_metric='logloss', gamma=0, gpu_id=-1, importance_type=None,\n",
       "              interaction_constraints='', learning_rate=0.300000012,\n",
       "              max_delta_step=0, max_depth=6, min_child_weight=1, missing=nan,\n",
       "              monotone_constraints='()', n_estimators=100, n_jobs=12,\n",
       "              num_parallel_tree=1, predictor='auto', random_state=0,\n",
       "              reg_alpha=0, reg_lambda=1, scale_pos_weight=1, subsample=1,\n",
       "              tree_method='hist', use_label_encoder=False,\n",
       "              validate_parameters=1, verbosity=None)</pre></div></div></div></div></div></div></div>"
      ],
      "text/plain": [
       "Pipeline(steps=[('preprocesser',\n",
       "                 ColumnTransformer(transformers=[('ohe',\n",
       "                                                  OneHotEncoder(handle_unknown='ignore'),\n",
       "                                                  ['DeviceType', 'id_12',\n",
       "                                                   'id_15', 'id_16', 'id_23',\n",
       "                                                   'id_27', 'id_28', 'id_29',\n",
       "                                                   'id_32', 'id_34', 'id_35',\n",
       "                                                   'id_36', 'id_37', 'id_38',\n",
       "                                                   'TransactionDayOfWeek',\n",
       "                                                   'TransactionHour',\n",
       "                                                   'addr1_new', 'addr2_new',\n",
       "                                                   'ProductCD', 'card4',\n",
       "                                                   'card6', 'M1', 'M2', 'M3',\n",
       "                                                   'M4', 'M5', 'M6'...\n",
       "                               importance_type=None, interaction_constraints='',\n",
       "                               learning_rate=0.300000012, max_delta_step=0,\n",
       "                               max_depth=6, min_child_weight=1, missing=nan,\n",
       "                               monotone_constraints='()', n_estimators=100,\n",
       "                               n_jobs=12, num_parallel_tree=1, predictor='auto',\n",
       "                               random_state=0, reg_alpha=0, reg_lambda=1,\n",
       "                               scale_pos_weight=1, subsample=1,\n",
       "                               tree_method='hist', use_label_encoder=False,\n",
       "                               validate_parameters=1, verbosity=None))])"
      ]
     },
     "execution_count": 24,
     "metadata": {},
     "output_type": "execute_result"
    }
   ],
   "source": [
    "%%time\n",
    "# fit the train data\n",
    "pl_b.fit(X_train, y_train)"
   ]
  },
  {
   "cell_type": "code",
   "execution_count": 25,
   "id": "d546333f",
   "metadata": {},
   "outputs": [
    {
     "data": {
      "text/plain": [
       "0.9037555655933407"
      ]
     },
     "execution_count": 25,
     "metadata": {},
     "output_type": "execute_result"
    }
   ],
   "source": [
    "# Accuracy on train data\n",
    "pl_b.score(X_train, y_train)"
   ]
  },
  {
   "cell_type": "code",
   "execution_count": 26,
   "id": "23d2a484",
   "metadata": {},
   "outputs": [
    {
     "data": {
      "text/plain": [
       "0.8493999225706543"
      ]
     },
     "execution_count": 26,
     "metadata": {},
     "output_type": "execute_result"
    }
   ],
   "source": [
    "# Accuracy on test data\n",
    "pl_b.score(X_test, y_test)"
   ]
  },
  {
   "cell_type": "code",
   "execution_count": 27,
   "id": "c2a59fc5",
   "metadata": {},
   "outputs": [
    {
     "data": {
      "text/plain": [
       "0.8128116609129268"
      ]
     },
     "execution_count": 27,
     "metadata": {},
     "output_type": "execute_result"
    }
   ],
   "source": [
    "# Recall on test data\n",
    "recall_score(y_test, pl_b.predict(X_test))"
   ]
  },
  {
   "cell_type": "code",
   "execution_count": 28,
   "id": "e09c9509",
   "metadata": {},
   "outputs": [
    {
     "data": {
      "image/png": "[encoded data removed]",
      "text/plain": [
       "<Figure size 432x288 with 2 Axes>"
      ]
     },
     "metadata": {},
     "output_type": "display_data"
    },
    {
     "data": {
      "text/plain": [
       "<Figure size 432x288 with 0 Axes>"
      ]
     },
     "metadata": {},
     "output_type": "display_data"
    }
   ],
   "source": [
    "# Confusion Matrix\n",
    "plot_confusion_matrix(pl_b, X_test, y_test)\n",
    "plt.show()\n",
    "plt.clf()"
   ]
  },
  {
   "cell_type": "code",
   "execution_count": 29,
   "id": "f0843437",
   "metadata": {},
   "outputs": [
    {
     "data": {
      "image/png": "[encoded data removed]",
      "text/plain": [
       "<Figure size 432x288 with 1 Axes>"
      ]
     },
     "metadata": {},
     "output_type": "display_data"
    }
   ],
   "source": [
    "# ROC Curve and AUC\n",
    "fpr, tpr, _ = roc_curve(y_test, pl_b.predict(X_test))\n",
    "auc_score = auc(fpr, tpr)\n",
    "plt.title('ROC Curve')\n",
    "plt.plot(fpr, tpr, label='AUC = {:.2f}'.format(auc_score))\n",
    "plt.plot([0,1],[0,1],'r--')\n",
    "plt.xlim([-0.1,1.1])\n",
    "plt.ylim([-0.1,1.1])\n",
    "plt.ylabel('True Positive Rate')\n",
    "plt.xlabel('False Positive Rate')\n",
    "plt.legend(loc='lower right')\n",
    "plt.show()"
   ]
  },
  {
   "cell_type": "markdown",
   "id": "b2d32369",
   "metadata": {},
   "source": [
    "It seems like due to the imbalanced data, we lost suffered from a low recall. Therefore, we should use grid search to solve for the imbalance issue on XGBoost and dataset."
   ]
  },
  {
   "cell_type": "markdown",
   "id": "b292203c",
   "metadata": {},
   "source": [
    "## Grid Search"
   ]
  },
  {
   "cell_type": "code",
   "execution_count": 30,
   "id": "2b607206",
   "metadata": {},
   "outputs": [],
   "source": [
    "X_train, X_test, y_train, y_test = train_test_split(train_df.drop(columns = 'isFraud'), train_df['isFraud'], random_state=1)"
   ]
  },
  {
   "cell_type": "code",
   "execution_count": 31,
   "id": "9f958bfe",
   "metadata": {},
   "outputs": [],
   "source": [
    "# hyperparameters to tune\n",
    "hyperparameters = {\n",
    "    \"xgb_cl__scale_pos_weight\": [1, 10, 25, 50, 75, 99, 100, 1000]\n",
    "}\n",
    "# define cv (kfold)\n",
    "cv = RepeatedStratifiedKFold(n_splits=3, n_repeats=2, random_state=1)\n",
    "# define searcher\n",
    "grid = GridSearchCV(pl, hyperparameters, cv=cv, scoring='roc_auc') # use auc to judge performance (for a good recall...)"
   ]
  },
  {
   "cell_type": "code",
   "execution_count": 32,
   "id": "5c0ec6c4",
   "metadata": {},
   "outputs": [
    {
     "name": "stdout",
     "output_type": "stream",
     "text": [
      "CPU times: total: 1h 1min 7s\n",
      "Wall time: 8min 17s\n"
     ]
    },
    {
     "data": {
      "text/html": [
       "<style>#sk-608e83df-be8b-42b7-85ef-516e28fabd91 {color: black;background-color: white;}#sk-608e83df-be8b-42b7-85ef-516e28fabd91 pre{padding: 0;}#sk-608e83df-be8b-42b7-85ef-516e28fabd91 div.sk-toggleable {background-color: white;}#sk-608e83df-be8b-42b7-85ef-516e28fabd91 label.sk-toggleable__label {cursor: pointer;display: block;width: 100%;margin-bottom: 0;padding: 0.2em 0.3em;box-sizing: border-box;text-align: center;}#sk-608e83df-be8b-42b7-85ef-516e28fabd91 div.sk-toggleable__content {max-height: 0;max-width: 0;overflow: hidden;text-align: left;background-color: #f0f8ff;}#sk-608e83df-be8b-42b7-85ef-516e28fabd91 div.sk-toggleable__content pre {margin: 0.2em;color: black;border-radius: 0.25em;background-color: #f0f8ff;}#sk-608e83df-be8b-42b7-85ef-516e28fabd91 input.sk-toggleable__control:checked~div.sk-toggleable__content {max-height: 200px;max-width: 100%;overflow: auto;}#sk-608e83df-be8b-42b7-85ef-516e28fabd91 div.sk-estimator input.sk-toggleable__control:checked~label.sk-toggleable__label {background-color: #d4ebff;}#sk-608e83df-be8b-42b7-85ef-516e28fabd91 div.sk-label input.sk-toggleable__control:checked~label.sk-toggleable__label {background-color: #d4ebff;}#sk-608e83df-be8b-42b7-85ef-516e28fabd91 input.sk-hidden--visually {border: 0;clip: rect(1px 1px 1px 1px);clip: rect(1px, 1px, 1px, 1px);height: 1px;margin: -1px;overflow: hidden;padding: 0;position: absolute;width: 1px;}#sk-608e83df-be8b-42b7-85ef-516e28fabd91 div.sk-estimator {font-family: monospace;background-color: #f0f8ff;margin: 0.25em 0.25em;border: 1px dotted black;border-radius: 0.25em;box-sizing: border-box;}#sk-608e83df-be8b-42b7-85ef-516e28fabd91 div.sk-estimator:hover {background-color: #d4ebff;}#sk-608e83df-be8b-42b7-85ef-516e28fabd91 div.sk-parallel-item::after {content: \"\";width: 100%;border-bottom: 1px solid gray;flex-grow: 1;}#sk-608e83df-be8b-42b7-85ef-516e28fabd91 div.sk-label:hover label.sk-toggleable__label {background-color: #d4ebff;}#sk-608e83df-be8b-42b7-85ef-516e28fabd91 div.sk-serial::before {content: \"\";position: absolute;border-left: 1px solid gray;box-sizing: border-box;top: 2em;bottom: 0;left: 50%;}#sk-608e83df-be8b-42b7-85ef-516e28fabd91 div.sk-serial {display: flex;flex-direction: column;align-items: center;background-color: white;}#sk-608e83df-be8b-42b7-85ef-516e28fabd91 div.sk-item {z-index: 1;}#sk-608e83df-be8b-42b7-85ef-516e28fabd91 div.sk-parallel {display: flex;align-items: stretch;justify-content: center;background-color: white;}#sk-608e83df-be8b-42b7-85ef-516e28fabd91 div.sk-parallel-item {display: flex;flex-direction: column;position: relative;background-color: white;}#sk-608e83df-be8b-42b7-85ef-516e28fabd91 div.sk-parallel-item:first-child::after {align-self: flex-end;width: 50%;}#sk-608e83df-be8b-42b7-85ef-516e28fabd91 div.sk-parallel-item:last-child::after {align-self: flex-start;width: 50%;}#sk-608e83df-be8b-42b7-85ef-516e28fabd91 div.sk-parallel-item:only-child::after {width: 0;}#sk-608e83df-be8b-42b7-85ef-516e28fabd91 div.sk-dashed-wrapped {border: 1px dashed gray;margin: 0.2em;box-sizing: border-box;padding-bottom: 0.1em;background-color: white;position: relative;}#sk-608e83df-be8b-42b7-85ef-516e28fabd91 div.sk-label label {font-family: monospace;font-weight: bold;background-color: white;display: inline-block;line-height: 1.2em;}#sk-608e83df-be8b-42b7-85ef-516e28fabd91 div.sk-label-container {position: relative;z-index: 2;text-align: center;}#sk-608e83df-be8b-42b7-85ef-516e28fabd91 div.sk-container {display: inline-block;position: relative;}</style><div id=\"sk-608e83df-be8b-42b7-85ef-516e28fabd91\" class\"sk-top-container\"><div class=\"sk-container\"><div class=\"sk-item sk-dashed-wrapped\"><div class=\"sk-label-container\"><div class=\"sk-label sk-toggleable\"><input class=\"sk-toggleable__control sk-hidden--visually\" id=\"e3b34453-3c10-44a8-ae4d-557045c4f388\" type=\"checkbox\" ><label class=\"sk-toggleable__label\" for=\"e3b34453-3c10-44a8-ae4d-557045c4f388\">GridSearchCV</label><div class=\"sk-toggleable__content\"><pre>GridSearchCV(cv=RepeatedStratifiedKFold(n_repeats=2, n_splits=3, random_state=1),\n",
       "             estimator=Pipeline(steps=[('preprocesser',\n",
       "                                        ColumnTransformer(transformers=[('ohe',\n",
       "                                                                         OneHotEncoder(handle_unknown='ignore'),\n",
       "                                                                         ['DeviceType',\n",
       "                                                                          'id_12',\n",
       "                                                                          'id_15',\n",
       "                                                                          'id_16',\n",
       "                                                                          'id_23',\n",
       "                                                                          'id_27',\n",
       "                                                                          'id_28',\n",
       "                                                                          'id_29',\n",
       "                                                                          'id_32',\n",
       "                                                                          'id_34',\n",
       "                                                                          'id_35',\n",
       "                                                                          'id_36',\n",
       "                                                                          'id_37',\n",
       "                                                                          'id_38',\n",
       "                                                                          'TransactionDayOfWeek',\n",
       "                                                                          'Transacti...\n",
       "                                                      min_child_weight=1,\n",
       "                                                      missing=nan,\n",
       "                                                      monotone_constraints='()',\n",
       "                                                      n_estimators=100,\n",
       "                                                      n_jobs=12,\n",
       "                                                      num_parallel_tree=1,\n",
       "                                                      predictor='auto',\n",
       "                                                      random_state=0,\n",
       "                                                      reg_alpha=0, reg_lambda=1,\n",
       "                                                      scale_pos_weight=1,\n",
       "                                                      subsample=1,\n",
       "                                                      tree_method='hist',\n",
       "                                                      use_label_encoder=False,\n",
       "                                                      validate_parameters=1,\n",
       "                                                      verbosity=None))]),\n",
       "             param_grid={'xgb_cl__scale_pos_weight': [1, 10, 25, 50, 75, 99,\n",
       "                                                      100, 1000]},\n",
       "             scoring='roc_auc')</pre></div></div></div><div class=\"sk-parallel\"><div class=\"sk-parallel-item\"><div class=\"sk-item\"><div class=\"sk-serial\"><div class=\"sk-item\"><div class=\"sk-serial\"><div class=\"sk-item sk-dashed-wrapped\"><div class=\"sk-label-container\"><div class=\"sk-label sk-toggleable\"><input class=\"sk-toggleable__control sk-hidden--visually\" id=\"03baa2fc-57ab-4262-a7c5-3691710fc1f9\" type=\"checkbox\" ><label class=\"sk-toggleable__label\" for=\"03baa2fc-57ab-4262-a7c5-3691710fc1f9\">preprocesser: ColumnTransformer</label><div class=\"sk-toggleable__content\"><pre>ColumnTransformer(transformers=[('ohe', OneHotEncoder(handle_unknown='ignore'),\n",
       "                                 ['DeviceType', 'id_12', 'id_15', 'id_16',\n",
       "                                  'id_23', 'id_27', 'id_28', 'id_29', 'id_32',\n",
       "                                  'id_34', 'id_35', 'id_36', 'id_37', 'id_38',\n",
       "                                  'TransactionDayOfWeek', 'TransactionHour',\n",
       "                                  'addr1_new', 'addr2_new', 'ProductCD',\n",
       "                                  'card4', 'card6', 'M1', 'M2', 'M3', 'M4',\n",
       "                                  'M5', 'M6', 'M7', 'M8', 'M9', ...]),\n",
       "                                ('log', FunctionTransformer(func=<ufunc 'log'>),\n",
       "                                 ['TransactionAmt']),\n",
       "                                ('identity',\n",
       "                                 FunctionTransformer(func=<function <lambda> at 0x00000201DCE654C0>),\n",
       "                                 ['C1', 'C2', 'C3', 'C4', 'C5', 'C6', 'C7',\n",
       "                                  'C8', 'C9', 'C10', 'C11', 'C12', 'C13', 'C14',\n",
       "                                  'dist1', 'dist2', 'TransactionDT', 'V1', 'V2',\n",
       "                                  'V3', 'V4', 'V5', 'V6', 'V7', 'V8', 'V9',\n",
       "                                  'V10', 'V11', 'V12', 'V13', ...])])</pre></div></div></div><div class=\"sk-parallel\"><div class=\"sk-parallel-item\"><div class=\"sk-item\"><div class=\"sk-label-container\"><div class=\"sk-label sk-toggleable\"><input class=\"sk-toggleable__control sk-hidden--visually\" id=\"ac647742-fbf9-4c11-9dad-06419252776c\" type=\"checkbox\" ><label class=\"sk-toggleable__label\" for=\"ac647742-fbf9-4c11-9dad-06419252776c\">ohe</label><div class=\"sk-toggleable__content\"><pre>['DeviceType', 'id_12', 'id_15', 'id_16', 'id_23', 'id_27', 'id_28', 'id_29', 'id_32', 'id_34', 'id_35', 'id_36', 'id_37', 'id_38', 'TransactionDayOfWeek', 'TransactionHour', 'addr1_new', 'addr2_new', 'ProductCD', 'card4', 'card6', 'M1', 'M2', 'M3', 'M4', 'M5', 'M6', 'M7', 'M8', 'M9', 'P_emaildomain_new', 'R_emaildomain_new']</pre></div></div></div><div class=\"sk-serial\"><div class=\"sk-item\"><div class=\"sk-estimator sk-toggleable\"><input class=\"sk-toggleable__control sk-hidden--visually\" id=\"b91a2040-007c-4b50-bdd4-fcd21f89114d\" type=\"checkbox\" ><label class=\"sk-toggleable__label\" for=\"b91a2040-007c-4b50-bdd4-fcd21f89114d\">OneHotEncoder</label><div class=\"sk-toggleable__content\"><pre>OneHotEncoder(handle_unknown='ignore')</pre></div></div></div></div></div></div><div class=\"sk-parallel-item\"><div class=\"sk-item\"><div class=\"sk-label-container\"><div class=\"sk-label sk-toggleable\"><input class=\"sk-toggleable__control sk-hidden--visually\" id=\"8f85ff0b-994f-48b3-91e8-8cfb86a7c61a\" type=\"checkbox\" ><label class=\"sk-toggleable__label\" for=\"8f85ff0b-994f-48b3-91e8-8cfb86a7c61a\">log</label><div class=\"sk-toggleable__content\"><pre>['TransactionAmt']</pre></div></div></div><div class=\"sk-serial\"><div class=\"sk-item\"><div class=\"sk-estimator sk-toggleable\"><input class=\"sk-toggleable__control sk-hidden--visually\" id=\"6dc6d04b-8a42-4750-8a3b-1a255686d839\" type=\"checkbox\" ><label class=\"sk-toggleable__label\" for=\"6dc6d04b-8a42-4750-8a3b-1a255686d839\">FunctionTransformer</label><div class=\"sk-toggleable__content\"><pre>FunctionTransformer(func=<ufunc 'log'>)</pre></div></div></div></div></div></div><div class=\"sk-parallel-item\"><div class=\"sk-item\"><div class=\"sk-label-container\"><div class=\"sk-label sk-toggleable\"><input class=\"sk-toggleable__control sk-hidden--visually\" id=\"6db3fc57-752d-477d-a383-218eda2cd4af\" type=\"checkbox\" ><label class=\"sk-toggleable__label\" for=\"6db3fc57-752d-477d-a383-218eda2cd4af\">identity</label><div class=\"sk-toggleable__content\"><pre>['C1', 'C2', 'C3', 'C4', 'C5', 'C6', 'C7', 'C8', 'C9', 'C10', 'C11', 'C12', 'C13', 'C14', 'dist1', 'dist2', 'TransactionDT', 'V1', 'V2', 'V3', 'V4', 'V5', 'V6', 'V7', 'V8', 'V9', 'V10', 'V11', 'V12', 'V13', 'V14', 'V15', 'V16', 'V17', 'V18', 'V19', 'V20', 'V21', 'V22', 'V23', 'V24', 'V25', 'V26', 'V27', 'V28', 'V29', 'V30', 'V31', 'V32', 'V33', 'V34', 'V35', 'V36', 'V37', 'V38', 'V39', 'V40', 'V41', 'V42', 'V43', 'V44', 'V45', 'V46', 'V47', 'V48', 'V49', 'V50', 'V51', 'V52', 'V53', 'V54', 'V55', 'V56', 'V57', 'V58', 'V59', 'V60', 'V61', 'V62', 'V63', 'V64', 'V65', 'V66', 'V67', 'V68', 'V69', 'V70', 'V71', 'V72', 'V73', 'V74', 'V75', 'V76', 'V77', 'V78', 'V79', 'V80', 'V81', 'V82', 'V83', 'V84', 'V85', 'V86', 'V87', 'V88', 'V89', 'V90', 'V91', 'V92', 'V93', 'V94', 'V95', 'V96', 'V97', 'V98', 'V99', 'V100', 'V101', 'V102', 'V103', 'V104', 'V105', 'V106', 'V107', 'V108', 'V109', 'V110', 'V111', 'V112', 'V113', 'V114', 'V115', 'V116', 'V117', 'V118', 'V119', 'V120', 'V121', 'V122', 'V123', 'V124', 'V125', 'V126', 'V127', 'V128', 'V129', 'V130', 'V131', 'V132', 'V133', 'V134', 'V135', 'V136', 'V137', 'V138', 'V139', 'V140', 'V141', 'V142', 'V143', 'V144', 'V145', 'V146', 'V147', 'V148', 'V149', 'V150', 'V151', 'V152', 'V153', 'V154', 'V155', 'V156', 'V157', 'V158', 'V159', 'V160', 'V161', 'V162', 'V163', 'V164', 'V165', 'V166', 'V167', 'V168', 'V169', 'V170', 'V171', 'V172', 'V173', 'V174', 'V175', 'V176', 'V177', 'V178', 'V179', 'V180', 'V181', 'V182', 'V183', 'V184', 'V185', 'V186', 'V187', 'V188', 'V189', 'V190', 'V191', 'V192', 'V193', 'V194', 'V195', 'V196', 'V197', 'V198', 'V199', 'V200', 'V201', 'V202', 'V203', 'V204', 'V205', 'V206', 'V207', 'V208', 'V209', 'V210', 'V211', 'V212', 'V213', 'V214', 'V215', 'V216', 'V217', 'V218', 'V219', 'V220', 'V221', 'V222', 'V223', 'V224', 'V225', 'V226', 'V227', 'V228', 'V229', 'V230', 'V231', 'V232', 'V233', 'V234', 'V235', 'V236', 'V237', 'V238', 'V239', 'V240', 'V241', 'V242', 'V243', 'V244', 'V245', 'V246', 'V247', 'V248', 'V249', 'V250', 'V251', 'V252', 'V253', 'V254', 'V255', 'V256', 'V257', 'V258', 'V259', 'V260', 'V261', 'V262', 'V263', 'V264', 'V265', 'V266', 'V267', 'V268', 'V269', 'V270', 'V271', 'V272', 'V273', 'V274', 'V275', 'V276', 'V277', 'V278', 'V279', 'V280', 'V281', 'V282', 'V283', 'V284', 'V285', 'V286', 'V287', 'V288', 'V289', 'V290', 'V291', 'V292', 'V293', 'V294', 'V295', 'V296', 'V297', 'V298', 'V299', 'V300', 'V301', 'V302', 'V303', 'V304', 'V305', 'V306', 'V307', 'V308', 'V309', 'V310', 'V311', 'V312', 'V313', 'V314', 'V315', 'V316', 'V317', 'V318', 'V319', 'V320', 'V321', 'V322', 'V323', 'V324', 'V325', 'V326', 'V327', 'V328', 'V329', 'V330', 'V331', 'V332', 'V333', 'V334', 'V335', 'V336', 'V337', 'V338', 'V339']</pre></div></div></div><div class=\"sk-serial\"><div class=\"sk-item\"><div class=\"sk-estimator sk-toggleable\"><input class=\"sk-toggleable__control sk-hidden--visually\" id=\"cb171d09-bdb9-4652-894c-504a1bc39f94\" type=\"checkbox\" ><label class=\"sk-toggleable__label\" for=\"cb171d09-bdb9-4652-894c-504a1bc39f94\">FunctionTransformer</label><div class=\"sk-toggleable__content\"><pre>FunctionTransformer(func=<function <lambda> at 0x00000201DCE654C0>)</pre></div></div></div></div></div></div></div></div><div class=\"sk-item\"><div class=\"sk-estimator sk-toggleable\"><input class=\"sk-toggleable__control sk-hidden--visually\" id=\"47634459-6a30-4dc4-9ddd-b46a67dd2554\" type=\"checkbox\" ><label class=\"sk-toggleable__label\" for=\"47634459-6a30-4dc4-9ddd-b46a67dd2554\">XGBClassifier</label><div class=\"sk-toggleable__content\"><pre>XGBClassifier(base_score=0.5, booster='gbtree', colsample_bylevel=1,\n",
       "              colsample_bynode=1, colsample_bytree=1, enable_categorical=False,\n",
       "              eval_metric='logloss', gamma=0, gpu_id=-1, importance_type=None,\n",
       "              interaction_constraints='', learning_rate=0.300000012,\n",
       "              max_delta_step=0, max_depth=6, min_child_weight=1, missing=nan,\n",
       "              monotone_constraints='()', n_estimators=100, n_jobs=12,\n",
       "              num_parallel_tree=1, predictor='auto', random_state=0,\n",
       "              reg_alpha=0, reg_lambda=1, scale_pos_weight=1, subsample=1,\n",
       "              tree_method='hist', use_label_encoder=False,\n",
       "              validate_parameters=1, verbosity=None)</pre></div></div></div></div></div></div></div></div></div></div></div></div>"
      ],
      "text/plain": [
       "GridSearchCV(cv=RepeatedStratifiedKFold(n_repeats=2, n_splits=3, random_state=1),\n",
       "             estimator=Pipeline(steps=[('preprocesser',\n",
       "                                        ColumnTransformer(transformers=[('ohe',\n",
       "                                                                         OneHotEncoder(handle_unknown='ignore'),\n",
       "                                                                         ['DeviceType',\n",
       "                                                                          'id_12',\n",
       "                                                                          'id_15',\n",
       "                                                                          'id_16',\n",
       "                                                                          'id_23',\n",
       "                                                                          'id_27',\n",
       "                                                                          'id_28',\n",
       "                                                                          'id_29',\n",
       "                                                                          'id_32',\n",
       "                                                                          'id_34',\n",
       "                                                                          'id_35',\n",
       "                                                                          'id_36',\n",
       "                                                                          'id_37',\n",
       "                                                                          'id_38',\n",
       "                                                                          'TransactionDayOfWeek',\n",
       "                                                                          'Transacti...\n",
       "                                                      min_child_weight=1,\n",
       "                                                      missing=nan,\n",
       "                                                      monotone_constraints='()',\n",
       "                                                      n_estimators=100,\n",
       "                                                      n_jobs=12,\n",
       "                                                      num_parallel_tree=1,\n",
       "                                                      predictor='auto',\n",
       "                                                      random_state=0,\n",
       "                                                      reg_alpha=0, reg_lambda=1,\n",
       "                                                      scale_pos_weight=1,\n",
       "                                                      subsample=1,\n",
       "                                                      tree_method='hist',\n",
       "                                                      use_label_encoder=False,\n",
       "                                                      validate_parameters=1,\n",
       "                                                      verbosity=None))]),\n",
       "             param_grid={'xgb_cl__scale_pos_weight': [1, 10, 25, 50, 75, 99,\n",
       "                                                      100, 1000]},\n",
       "             scoring='roc_auc')"
      ]
     },
     "execution_count": 32,
     "metadata": {},
     "output_type": "execute_result"
    }
   ],
   "source": [
    "%%time\n",
    "# fit and find the best\n",
    "grid.fit(X_train, y_train)"
   ]
  },
  {
   "cell_type": "code",
   "execution_count": 33,
   "id": "9f073c87",
   "metadata": {},
   "outputs": [],
   "source": [
    "grid_result = grid"
   ]
  },
  {
   "cell_type": "code",
   "execution_count": 34,
   "id": "e3509fc0",
   "metadata": {},
   "outputs": [
    {
     "name": "stdout",
     "output_type": "stream",
     "text": [
      "Best: 0.929184 using {'xgb_cl__scale_pos_weight': 10}\n"
     ]
    }
   ],
   "source": [
    "# report the best configuration\n",
    "print(\"Best: %f using %s\" % (grid_result.best_score_, grid_result.best_params_))"
   ]
  },
  {
   "cell_type": "code",
   "execution_count": 35,
   "id": "86ac49f2",
   "metadata": {},
   "outputs": [
    {
     "name": "stdout",
     "output_type": "stream",
     "text": [
      "0.924895 (0.002813) with: {'xgb_cl__scale_pos_weight': 1}\n",
      "0.929184 (0.002066) with: {'xgb_cl__scale_pos_weight': 10}\n",
      "0.927174 (0.002126) with: {'xgb_cl__scale_pos_weight': 25}\n",
      "0.925584 (0.002350) with: {'xgb_cl__scale_pos_weight': 50}\n",
      "0.922659 (0.002431) with: {'xgb_cl__scale_pos_weight': 75}\n",
      "0.922043 (0.002830) with: {'xgb_cl__scale_pos_weight': 99}\n",
      "0.921596 (0.002510) with: {'xgb_cl__scale_pos_weight': 100}\n",
      "0.898795 (0.002073) with: {'xgb_cl__scale_pos_weight': 1000}\n"
     ]
    }
   ],
   "source": [
    "# report all configurations\n",
    "means = grid_result.cv_results_['mean_test_score']\n",
    "stds = grid_result.cv_results_['std_test_score']\n",
    "params = grid_result.cv_results_['params']\n",
    "for mean, stdev, param in zip(means, stds, params):\n",
    "    print(\"%f (%f) with: %r\" % (mean, stdev, param))"
   ]
  },
  {
   "cell_type": "markdown",
   "id": "93b1eefc",
   "metadata": {},
   "source": [
    "### Evaluation"
   ]
  },
  {
   "cell_type": "code",
   "execution_count": 36,
   "id": "d5eeb72f",
   "metadata": {},
   "outputs": [
    {
     "data": {
      "text/plain": [
       "0.9592178500030407"
      ]
     },
     "execution_count": 36,
     "metadata": {},
     "output_type": "execute_result"
    }
   ],
   "source": [
    "# Accuracy on train data\n",
    "grid.score(X_train, y_train)"
   ]
  },
  {
   "cell_type": "code",
   "execution_count": 37,
   "id": "035b334e",
   "metadata": {},
   "outputs": [
    {
     "data": {
      "text/plain": [
       "0.934838908725409"
      ]
     },
     "execution_count": 37,
     "metadata": {},
     "output_type": "execute_result"
    }
   ],
   "source": [
    "# Accuracy on test data\n",
    "grid.score(X_test, y_test)"
   ]
  },
  {
   "cell_type": "code",
   "execution_count": 38,
   "id": "01a09d1d",
   "metadata": {},
   "outputs": [
    {
     "data": {
      "text/plain": [
       "0.6967691708836123"
      ]
     },
     "execution_count": 38,
     "metadata": {},
     "output_type": "execute_result"
    }
   ],
   "source": [
    "# Recall on test data\n",
    "recall_score(y_test, grid.predict(X_test))"
   ]
  },
  {
   "cell_type": "code",
   "execution_count": 39,
   "id": "bd851901",
   "metadata": {},
   "outputs": [
    {
     "data": {
      "image/png": "[encoded data removed]",
      "text/plain": [
       "<Figure size 432x288 with 2 Axes>"
      ]
     },
     "metadata": {},
     "output_type": "display_data"
    },
    {
     "data": {
      "text/plain": [
       "<Figure size 432x288 with 0 Axes>"
      ]
     },
     "metadata": {},
     "output_type": "display_data"
    }
   ],
   "source": [
    "# Confusion Matrix\n",
    "plot_confusion_matrix(grid, X_test, y_test)\n",
    "plt.show()\n",
    "plt.clf()"
   ]
  },
  {
   "cell_type": "code",
   "execution_count": 40,
   "id": "3b9a598f",
   "metadata": {},
   "outputs": [
    {
     "data": {
      "image/png": "[encoded data removed]",
      "text/plain": [
       "<Figure size 432x288 with 1 Axes>"
      ]
     },
     "metadata": {},
     "output_type": "display_data"
    }
   ],
   "source": [
    "# ROC Curve and AUC\n",
    "fpr, tpr, _ = roc_curve(y_test, grid.predict(X_test))\n",
    "auc_score = auc(fpr, tpr)\n",
    "plt.title('ROC Curve')\n",
    "plt.plot(fpr, tpr, label='AUC = {:.2f}'.format(auc_score))\n",
    "plt.plot([0,1],[0,1],'r--')\n",
    "plt.xlim([-0.1,1.1])\n",
    "plt.ylim([-0.1,1.1])\n",
    "plt.ylabel('True Positive Rate')\n",
    "plt.xlabel('False Positive Rate')\n",
    "plt.legend(loc='lower right')\n",
    "plt.show()"
   ]
  },
  {
   "cell_type": "code",
   "execution_count": 49,
   "id": "baf49941",
   "metadata": {},
   "outputs": [],
   "source": [
    "# following is a for balanced model output\n",
    "submission = pd.DataFrame({'TransactionID': test_df['TransactionID'], 'isFraud': grid.predict(test_df)})\n",
    "submission.to_csv(\"submission_scale_pos_grid.csv\", index = False)"
   ]
  }
 ],
 "metadata": {
  "kernelspec": {
   "display_name": "Python 3 (ipykernel)",
   "language": "python",
   "name": "python3"
  },
  "language_info": {
   "codemirror_mode": {
    "name": "ipython",
    "version": 3
   },
   "file_extension": ".py",
   "mimetype": "text/x-python",
   "name": "python",
   "nbconvert_exporter": "python",
   "pygments_lexer": "ipython3",
   "version": "3.9.10"
  }
 },
 "nbformat": 4,
 "nbformat_minor": 5
}
