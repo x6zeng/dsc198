{
 "cells": [
  {
   "cell_type": "code",
   "execution_count": 1,
   "id": "31377e36",
   "metadata": {},
   "outputs": [
    {
     "name": "stderr",
     "output_type": "stream",
     "text": [
      "Intel(R) Extension for Scikit-learn* enabled (https://github.com/intel/scikit-learn-intelex)\n"
     ]
    }
   ],
   "source": [
    "# intel accelerator for sklearn\n",
    "from sklearnex import patch_sklearn\n",
    "patch_sklearn()"
   ]
  },
  {
   "cell_type": "code",
   "execution_count": 2,
   "id": "b75270d4",
   "metadata": {},
   "outputs": [],
   "source": [
    "# some basic packages\n",
    "import numpy as np\n",
    "import pandas as pd\n",
    "import matplotlib as mpl\n",
    "import matplotlib.pyplot as plt"
   ]
  },
  {
   "cell_type": "markdown",
   "id": "2fbca8d8",
   "metadata": {},
   "source": [
    "## Load the Data"
   ]
  },
  {
   "cell_type": "code",
   "execution_count": 6,
   "id": "89292161",
   "metadata": {},
   "outputs": [],
   "source": [
    "# only load the transaction table\n",
    "import os\n",
    "\n",
    "transaction_path = os.path.join(\"data\", \"train_transaction.csv\")\n",
    "train_transaction = pd.read_csv(transaction_path)"
   ]
  },
  {
   "cell_type": "code",
   "execution_count": 7,
   "id": "01d3f28d",
   "metadata": {},
   "outputs": [
    {
     "name": "stdout",
     "output_type": "stream",
     "text": [
      "<class 'pandas.core.frame.DataFrame'>\n",
      "RangeIndex: 590540 entries, 0 to 590539\n",
      "Columns: 394 entries, TransactionID to V339\n",
      "dtypes: float64(376), int64(4), object(14)\n",
      "memory usage: 1.7+ GB\n"
     ]
    }
   ],
   "source": [
    "train_transaction.info()"
   ]
  },
  {
   "cell_type": "code",
   "execution_count": 14,
   "id": "42dfdaa3",
   "metadata": {},
   "outputs": [],
   "source": [
    "# trying to understand the masked v_data\n",
    "v_data = train_transaction.loc[:, train_transaction.columns.str.contains(\"V\")]"
   ]
  },
  {
   "cell_type": "code",
   "execution_count": 24,
   "id": "cb688987",
   "metadata": {},
   "outputs": [],
   "source": [
    "# release the memory\n",
    "del train_transaction"
   ]
  },
  {
   "cell_type": "code",
   "execution_count": 15,
   "id": "37782e27",
   "metadata": {},
   "outputs": [
    {
     "name": "stdout",
     "output_type": "stream",
     "text": [
      "<class 'pandas.core.frame.DataFrame'>\n",
      "RangeIndex: 590540 entries, 0 to 590539\n",
      "Columns: 339 entries, V1 to V339\n",
      "dtypes: float64(339)\n",
      "memory usage: 1.5 GB\n"
     ]
    }
   ],
   "source": [
    "v_data.info()"
   ]
  },
  {
   "cell_type": "code",
   "execution_count": 25,
   "id": "d223a0d0",
   "metadata": {},
   "outputs": [],
   "source": [
    "# impute missing values with -1\n",
    "v_filled_n1 = v_data.fillna(-1)"
   ]
  },
  {
   "cell_type": "code",
   "execution_count": 26,
   "id": "d6198ff2",
   "metadata": {},
   "outputs": [
    {
     "name": "stdout",
     "output_type": "stream",
     "text": [
      "<class 'pandas.core.frame.DataFrame'>\n",
      "RangeIndex: 590540 entries, 0 to 590539\n",
      "Columns: 339 entries, V1 to V339\n",
      "dtypes: float64(339)\n",
      "memory usage: 1.5 GB\n"
     ]
    }
   ],
   "source": [
    "v_filled_n1.info()"
   ]
  },
  {
   "cell_type": "markdown",
   "id": "1b669349",
   "metadata": {},
   "source": [
    "# Prepare with PCA"
   ]
  },
  {
   "cell_type": "code",
   "execution_count": 40,
   "id": "09babbf3",
   "metadata": {},
   "outputs": [],
   "source": [
    "from sklearn.preprocessing import StandardScaler\n",
    "from sklearn.decomposition import PCA\n",
    "from sklearn.pipeline import Pipeline\n",
    "\n",
    "# use the pipeline to create a transformer\n",
    "transformer = Pipeline([\n",
    "    (\"std_trans\", StandardScaler()),\n",
    "    (\"PCA_95\", PCA(n_components=0.95)),\n",
    "])\n",
    "\n",
    "v_processed = transformer.fit_transform(v_filled_n1)"
   ]
  },
  {
   "cell_type": "code",
   "execution_count": 41,
   "id": "118aa3de",
   "metadata": {},
   "outputs": [
    {
     "data": {
      "text/plain": [
       "236216000"
      ]
     },
     "execution_count": 41,
     "metadata": {},
     "output_type": "execute_result"
    }
   ],
   "source": [
    "v_processed.size * v_processed.itemsize"
   ]
  },
  {
   "cell_type": "code",
   "execution_count": 42,
   "id": "a7e67dad",
   "metadata": {},
   "outputs": [
    {
     "data": {
      "text/plain": [
       "50"
      ]
     },
     "execution_count": 42,
     "metadata": {},
     "output_type": "execute_result"
    }
   ],
   "source": [
    "transformer[\"PCA_95\"].n_components_"
   ]
  },
  {
   "cell_type": "markdown",
   "id": "b67c81be",
   "metadata": {},
   "source": [
    "# Prepare DataSet"
   ]
  },
  {
   "cell_type": "code",
   "execution_count": 47,
   "id": "870aef4b",
   "metadata": {},
   "outputs": [],
   "source": [
    "# import the label\n",
    "transaction_path = os.path.join(\"data\", \"train_transaction.csv\")\n",
    "train_transaction = pd.read_csv(transaction_path)\n",
    "y = train_transaction['isFraud']\n",
    "del train_transaction # release the space"
   ]
  },
  {
   "cell_type": "code",
   "execution_count": 48,
   "id": "dcdc0305",
   "metadata": {},
   "outputs": [],
   "source": [
    "from sklearn.model_selection import train_test_split \n",
    "X_train, X_test, y_train, y_test = train_test_split(v_processed, y)"
   ]
  },
  {
   "cell_type": "markdown",
   "id": "93410d70",
   "metadata": {},
   "source": [
    "# Try only train on the reduced V set"
   ]
  },
  {
   "cell_type": "code",
   "execution_count": 51,
   "id": "2ab27c52",
   "metadata": {},
   "outputs": [],
   "source": [
    "import xgboost as xgb"
   ]
  },
  {
   "cell_type": "code",
   "execution_count": 55,
   "id": "fcaf0637",
   "metadata": {},
   "outputs": [],
   "source": [
    "xgb_clf = xgb.XGBClassifier()"
   ]
  },
  {
   "cell_type": "code",
   "execution_count": 56,
   "id": "c753d684",
   "metadata": {},
   "outputs": [
    {
     "data": {
      "text/plain": [
       "XGBClassifier(base_score=0.5, booster='gbtree', callbacks=None,\n",
       "              colsample_bylevel=1, colsample_bynode=1, colsample_bytree=1,\n",
       "              early_stopping_rounds=None, enable_categorical=False,\n",
       "              eval_metric=None, gamma=0, gpu_id=-1, grow_policy='depthwise',\n",
       "              importance_type=None, interaction_constraints='',\n",
       "              learning_rate=0.300000012, max_bin=256, max_cat_to_onehot=4,\n",
       "              max_delta_step=0, max_depth=6, max_leaves=0, min_child_weight=1,\n",
       "              missing=nan, monotone_constraints='()', n_estimators=100,\n",
       "              n_jobs=0, num_parallel_tree=1, predictor='auto', random_state=0,\n",
       "              reg_alpha=0, reg_lambda=1, ...)"
      ]
     },
     "execution_count": 56,
     "metadata": {},
     "output_type": "execute_result"
    }
   ],
   "source": [
    "xgb_clf.fit(X_train, y_train)"
   ]
  },
  {
   "cell_type": "code",
   "execution_count": 60,
   "id": "59ec9a36",
   "metadata": {},
   "outputs": [],
   "source": [
    "y_pred = xgb_clf.predict(X_test)"
   ]
  },
  {
   "cell_type": "code",
   "execution_count": 67,
   "id": "8669ef9d",
   "metadata": {},
   "outputs": [],
   "source": [
    "y_pred_proba = xgb_clf.predict_proba(X_test)"
   ]
  },
  {
   "cell_type": "code",
   "execution_count": 69,
   "id": "13e1e9b3",
   "metadata": {},
   "outputs": [],
   "source": [
    "y_pred_proba = y_pred_proba[:,1]"
   ]
  },
  {
   "cell_type": "code",
   "execution_count": 70,
   "id": "a3457372",
   "metadata": {},
   "outputs": [
    {
     "data": {
      "text/plain": [
       "array([0.00162709, 0.00213831, 0.01186629, ..., 0.00831896, 0.00424195,\n",
       "       0.0251442 ], dtype=float32)"
      ]
     },
     "execution_count": 70,
     "metadata": {},
     "output_type": "execute_result"
    }
   ],
   "source": [
    "y_pred_proba"
   ]
  },
  {
   "cell_type": "markdown",
   "id": "1e9156bf",
   "metadata": {},
   "source": [
    "## Evaluate"
   ]
  },
  {
   "cell_type": "code",
   "execution_count": 59,
   "id": "438a6ef6",
   "metadata": {},
   "outputs": [
    {
     "data": {
      "text/plain": [
       "0    0.964988\n",
       "1    0.035012\n",
       "Name: isFraud, dtype: float64"
      ]
     },
     "execution_count": 59,
     "metadata": {},
     "output_type": "execute_result"
    }
   ],
   "source": [
    "y_test.value_counts() / len(y_test)"
   ]
  },
  {
   "cell_type": "code",
   "execution_count": 57,
   "id": "9edbd1a9",
   "metadata": {},
   "outputs": [
    {
     "data": {
      "text/plain": [
       "0.9741186033122227"
      ]
     },
     "execution_count": 57,
     "metadata": {},
     "output_type": "execute_result"
    }
   ],
   "source": [
    "# accuracy\n",
    "xgb_clf.score(X_test, y_test)"
   ]
  },
  {
   "cell_type": "code",
   "execution_count": 61,
   "id": "c4179f02",
   "metadata": {},
   "outputs": [
    {
     "data": {
      "text/plain": [
       "<sklearn.metrics._plot.confusion_matrix.ConfusionMatrixDisplay at 0x1e6ec32ed90>"
      ]
     },
     "execution_count": 61,
     "metadata": {},
     "output_type": "execute_result"
    },
    {
     "data": {
      "image/png": "[encoded data removed]",
      "text/plain": [
       "<Figure size 432x288 with 2 Axes>"
      ]
     },
     "metadata": {
      "needs_background": "light"
     },
     "output_type": "display_data"
    }
   ],
   "source": [
    "# Confusion Matrix\n",
    "from sklearn.metrics import plot_confusion_matrix\n",
    "plot_confusion_matrix(xgb_clf, X_test, y_test)"
   ]
  },
  {
   "cell_type": "code",
   "execution_count": 62,
   "id": "2a9a92e9",
   "metadata": {},
   "outputs": [
    {
     "data": {
      "text/plain": [
       "(0.8667029379760609, 0.3081834010446895)"
      ]
     },
     "execution_count": 62,
     "metadata": {},
     "output_type": "execute_result"
    }
   ],
   "source": [
    "# precision and recall\n",
    "from sklearn.metrics import precision_score, recall_score\n",
    "\n",
    "precision_score(y_test, y_pred), recall_score(y_test, y_pred)"
   ]
  },
  {
   "cell_type": "code",
   "execution_count": 79,
   "id": "0f6118d4",
   "metadata": {},
   "outputs": [
    {
     "data": {
      "text/plain": [
       "0.8593712687485753"
      ]
     },
     "execution_count": 79,
     "metadata": {},
     "output_type": "execute_result"
    }
   ],
   "source": [
    "# ROC AUC Score\n",
    "from sklearn.metrics import roc_auc_score\n",
    "auc_score = roc_auc_score(y_test, y_pred_proba)\n",
    "auc_score"
   ]
  },
  {
   "cell_type": "code",
   "execution_count": 80,
   "id": "e443bbe4",
   "metadata": {},
   "outputs": [
    {
     "data": {
      "image/png": "[encoded data removed]",
      "text/plain": [
       "<Figure size 576x432 with 1 Axes>"
      ]
     },
     "metadata": {
      "needs_background": "light"
     },
     "output_type": "display_data"
    }
   ],
   "source": [
    "# ROC Curve\n",
    "from sklearn.metrics import roc_curve\n",
    "\n",
    "fpr, tpr, thresholds = roc_curve(y_test, y_pred_proba)\n",
    "\n",
    "def plot_roc_curve(fpr, tpr, label=None):\n",
    "    plt.plot(fpr, tpr, linewidth=2, label=label)\n",
    "    plt.plot([0, 1], [0, 1], 'k--') # dashed diagonal\n",
    "    plt.axis([0, 1, 0, 1])                                    \n",
    "    plt.xlabel('False Positive Rate (Fall-Out)', fontsize=16) \n",
    "    plt.ylabel('True Positive Rate (Recall)', fontsize=16)    \n",
    "    plt.grid(True)                                            \n",
    "\n",
    "plt.figure(figsize=(8, 6))                                    \n",
    "plot_roc_curve(fpr, tpr, 'AUC = {:.2f}'.format(auc_score))\n",
    "plt.show()"
   ]
  }
 ],
 "metadata": {
  "kernelspec": {
   "display_name": "Python 3 (ipykernel)",
   "language": "python",
   "name": "python3"
  },
  "language_info": {
   "codemirror_mode": {
    "name": "ipython",
    "version": 3
   },
   "file_extension": ".py",
   "mimetype": "text/x-python",
   "name": "python",
   "nbconvert_exporter": "python",
   "pygments_lexer": "ipython3",
   "version": "3.9.10"
  }
 },
 "nbformat": 4,
 "nbformat_minor": 5
}
