{
 "cells": [
  {
   "cell_type": "code",
   "execution_count": 1,
   "id": "24d872fc",
   "metadata": {},
   "outputs": [],
   "source": [
    "import numpy as np\n",
    "import pandas as pd"
   ]
  },
  {
   "cell_type": "code",
   "execution_count": 2,
   "id": "439bd60b",
   "metadata": {},
   "outputs": [],
   "source": [
    "import os"
   ]
  },
  {
   "cell_type": "code",
   "execution_count": 3,
   "id": "604fa5ec",
   "metadata": {},
   "outputs": [],
   "source": [
    "def load_v():\n",
    "    transaction_path = os.path.join(\"data\", \"train_transaction.csv\")\n",
    "    train_transaction = pd.read_csv(transaction_path)\n",
    "    v_data = train_transaction.loc[:, train_transaction.columns.str.contains(\"V\")]\n",
    "    del train_transaction\n",
    "    return v_data\n",
    "v_raw = load_v()"
   ]
  },
  {
   "cell_type": "code",
   "execution_count": 7,
   "id": "9904d092",
   "metadata": {},
   "outputs": [],
   "source": [
    "cols = v_raw.columns"
   ]
  },
  {
   "cell_type": "code",
   "execution_count": 8,
   "id": "d1815147",
   "metadata": {},
   "outputs": [],
   "source": [
    "# set up a imputer\n",
    "from datawig import SimpleImputer\n",
    "\n",
    "imputer_v = SimpleImputer(\n",
    "    input_columns = cols,\n",
    "    output_column = 'V1'\n",
    ")"
   ]
  },
  {
   "cell_type": "code",
   "execution_count": null,
   "id": "efdd1da7",
   "metadata": {},
   "outputs": [],
   "source": [
    "imputer_v"
   ]
  }
 ],
 "metadata": {
  "kernelspec": {
   "display_name": "Python 3 (ipykernel)",
   "language": "python",
   "name": "python3"
  },
  "language_info": {
   "codemirror_mode": {
    "name": "ipython",
    "version": 3
   },
   "file_extension": ".py",
   "mimetype": "text/x-python",
   "name": "python",
   "nbconvert_exporter": "python",
   "pygments_lexer": "ipython3",
   "version": "3.7.12"
  }
 },
 "nbformat": 4,
 "nbformat_minor": 5
}
