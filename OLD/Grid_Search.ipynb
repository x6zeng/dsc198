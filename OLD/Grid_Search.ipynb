{
 "cells": [
  {
   "cell_type": "code",
   "execution_count": null,
   "id": "3cdaee02",
   "metadata": {},
   "outputs": [],
   "source": [
    "import pandas as pd\n",
    "import numpy as np"
   ]
  },
  {
   "cell_type": "code",
   "execution_count": null,
   "id": "b070a4db",
   "metadata": {},
   "outputs": [],
   "source": [
    "import XGBoost as xgb\n",
    "from sklearn.model_selection import GridSearchCV"
   ]
  },
  {
   "cell_type": "code",
   "execution_count": null,
   "id": "096750ea",
   "metadata": {},
   "outputs": [],
   "source": [
    "hyperparameters_xgb = {\n",
    "    'eta':np.linspace(0, 0.2, 4),\n",
    "    'min_child_weight': [0.5, 1, 1.5],\n",
    "    'max_depth ': np.linespace(3, 10, 3),\n",
    "    'subsample': [0.5, 0.75, 1],\n",
    "    'eval_metric': ['rmse', 'logloss']\n",
    "}\n",
    "# parameters to control overfit: \n",
    "    # max_depth: small against overfit\n",
    "    # min_child_weight: big against overfit"
   ]
  },
  {
   "cell_type": "markdown",
   "id": "892067c8",
   "metadata": {},
   "source": [
    "### parameters to control overfit: \n",
    "    max_depth: small against overfit\n",
    "    min_child_weight: big against overfit"
   ]
  },
  {
   "cell_type": "code",
   "execution_count": 1,
   "id": "c823b760",
   "metadata": {},
   "outputs": [],
   "source": [
    "def XGBGridSearch(X_train, y_train, X_test, y_test):\n",
    "    \"\"\"\n",
    "    This function directly takes in the train, test data\n",
    "    Returns a fitted grid search object\n",
    "    \"\"\"\n",
    "    \n",
    "    # to ensure those packages are imported\n",
    "    import XGBoost as xgb\n",
    "    from sklearn.model_selection import GridSearchCV\n",
    "    \n",
    "    mdl = xgb.XGBClassifier(use_label_encoder=False)\n",
    "    hyperparameters = {\n",
    "        'eta':np.linspace(0, 0.2, 4),\n",
    "        'min_child_weight': [0.5, 1, 1.5],\n",
    "        'max_depth ': np.linespace(3, 10, 3),\n",
    "        'subsample': [0.5, 0.75, 1],\n",
    "        'eval_metric': ['rmse', 'logloss']\n",
    "    }\n",
    "    \n",
    "    grid = GridSearchCV(mdl, hyperparameters, return_train_score = True)\n",
    "    \n",
    "    return grid"
   ]
  },
  {
   "cell_type": "code",
   "execution_count": null,
   "id": "de97786d",
   "metadata": {},
   "outputs": [],
   "source": []
  }
 ],
 "metadata": {
  "kernelspec": {
   "display_name": "Python 3 (ipykernel)",
   "language": "python",
   "name": "python3"
  },
  "language_info": {
   "codemirror_mode": {
    "name": "ipython",
    "version": 3
   },
   "file_extension": ".py",
   "mimetype": "text/x-python",
   "name": "python",
   "nbconvert_exporter": "python",
   "pygments_lexer": "ipython3",
   "version": "3.9.7"
  }
 },
 "nbformat": 4,
 "nbformat_minor": 5
}
