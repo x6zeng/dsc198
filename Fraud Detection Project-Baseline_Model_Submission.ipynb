{
 "cells": [
  {
   "cell_type": "code",
   "execution_count": 1,
   "id": "34ba0068",
   "metadata": {},
   "outputs": [],
   "source": [
    "import numpy as np\n",
    "import math\n",
    "import pandas as pd\n",
    "import sklearn as sk\n",
    "import os\n",
    "import matplotlib\n",
    "import matplotlib.pyplot as plt\n",
    "import warnings \n",
    "from sklearn.decomposition import PCA\n",
    "from sklearn.preprocessing import OneHotEncoder\n",
    "from sklearn.metrics import accuracy_score\n",
    "import xgboost as xgb\n",
    "from sklearn.model_selection import train_test_split\n",
    "from sklearn.metrics import plot_confusion_matrix\n",
    "from sklearn import metrics\n",
    "warnings.filterwarnings('ignore')\n",
    "import seaborn as sns; sns.set_theme()"
   ]
  },
  {
   "cell_type": "markdown",
   "id": "e9466841",
   "metadata": {},
   "source": [
    "### Load Data"
   ]
  },
  {
   "cell_type": "code",
   "execution_count": 2,
   "id": "e17ee3fa",
   "metadata": {},
   "outputs": [
    {
     "name": "stdout",
     "output_type": "stream",
     "text": [
      "Transaction Training DataFrame: 590540 rows & 394 columns.\n",
      "Identity Training DataFrame: 144233 rows & 41 columns.\n",
      "Training DataFrame: 590540 rows & 434 columns.\n",
      "Testing DataFrame: 506691 rows & 433 columns.\n"
     ]
    }
   ],
   "source": [
    "#Data path\n",
    "train_transaction_path = \"data/train_transaction.csv\"\n",
    "train_identity_path = \"data/train_identity.csv\"\n",
    "test_transaction_path = \"data/test_transaction.csv\"\n",
    "test_identity_path = \"data/test_identity.csv\"\n",
    "sample_submission_path = \"data/sample_submission.csv\"\n",
    "\n",
    "#Read data\n",
    "train_transaction = pd.read_csv(train_transaction_path)\n",
    "train_identity = pd.read_csv(train_identity_path)\n",
    "test_transaction = pd.read_csv(test_transaction_path)\n",
    "test_identity = pd.read_csv(test_identity_path)\n",
    "sample_submission = pd.read_csv(sample_submission_path)\n",
    "\n",
    "train_df = pd.merge(train_identity, train_transaction, on=\"TransactionID\", how='right')\n",
    "test_df = pd.merge(test_identity, test_transaction, on=\"TransactionID\", how='right')\n",
    "train_transaction_row = train_transaction.shape[0]\n",
    "train_transaction_col = train_transaction.shape[1]\n",
    "train_identity_row = train_identity.shape[0]\n",
    "train_identity_col = train_identity.shape[1]\n",
    "\n",
    "train_df_row = train_df.shape[0]\n",
    "train_df_col = train_df.shape[1]\n",
    "test_df_row = test_df.shape[0]\n",
    "test_df_col = test_df.shape[1]\n",
    "\n",
    "print('Transaction Training DataFrame: {} rows & {} columns.'.format(train_transaction_row, train_transaction_col))\n",
    "print('Identity Training DataFrame: {} rows & {} columns.'.format(train_identity_row, train_identity_col))\n",
    "print('Training DataFrame: {} rows & {} columns.'.format(train_df_row, train_df_col))\n",
    "print('Testing DataFrame: {} rows & {} columns.'.format(test_df_row, test_df_col))"
   ]
  },
  {
   "cell_type": "code",
   "execution_count": 3,
   "id": "abfbb9c9",
   "metadata": {},
   "outputs": [],
   "source": [
    "# release data from those four\n",
    "del train_transaction\n",
    "del train_identity\n",
    "# del test_transaction\n",
    "# del test_identity"
   ]
  },
  {
   "cell_type": "code",
   "execution_count": 4,
   "id": "84c012f4",
   "metadata": {},
   "outputs": [],
   "source": [
    "train_is_fraud = train_df[train_df['isFraud']==1].sample(replace=True, n=10*len(train_df[train_df['isFraud']==1]))\n",
    "train_is_not_fraud = train_df[train_df['isFraud']==0].sample(n=len(train_is_fraud))\n",
    "train_df = pd.concat([train_is_fraud, train_is_not_fraud])"
   ]
  },
  {
   "cell_type": "markdown",
   "id": "4b6ca49c",
   "metadata": {},
   "source": [
    "### Time"
   ]
  },
  {
   "cell_type": "code",
   "execution_count": 5,
   "id": "d8da86b6",
   "metadata": {},
   "outputs": [],
   "source": [
    "## Day of week (one hot)\n",
    "def convert_day_of_week(x):\n",
    "    return (x // (24 * 60 * 60)) % 7\n",
    "\n",
    "# Hour of day (one hot)\n",
    "def convert_hour(x):\n",
    "    return (x // (1 * 60 * 60)) % 24\n",
    "\n",
    "def addr1_transform(x):\n",
    "    if x in top_ten_addr1:\n",
    "        return x\n",
    "    elif (pd.isnull(x) == True):\n",
    "        return 0\n",
    "    else:\n",
    "        return -1\n",
    "    \n",
    "def addr2_transform(x):\n",
    "    if x in top_ten_addr2:\n",
    "        return x\n",
    "    elif (pd.isnull(x) == True):\n",
    "        return 0\n",
    "    else:\n",
    "        return -1\n",
    "    \n",
    "def email_p_transform(x):\n",
    "    if x in top_twenty_email_p:\n",
    "        return x\n",
    "    elif (pd.isnull(x) == True):\n",
    "        return 'Missing'\n",
    "    else:\n",
    "        return 'Other'\n",
    "    \n",
    "def email_r_transform(x):\n",
    "    if x in top_twenty_email_r:\n",
    "        return x\n",
    "    elif (pd.isnull(x) == True):\n",
    "        return 'Missing'\n",
    "    else:\n",
    "        return 'Other'"
   ]
  },
  {
   "cell_type": "code",
   "execution_count": 6,
   "id": "e34b866e",
   "metadata": {},
   "outputs": [
    {
     "name": "stdout",
     "output_type": "stream",
     "text": [
      "86401\n"
     ]
    }
   ],
   "source": [
    "print(min(train_df['TransactionDT']))\n",
    "train_df['TransactionDT'] = train_df['TransactionDT'] - min(train_df['TransactionDT'])\n",
    "train_df['TransactionDayOfWeek'] = train_df['TransactionDT'].apply(convert_day_of_week)\n",
    "train_df['TransactionHour'] = train_df['TransactionDT'].apply(convert_hour)\n",
    "\n",
    "# Transaction Amount (Log)\n",
    "train_df['TransactionAmt_log'] = train_df['TransactionAmt'].apply(lambda x: np.log(x))\n",
    "\n",
    "#addr1, addr2\n",
    "top_ten_addr1 = list(train_df['addr1'].value_counts().index)[:100] #top ten regions\n",
    "top_ten_addr2 = list(train_df['addr2'].value_counts().index)[:100] #top ten countries\n",
    "train_df['addr1_new'] = train_df['addr1'].apply(addr1_transform)\n",
    "train_df['addr2_new'] = train_df['addr2'].apply(addr2_transform)\n",
    "\n",
    "#Email_Domain\n",
    "top_twenty_email_p = list(train_df['P_emaildomain'].value_counts().index)[:50] #top ten regions\n",
    "top_twenty_email_r = list(train_df['R_emaildomain'].value_counts().index)[:50] #top ten countries\n",
    "train_df['P_emaildomain'].value_counts()\n",
    "train_df['P_emaildomain_new'] = train_df['P_emaildomain'].apply(email_p_transform)\n",
    "train_df['R_emaildomain_new'] = train_df['R_emaildomain'].apply(email_r_transform)"
   ]
  },
  {
   "cell_type": "code",
   "execution_count": 7,
   "id": "44391187",
   "metadata": {},
   "outputs": [
    {
     "name": "stdout",
     "output_type": "stream",
     "text": [
      "[-5.0, -20.0, -10.0, 0.0, -15.0, -25.0, -35.0, -45.0, -100.0, -50.0, -40.0, -30.0]\n",
      "[0.0, 1.0, 3.0, 2.0, 5.0, 4.0, 6.0, -10.0, -7.0, -6.0, -8.0, -4.0]\n",
      "[0.0, -8.0, -11.0, -12.0, -5.0, -6.0, -13.0, -10.0, -4.0, -2.0, -9.0, -7.0]\n",
      "[0.0, 1.0, 2.0, 3.0, 4.0, 5.0, 6.0, 7.0, 8.0, -3.0, -5.0, 9.0]\n",
      "[0.0, -1.0, -5.0, -9.0, -6.0, -10.0, -100.0, -8.0, -11.0, -12.0, -13.0, -7.0]\n",
      "[0.0, 1.0, 3.0, 2.0, 4.0, 5.0, 6.0, -10.0, -7.0, -6.0, -8.0, -4.0]\n",
      "[0.0, -11.0, -8.0, -5.0, -6.0, -13.0, -12.0, -10.0, -4.0, -9.0, -1.0, -2.0]\n",
      "[100.0, 95.08000183105467, 96.66999816894533, 95.16000366210938, 97.13999938964844, 97.12000274658205, 96.72000122070312, 95.6500015258789, 94.29000091552734, 93.5500030517578, 96.19000244140624, 96.47000122070312]\n",
      "[52.0, 49.0, 64.0, 33.0, 27.0, 20.0, 43.0, 19.0, 14.0, 24.0, 25.0, 63.0]\n",
      "[-300.0, -360.0, -480.0, -420.0, -180.0, 0.0, 60.0, -240.0, -600.0, 120.0, 480.0, -540.0]\n",
      "[225.0, 166.0, 102.0, 100.0, 110.0, 159.0, 148.0, 121.0, 106.0, 142.0, 114.0, 214.0]\n",
      "[266.0, 427.0, 410.0, 153.0, 176.0, 290.0, 417.0, 529.0, 254.0, 542.0, 321.0, 312.0]\n",
      "[507.0, 325.0, 222.0, 549.0, 563.0, 595.0, 333.0, 533.0, 600.0, 214.0, 561.0, 401.0]\n",
      "['Windows 10', 'Windows 7', 'iOS 11.2.1', 'iOS 11.1.2', 'Android 7.0', 'iOS 11.3.0', 'Windows 8.1', 'iOS 11.2.5', 'iOS 11.2.6', 'Android', 'iOS 10.3.3', 'iOS 11.2.2']\n",
      "['chrome 63.0', 'mobile safari generic', 'mobile safari 11.0', 'chrome generic', 'chrome 65.0', 'chrome 64.0', 'chrome 63.0 for android', 'chrome 64.0 for android', 'chrome 65.0 for android', 'chrome 62.0', 'chrome 66.0', 'safari generic']\n",
      "['1920x1080', '1366x768', '2208x1242', '1334x750', '1440x900', '1600x900', '1280x720', '2436x1125', '2048x1536', '1280x800', '1136x640', '2560x1600']\n"
     ]
    }
   ],
   "source": [
    "### new added\n",
    "#device info\n",
    "def device_info_transform(x):\n",
    "    if x in top_device_info:\n",
    "        return x\n",
    "    elif (pd.isnull(x) == True):\n",
    "        return 'Missing'\n",
    "    else:\n",
    "        return 'Other'\n",
    "    \n",
    "top_device_info = list(train_df['DeviceInfo'].value_counts().index)[:100] #top device info\n",
    "train_df['DeviceInfo_new'] = train_df['DeviceInfo'].apply(device_info_transform)\n",
    "\n",
    "\n",
    "id_lst = ['id_01', 'id_03', 'id_04', 'id_05', 'id_06', 'id_09', 'id_10', 'id_11', 'id_13', 'id_14', \n",
    "               'id_17', 'id_19', 'id_20', 'id_30', 'id_31', 'id_33']\n",
    "\n",
    "new_id_lst = [i + '_new' for i in id_lst]\n",
    "\n",
    "top_i_lst = []\n",
    "\n",
    "def transform_i(x):\n",
    "    if x in top_i:\n",
    "        return str(x)\n",
    "    elif (pd.isnull(x) == True):\n",
    "        return 'Missing'\n",
    "    else:\n",
    "        return 'Other'\n",
    "        \n",
    "for i in id_lst:\n",
    "    new_col = i + '_new'\n",
    "    top_i = list(train_df[i].value_counts().index)[:12]\n",
    "    print(top_i)\n",
    "    top_i_lst.append(top_i)\n",
    "    train_df[new_col] = train_df[i].apply(transform_i)   "
   ]
  },
  {
   "cell_type": "code",
   "execution_count": 8,
   "id": "c3a7e2e0",
   "metadata": {},
   "outputs": [
    {
     "name": "stdout",
     "output_type": "stream",
     "text": [
      "[-5.0, -20.0, -10.0, 0.0, -15.0, -25.0, -35.0, -45.0, -100.0, -50.0, -40.0, -30.0]\n",
      "[0.0, 1.0, 3.0, 2.0, 5.0, 4.0, 6.0, -10.0, -7.0, -6.0, -8.0, -4.0]\n",
      "[0.0, -8.0, -11.0, -12.0, -5.0, -6.0, -13.0, -10.0, -4.0, -2.0, -9.0, -7.0]\n",
      "[0.0, 1.0, 2.0, 3.0, 4.0, 5.0, 6.0, 7.0, 8.0, -3.0, -5.0, 9.0]\n",
      "[0.0, -1.0, -5.0, -9.0, -6.0, -10.0, -100.0, -8.0, -11.0, -12.0, -13.0, -7.0]\n",
      "[0.0, 1.0, 3.0, 2.0, 4.0, 5.0, 6.0, -10.0, -7.0, -6.0, -8.0, -4.0]\n",
      "[0.0, -11.0, -8.0, -5.0, -6.0, -13.0, -12.0, -10.0, -4.0, -9.0, -1.0, -2.0]\n",
      "[100.0, 95.08000183105467, 96.66999816894533, 95.16000366210938, 97.13999938964844, 97.12000274658205, 96.72000122070312, 95.6500015258789, 94.29000091552734, 93.5500030517578, 96.19000244140624, 96.47000122070312]\n",
      "[52.0, 49.0, 64.0, 33.0, 27.0, 20.0, 43.0, 19.0, 14.0, 24.0, 25.0, 63.0]\n",
      "[-300.0, -360.0, -480.0, -420.0, -180.0, 0.0, 60.0, -240.0, -600.0, 120.0, 480.0, -540.0]\n",
      "[225.0, 166.0, 102.0, 100.0, 110.0, 159.0, 148.0, 121.0, 106.0, 142.0, 114.0, 214.0]\n",
      "[266.0, 427.0, 410.0, 153.0, 176.0, 290.0, 417.0, 529.0, 254.0, 542.0, 321.0, 312.0]\n",
      "[507.0, 325.0, 222.0, 549.0, 563.0, 595.0, 333.0, 533.0, 600.0, 214.0, 561.0, 401.0]\n",
      "['Windows 10', 'Windows 7', 'iOS 11.2.1', 'iOS 11.1.2', 'Android 7.0', 'iOS 11.3.0', 'Windows 8.1', 'iOS 11.2.5', 'iOS 11.2.6', 'Android', 'iOS 10.3.3', 'iOS 11.2.2']\n",
      "['chrome 63.0', 'mobile safari generic', 'mobile safari 11.0', 'chrome generic', 'chrome 65.0', 'chrome 64.0', 'chrome 63.0 for android', 'chrome 64.0 for android', 'chrome 65.0 for android', 'chrome 62.0', 'chrome 66.0', 'safari generic']\n",
      "['1920x1080', '1366x768', '2208x1242', '1334x750', '1440x900', '1600x900', '1280x720', '2436x1125', '2048x1536', '1280x800', '1136x640', '2560x1600']\n"
     ]
    }
   ],
   "source": [
    "for i in id_lst:\n",
    "    new_col = i + '_new'\n",
    "    top_i = list(train_df[i].value_counts().index)[:12]\n",
    "    print(top_i)\n",
    "    top_i_lst.append(top_i)\n",
    "    train_df[new_col] = train_df[i].apply(transform_i)  "
   ]
  },
  {
   "cell_type": "code",
   "execution_count": 9,
   "id": "99728637",
   "metadata": {},
   "outputs": [
    {
     "data": {
      "text/plain": [
       "[[-5.0,\n",
       "  -20.0,\n",
       "  -10.0,\n",
       "  0.0,\n",
       "  -15.0,\n",
       "  -25.0,\n",
       "  -35.0,\n",
       "  -45.0,\n",
       "  -100.0,\n",
       "  -50.0,\n",
       "  -40.0,\n",
       "  -30.0],\n",
       " [0.0, 1.0, 3.0, 2.0, 5.0, 4.0, 6.0, -10.0, -7.0, -6.0, -8.0, -4.0],\n",
       " [0.0, -8.0, -11.0, -12.0, -5.0, -6.0, -13.0, -10.0, -4.0, -2.0, -9.0, -7.0],\n",
       " [0.0, 1.0, 2.0, 3.0, 4.0, 5.0, 6.0, 7.0, 8.0, -3.0, -5.0, 9.0],\n",
       " [0.0, -1.0, -5.0, -9.0, -6.0, -10.0, -100.0, -8.0, -11.0, -12.0, -13.0, -7.0],\n",
       " [0.0, 1.0, 3.0, 2.0, 4.0, 5.0, 6.0, -10.0, -7.0, -6.0, -8.0, -4.0],\n",
       " [0.0, -11.0, -8.0, -5.0, -6.0, -13.0, -12.0, -10.0, -4.0, -9.0, -1.0, -2.0],\n",
       " [100.0,\n",
       "  95.08000183105467,\n",
       "  96.66999816894533,\n",
       "  95.16000366210938,\n",
       "  97.13999938964844,\n",
       "  97.12000274658205,\n",
       "  96.72000122070312,\n",
       "  95.6500015258789,\n",
       "  94.29000091552734,\n",
       "  93.5500030517578,\n",
       "  96.19000244140624,\n",
       "  96.47000122070312],\n",
       " [52.0, 49.0, 64.0, 33.0, 27.0, 20.0, 43.0, 19.0, 14.0, 24.0, 25.0, 63.0],\n",
       " [-300.0,\n",
       "  -360.0,\n",
       "  -480.0,\n",
       "  -420.0,\n",
       "  -180.0,\n",
       "  0.0,\n",
       "  60.0,\n",
       "  -240.0,\n",
       "  -600.0,\n",
       "  120.0,\n",
       "  480.0,\n",
       "  -540.0],\n",
       " [225.0,\n",
       "  166.0,\n",
       "  102.0,\n",
       "  100.0,\n",
       "  110.0,\n",
       "  159.0,\n",
       "  148.0,\n",
       "  121.0,\n",
       "  106.0,\n",
       "  142.0,\n",
       "  114.0,\n",
       "  214.0],\n",
       " [266.0,\n",
       "  427.0,\n",
       "  410.0,\n",
       "  153.0,\n",
       "  176.0,\n",
       "  290.0,\n",
       "  417.0,\n",
       "  529.0,\n",
       "  254.0,\n",
       "  542.0,\n",
       "  321.0,\n",
       "  312.0],\n",
       " [507.0,\n",
       "  325.0,\n",
       "  222.0,\n",
       "  549.0,\n",
       "  563.0,\n",
       "  595.0,\n",
       "  333.0,\n",
       "  533.0,\n",
       "  600.0,\n",
       "  214.0,\n",
       "  561.0,\n",
       "  401.0],\n",
       " ['Windows 10',\n",
       "  'Windows 7',\n",
       "  'iOS 11.2.1',\n",
       "  'iOS 11.1.2',\n",
       "  'Android 7.0',\n",
       "  'iOS 11.3.0',\n",
       "  'Windows 8.1',\n",
       "  'iOS 11.2.5',\n",
       "  'iOS 11.2.6',\n",
       "  'Android',\n",
       "  'iOS 10.3.3',\n",
       "  'iOS 11.2.2'],\n",
       " ['chrome 63.0',\n",
       "  'mobile safari generic',\n",
       "  'mobile safari 11.0',\n",
       "  'chrome generic',\n",
       "  'chrome 65.0',\n",
       "  'chrome 64.0',\n",
       "  'chrome 63.0 for android',\n",
       "  'chrome 64.0 for android',\n",
       "  'chrome 65.0 for android',\n",
       "  'chrome 62.0',\n",
       "  'chrome 66.0',\n",
       "  'safari generic'],\n",
       " ['1920x1080',\n",
       "  '1366x768',\n",
       "  '2208x1242',\n",
       "  '1334x750',\n",
       "  '1440x900',\n",
       "  '1600x900',\n",
       "  '1280x720',\n",
       "  '2436x1125',\n",
       "  '2048x1536',\n",
       "  '1280x800',\n",
       "  '1136x640',\n",
       "  '2560x1600'],\n",
       " [-5.0,\n",
       "  -20.0,\n",
       "  -10.0,\n",
       "  0.0,\n",
       "  -15.0,\n",
       "  -25.0,\n",
       "  -35.0,\n",
       "  -45.0,\n",
       "  -100.0,\n",
       "  -50.0,\n",
       "  -40.0,\n",
       "  -30.0],\n",
       " [0.0, 1.0, 3.0, 2.0, 5.0, 4.0, 6.0, -10.0, -7.0, -6.0, -8.0, -4.0],\n",
       " [0.0, -8.0, -11.0, -12.0, -5.0, -6.0, -13.0, -10.0, -4.0, -2.0, -9.0, -7.0],\n",
       " [0.0, 1.0, 2.0, 3.0, 4.0, 5.0, 6.0, 7.0, 8.0, -3.0, -5.0, 9.0],\n",
       " [0.0, -1.0, -5.0, -9.0, -6.0, -10.0, -100.0, -8.0, -11.0, -12.0, -13.0, -7.0],\n",
       " [0.0, 1.0, 3.0, 2.0, 4.0, 5.0, 6.0, -10.0, -7.0, -6.0, -8.0, -4.0],\n",
       " [0.0, -11.0, -8.0, -5.0, -6.0, -13.0, -12.0, -10.0, -4.0, -9.0, -1.0, -2.0],\n",
       " [100.0,\n",
       "  95.08000183105467,\n",
       "  96.66999816894533,\n",
       "  95.16000366210938,\n",
       "  97.13999938964844,\n",
       "  97.12000274658205,\n",
       "  96.72000122070312,\n",
       "  95.6500015258789,\n",
       "  94.29000091552734,\n",
       "  93.5500030517578,\n",
       "  96.19000244140624,\n",
       "  96.47000122070312],\n",
       " [52.0, 49.0, 64.0, 33.0, 27.0, 20.0, 43.0, 19.0, 14.0, 24.0, 25.0, 63.0],\n",
       " [-300.0,\n",
       "  -360.0,\n",
       "  -480.0,\n",
       "  -420.0,\n",
       "  -180.0,\n",
       "  0.0,\n",
       "  60.0,\n",
       "  -240.0,\n",
       "  -600.0,\n",
       "  120.0,\n",
       "  480.0,\n",
       "  -540.0],\n",
       " [225.0,\n",
       "  166.0,\n",
       "  102.0,\n",
       "  100.0,\n",
       "  110.0,\n",
       "  159.0,\n",
       "  148.0,\n",
       "  121.0,\n",
       "  106.0,\n",
       "  142.0,\n",
       "  114.0,\n",
       "  214.0],\n",
       " [266.0,\n",
       "  427.0,\n",
       "  410.0,\n",
       "  153.0,\n",
       "  176.0,\n",
       "  290.0,\n",
       "  417.0,\n",
       "  529.0,\n",
       "  254.0,\n",
       "  542.0,\n",
       "  321.0,\n",
       "  312.0],\n",
       " [507.0,\n",
       "  325.0,\n",
       "  222.0,\n",
       "  549.0,\n",
       "  563.0,\n",
       "  595.0,\n",
       "  333.0,\n",
       "  533.0,\n",
       "  600.0,\n",
       "  214.0,\n",
       "  561.0,\n",
       "  401.0],\n",
       " ['Windows 10',\n",
       "  'Windows 7',\n",
       "  'iOS 11.2.1',\n",
       "  'iOS 11.1.2',\n",
       "  'Android 7.0',\n",
       "  'iOS 11.3.0',\n",
       "  'Windows 8.1',\n",
       "  'iOS 11.2.5',\n",
       "  'iOS 11.2.6',\n",
       "  'Android',\n",
       "  'iOS 10.3.3',\n",
       "  'iOS 11.2.2'],\n",
       " ['chrome 63.0',\n",
       "  'mobile safari generic',\n",
       "  'mobile safari 11.0',\n",
       "  'chrome generic',\n",
       "  'chrome 65.0',\n",
       "  'chrome 64.0',\n",
       "  'chrome 63.0 for android',\n",
       "  'chrome 64.0 for android',\n",
       "  'chrome 65.0 for android',\n",
       "  'chrome 62.0',\n",
       "  'chrome 66.0',\n",
       "  'safari generic'],\n",
       " ['1920x1080',\n",
       "  '1366x768',\n",
       "  '2208x1242',\n",
       "  '1334x750',\n",
       "  '1440x900',\n",
       "  '1600x900',\n",
       "  '1280x720',\n",
       "  '2436x1125',\n",
       "  '2048x1536',\n",
       "  '1280x800',\n",
       "  '1136x640',\n",
       "  '2560x1600']]"
      ]
     },
     "execution_count": 9,
     "metadata": {},
     "output_type": "execute_result"
    }
   ],
   "source": [
    "top_i_lst"
   ]
  },
  {
   "cell_type": "code",
   "execution_count": 10,
   "id": "45d3e76b",
   "metadata": {},
   "outputs": [
    {
     "data": {
      "text/html": [
       "<div>\n",
       "<style scoped>\n",
       "    .dataframe tbody tr th:only-of-type {\n",
       "        vertical-align: middle;\n",
       "    }\n",
       "\n",
       "    .dataframe tbody tr th {\n",
       "        vertical-align: top;\n",
       "    }\n",
       "\n",
       "    .dataframe thead th {\n",
       "        text-align: right;\n",
       "    }\n",
       "</style>\n",
       "<table border=\"1\" class=\"dataframe\">\n",
       "  <thead>\n",
       "    <tr style=\"text-align: right;\">\n",
       "      <th></th>\n",
       "      <th>V1</th>\n",
       "      <th>V2</th>\n",
       "      <th>V3</th>\n",
       "      <th>V4</th>\n",
       "      <th>V5</th>\n",
       "      <th>V6</th>\n",
       "      <th>V7</th>\n",
       "      <th>V8</th>\n",
       "      <th>V9</th>\n",
       "      <th>V10</th>\n",
       "      <th>...</th>\n",
       "      <th>V330</th>\n",
       "      <th>V331</th>\n",
       "      <th>V332</th>\n",
       "      <th>V333</th>\n",
       "      <th>V334</th>\n",
       "      <th>V335</th>\n",
       "      <th>V336</th>\n",
       "      <th>V337</th>\n",
       "      <th>V338</th>\n",
       "      <th>V339</th>\n",
       "    </tr>\n",
       "  </thead>\n",
       "  <tbody>\n",
       "    <tr>\n",
       "      <th>268979</th>\n",
       "      <td>NaN</td>\n",
       "      <td>NaN</td>\n",
       "      <td>NaN</td>\n",
       "      <td>NaN</td>\n",
       "      <td>NaN</td>\n",
       "      <td>NaN</td>\n",
       "      <td>NaN</td>\n",
       "      <td>NaN</td>\n",
       "      <td>NaN</td>\n",
       "      <td>NaN</td>\n",
       "      <td>...</td>\n",
       "      <td>NaN</td>\n",
       "      <td>NaN</td>\n",
       "      <td>NaN</td>\n",
       "      <td>NaN</td>\n",
       "      <td>NaN</td>\n",
       "      <td>NaN</td>\n",
       "      <td>NaN</td>\n",
       "      <td>NaN</td>\n",
       "      <td>NaN</td>\n",
       "      <td>NaN</td>\n",
       "    </tr>\n",
       "    <tr>\n",
       "      <th>320346</th>\n",
       "      <td>1.0</td>\n",
       "      <td>1.0</td>\n",
       "      <td>1.0</td>\n",
       "      <td>1.0</td>\n",
       "      <td>1.0</td>\n",
       "      <td>1.0</td>\n",
       "      <td>1.0</td>\n",
       "      <td>1.0</td>\n",
       "      <td>1.0</td>\n",
       "      <td>0.0</td>\n",
       "      <td>...</td>\n",
       "      <td>NaN</td>\n",
       "      <td>NaN</td>\n",
       "      <td>NaN</td>\n",
       "      <td>NaN</td>\n",
       "      <td>NaN</td>\n",
       "      <td>NaN</td>\n",
       "      <td>NaN</td>\n",
       "      <td>NaN</td>\n",
       "      <td>NaN</td>\n",
       "      <td>NaN</td>\n",
       "    </tr>\n",
       "    <tr>\n",
       "      <th>523711</th>\n",
       "      <td>NaN</td>\n",
       "      <td>NaN</td>\n",
       "      <td>NaN</td>\n",
       "      <td>NaN</td>\n",
       "      <td>NaN</td>\n",
       "      <td>NaN</td>\n",
       "      <td>NaN</td>\n",
       "      <td>NaN</td>\n",
       "      <td>NaN</td>\n",
       "      <td>NaN</td>\n",
       "      <td>...</td>\n",
       "      <td>0.0</td>\n",
       "      <td>600.0</td>\n",
       "      <td>600.0</td>\n",
       "      <td>600.0</td>\n",
       "      <td>0.0</td>\n",
       "      <td>0.0</td>\n",
       "      <td>0.0</td>\n",
       "      <td>0.0</td>\n",
       "      <td>0.0</td>\n",
       "      <td>0.0</td>\n",
       "    </tr>\n",
       "    <tr>\n",
       "      <th>320927</th>\n",
       "      <td>NaN</td>\n",
       "      <td>NaN</td>\n",
       "      <td>NaN</td>\n",
       "      <td>NaN</td>\n",
       "      <td>NaN</td>\n",
       "      <td>NaN</td>\n",
       "      <td>NaN</td>\n",
       "      <td>NaN</td>\n",
       "      <td>NaN</td>\n",
       "      <td>NaN</td>\n",
       "      <td>...</td>\n",
       "      <td>NaN</td>\n",
       "      <td>NaN</td>\n",
       "      <td>NaN</td>\n",
       "      <td>NaN</td>\n",
       "      <td>NaN</td>\n",
       "      <td>NaN</td>\n",
       "      <td>NaN</td>\n",
       "      <td>NaN</td>\n",
       "      <td>NaN</td>\n",
       "      <td>NaN</td>\n",
       "    </tr>\n",
       "    <tr>\n",
       "      <th>279066</th>\n",
       "      <td>NaN</td>\n",
       "      <td>NaN</td>\n",
       "      <td>NaN</td>\n",
       "      <td>NaN</td>\n",
       "      <td>NaN</td>\n",
       "      <td>NaN</td>\n",
       "      <td>NaN</td>\n",
       "      <td>NaN</td>\n",
       "      <td>NaN</td>\n",
       "      <td>NaN</td>\n",
       "      <td>...</td>\n",
       "      <td>NaN</td>\n",
       "      <td>NaN</td>\n",
       "      <td>NaN</td>\n",
       "      <td>NaN</td>\n",
       "      <td>NaN</td>\n",
       "      <td>NaN</td>\n",
       "      <td>NaN</td>\n",
       "      <td>NaN</td>\n",
       "      <td>NaN</td>\n",
       "      <td>NaN</td>\n",
       "    </tr>\n",
       "  </tbody>\n",
       "</table>\n",
       "<p>5 rows × 339 columns</p>\n",
       "</div>"
      ],
      "text/plain": [
       "         V1   V2   V3   V4   V5   V6   V7   V8   V9  V10  ...  V330   V331  \\\n",
       "268979  NaN  NaN  NaN  NaN  NaN  NaN  NaN  NaN  NaN  NaN  ...   NaN    NaN   \n",
       "320346  1.0  1.0  1.0  1.0  1.0  1.0  1.0  1.0  1.0  0.0  ...   NaN    NaN   \n",
       "523711  NaN  NaN  NaN  NaN  NaN  NaN  NaN  NaN  NaN  NaN  ...   0.0  600.0   \n",
       "320927  NaN  NaN  NaN  NaN  NaN  NaN  NaN  NaN  NaN  NaN  ...   NaN    NaN   \n",
       "279066  NaN  NaN  NaN  NaN  NaN  NaN  NaN  NaN  NaN  NaN  ...   NaN    NaN   \n",
       "\n",
       "         V332   V333  V334  V335  V336  V337  V338  V339  \n",
       "268979    NaN    NaN   NaN   NaN   NaN   NaN   NaN   NaN  \n",
       "320346    NaN    NaN   NaN   NaN   NaN   NaN   NaN   NaN  \n",
       "523711  600.0  600.0   0.0   0.0   0.0   0.0   0.0   0.0  \n",
       "320927    NaN    NaN   NaN   NaN   NaN   NaN   NaN   NaN  \n",
       "279066    NaN    NaN   NaN   NaN   NaN   NaN   NaN   NaN  \n",
       "\n",
       "[5 rows x 339 columns]"
      ]
     },
     "execution_count": 10,
     "metadata": {},
     "output_type": "execute_result"
    }
   ],
   "source": [
    "##V\n",
    "# Groupby missingness\n",
    "# Groupby correlation\n",
    "# Keep the column with the most unique values\n",
    "v_df = train_df.iloc[:, 95:434]\n",
    "v_df.head()"
   ]
  },
  {
   "cell_type": "code",
   "execution_count": null,
   "id": "adb0c3dd",
   "metadata": {},
   "outputs": [],
   "source": []
  },
  {
   "cell_type": "code",
   "execution_count": 11,
   "id": "411e337c",
   "metadata": {},
   "outputs": [],
   "source": [
    "v_miss_df = pd.DataFrame(v_df.isnull().mean())\n",
    "v_miss_df['col'] = v_miss_df.index\n",
    "group_by_miss_perc = {}\n",
    "miss_perc = list(v_miss_df[0])\n",
    "miss_col = list(v_miss_df['col'])\n",
    "\n",
    "for i in range(len(miss_perc)):\n",
    "    if miss_perc[i] not in group_by_miss_perc.keys():\n",
    "        group_by_miss_perc[miss_perc[i]] = [v_miss_df['col'][i]]\n",
    "    else:\n",
    "        group_by_miss_perc[miss_perc[i]].append(v_miss_df['col'][i])\n",
    "        \n",
    "miss_keys = list(group_by_miss_perc.keys())\n",
    "final_col_v = []\n",
    "for i in range(len(miss_keys)):\n",
    "    corr = train_df[group_by_miss_perc[miss_keys[i]]].corr()\n",
    "    group = []\n",
    "    \n",
    "    for i in corr.columns:\n",
    "        sub_group = [i]\n",
    "        for j in corr.columns:\n",
    "            if (corr[i][j] > 0.7) and (corr[i][j] < 1):\n",
    "                sub_group.append(j)\n",
    "        group.append(sub_group)\n",
    "    \n",
    "    for i in group:\n",
    "        i.sort()\n",
    "    final_group = []\n",
    "    \n",
    "    for i in group:\n",
    "        if i not in final_group:\n",
    "            final_group.append(i)\n",
    "            \n",
    "    for i in final_group:\n",
    "        if len(i) != 1:\n",
    "            temp = {}\n",
    "            for j in i:\n",
    "                temp[j] = train_df[j].nunique()\n",
    "            sorted_temp = sorted(temp.items(), key=lambda item: item[1])\n",
    "            final_col_v.append(sorted_temp[-1][0])\n",
    "        else:\n",
    "            final_col_v.append(i[0])"
   ]
  },
  {
   "cell_type": "code",
   "execution_count": 12,
   "id": "578e406f",
   "metadata": {},
   "outputs": [],
   "source": [
    "final_col_v = list(set(final_col_v))\n",
    "final_col_v.sort()"
   ]
  },
  {
   "cell_type": "code",
   "execution_count": 13,
   "id": "8a937d8e",
   "metadata": {},
   "outputs": [],
   "source": [
    "# list for one-hot\n",
    "one_hot_lst = ['DeviceType', 'id_12', 'id_15', 'id_16', 'id_23', 'id_27', 'id_28', 'id_29', 'id_32', 'id_34', \n",
    "               'id_35', 'id_34', 'id_35', 'id_36', 'id_37', 'id_38', 'TransactionDayOfWeek', 'TransactionHour',\n",
    "                'ProductCD', 'card4', 'card6', 'addr1_new', 'addr2_new', 'P_emaildomain_new', 'R_emaildomain_new',\n",
    "               'DeviceInfo_new', 'M1', 'M2', 'M3', 'M4', 'M5', 'M6', 'M7', 'M8', 'M9'] + new_id_lst\n",
    "\n",
    "num_list = ['C1', 'C2', 'C3', 'C4', 'C5', 'C6', 'C7', 'C8', 'C9', 'C10', 'C11', 'C12', 'C13', 'C14',\n",
    "        'dist1', 'dist2', 'TransactionAmt_log'] + final_col_v\n",
    "\n",
    "to_ohe = train_df[one_hot_lst]\n",
    "ohe = OneHotEncoder(handle_unknown='ignore')\n",
    "ohe.fit(to_ohe)\n",
    "ohe_features = ohe.transform(to_ohe)\n",
    "cates = pd.DataFrame(ohe_features.toarray())\n",
    "# v_data = train_df.iloc[:, 95:434].fillna(0).to_numpy()"
   ]
  },
  {
   "cell_type": "code",
   "execution_count": 14,
   "id": "b757bde6",
   "metadata": {},
   "outputs": [
    {
     "data": {
      "text/plain": [
       "(413260, 718)"
      ]
     },
     "execution_count": 14,
     "metadata": {},
     "output_type": "execute_result"
    }
   ],
   "source": [
    "cates.shape"
   ]
  },
  {
   "cell_type": "code",
   "execution_count": 15,
   "id": "610bd3b3",
   "metadata": {},
   "outputs": [],
   "source": [
    "nums_part = train_df[num_list].reset_index(drop=True)"
   ]
  },
  {
   "cell_type": "code",
   "execution_count": 16,
   "id": "7dc549bb",
   "metadata": {},
   "outputs": [],
   "source": [
    "# v = pd.DataFrame(v_data).reset_index(drop=True)"
   ]
  },
  {
   "cell_type": "code",
   "execution_count": 17,
   "id": "4a9790a5",
   "metadata": {},
   "outputs": [],
   "source": [
    "# nums = pd.concat([nums_part, v], axis=1)"
   ]
  },
  {
   "cell_type": "code",
   "execution_count": 18,
   "id": "a5955149",
   "metadata": {},
   "outputs": [],
   "source": [
    "X = pd.concat([nums_part, cates], axis=1)\n",
    "y = train_df['isFraud']\n",
    "X.columns = [x for x in range(len(X.columns.tolist()))]\n",
    "xxx = X.columns"
   ]
  },
  {
   "cell_type": "code",
   "execution_count": 19,
   "id": "969c26cb",
   "metadata": {},
   "outputs": [
    {
     "data": {
      "text/plain": [
       "(413260, 870)"
      ]
     },
     "execution_count": 19,
     "metadata": {},
     "output_type": "execute_result"
    }
   ],
   "source": [
    "X.shape"
   ]
  },
  {
   "cell_type": "code",
   "execution_count": 20,
   "id": "ce6928c2",
   "metadata": {},
   "outputs": [
    {
     "data": {
      "text/plain": [
       "(413260,)"
      ]
     },
     "execution_count": 20,
     "metadata": {},
     "output_type": "execute_result"
    }
   ],
   "source": [
    "y.shape"
   ]
  },
  {
   "cell_type": "code",
   "execution_count": 21,
   "id": "0c0122e5",
   "metadata": {},
   "outputs": [
    {
     "data": {
      "text/plain": [
       "(413260, 458)"
      ]
     },
     "execution_count": 21,
     "metadata": {},
     "output_type": "execute_result"
    }
   ],
   "source": [
    "train_df.shape"
   ]
  },
  {
   "cell_type": "markdown",
   "id": "c2548b93",
   "metadata": {},
   "source": [
    "### Train Test Split"
   ]
  },
  {
   "cell_type": "code",
   "execution_count": 22,
   "id": "9c33e1cc",
   "metadata": {},
   "outputs": [],
   "source": [
    "#Raw Ratio\n",
    "X_train, X_test, y_train, y_test = train_test_split(X, y, stratify=y, random_state=590540)"
   ]
  },
  {
   "cell_type": "markdown",
   "id": "6a2b7f96",
   "metadata": {},
   "source": [
    "### XGBoost Decision Tree - Raw Ratio"
   ]
  },
  {
   "cell_type": "code",
   "execution_count": 23,
   "id": "e0289609",
   "metadata": {},
   "outputs": [],
   "source": [
    "#Raw Ratio\n",
    "def XGBoost_DT(X_train, X_test, y_train, y_test):\n",
    "    xgb_cl = xgb.XGBClassifier(user_label_encoder=False, eval_metric='logloss', tree_method='hist', max_depth=3, subsample=0.5, min_child_weight=15)\n",
    "    xgb_cl.fit(X_train, y_train)\n",
    "    preds = xgb_cl.predict(X_test)\n",
    "    accuracy = accuracy_score(y_test, preds)\n",
    "    y_preds = xgb_cl.predict_proba(X_test)\n",
    "    preds = y_preds[:,1]\n",
    "    fpr, tpr, _ = metrics.roc_curve(y_test, preds)\n",
    "    auc_score = metrics.auc(fpr, tpr)\n",
    "    return xgb_cl, accuracy, X_test, y_test, y_preds, preds, fpr, tpr, auc_score"
   ]
  },
  {
   "cell_type": "code",
   "execution_count": 24,
   "id": "2e7e9676",
   "metadata": {},
   "outputs": [
    {
     "name": "stdout",
     "output_type": "stream",
     "text": [
      "[10:11:34] WARNING: C:/Users/Administrator/workspace/xgboost-win64_release_1.6.0/src/learner.cc:627: \n",
      "Parameters: { \"user_label_encoder\" } might not be used.\n",
      "\n",
      "  This could be a false alarm, with some parameters getting used by language bindings but\n",
      "  then being mistakenly passed down to XGBoost core, or some parameter actually being used\n",
      "  but getting flagged wrongly here. Please open an issue if you find any such cases.\n",
      "\n",
      "\n"
     ]
    }
   ],
   "source": [
    "xgb_cl, accuracy, X_test, y_test, y_preds, preds, fpr, tpr, auc_score = XGBoost_DT(X_train, X_test, y_train, y_test)"
   ]
  },
  {
   "cell_type": "code",
   "execution_count": 25,
   "id": "fe6fdf47",
   "metadata": {},
   "outputs": [
    {
     "name": "stdout",
     "output_type": "stream",
     "text": [
      "0.8351933407540048\n"
     ]
    }
   ],
   "source": [
    "print(accuracy)"
   ]
  },
  {
   "cell_type": "code",
   "execution_count": 26,
   "id": "01cffe3b",
   "metadata": {},
   "outputs": [
    {
     "data": {
      "image/png": "[encoded data removed]",
      "text/plain": [
       "<Figure size 432x288 with 2 Axes>"
      ]
     },
     "metadata": {},
     "output_type": "display_data"
    },
    {
     "data": {
      "image/png": "[encoded data removed]",
      "text/plain": [
       "<Figure size 432x288 with 1 Axes>"
      ]
     },
     "metadata": {},
     "output_type": "display_data"
    }
   ],
   "source": [
    "plot_confusion_matrix(xgb_cl, X_test, y_test)\n",
    "plt.show()\n",
    "plt.clf()\n",
    "plt.title('ROC Curve')\n",
    "plt.plot(fpr, tpr, label='AUC = {:.2f}'.format(auc_score))\n",
    "plt.plot([0,1],[0,1],'r--')\n",
    "plt.xlim([-0.1,1.1])\n",
    "plt.ylim([-0.1,1.1])\n",
    "plt.ylabel('True Positive Rate')\n",
    "plt.xlabel('False Positive Rate')\n",
    "plt.legend(loc='lower right')\n",
    "plt.show()"
   ]
  },
  {
   "cell_type": "code",
   "execution_count": 27,
   "id": "2ab7cc2d",
   "metadata": {},
   "outputs": [],
   "source": [
    "# ### Preparing Test Set\n",
    "# test_df = test_df.drop(columns=['id_21', 'id_22', 'id_23', 'id_24', 'id_25', 'id_26','id_27','id_01','id_07','id_08'])"
   ]
  },
  {
   "cell_type": "code",
   "execution_count": 28,
   "id": "24cbad15",
   "metadata": {},
   "outputs": [
    {
     "data": {
      "text/plain": [
       "(506691, 433)"
      ]
     },
     "execution_count": 28,
     "metadata": {},
     "output_type": "execute_result"
    }
   ],
   "source": [
    "test_df.shape"
   ]
  },
  {
   "cell_type": "code",
   "execution_count": 29,
   "id": "01e0e905",
   "metadata": {},
   "outputs": [],
   "source": [
    "#min(train_df['TransactionDT']) #86506"
   ]
  },
  {
   "cell_type": "code",
   "execution_count": 30,
   "id": "164d23ee",
   "metadata": {},
   "outputs": [],
   "source": [
    "#min(test_df['TransactionDT']) #18404013"
   ]
  },
  {
   "cell_type": "code",
   "execution_count": 31,
   "id": "a8e62791",
   "metadata": {},
   "outputs": [],
   "source": [
    "test_df['TransactionDT'] = test_df['TransactionDT'] - min(train_df['TransactionDT'])\n",
    "test_df['TransactionDayOfWeek'] = test_df['TransactionDT'].apply(convert_day_of_week)\n",
    "test_df['TransactionHour'] = test_df['TransactionDT'].apply(convert_hour)\n",
    "# Transaction Amount (Log)\n",
    "test_df['TransactionAmt_log'] = test_df['TransactionAmt'].apply(lambda x: np.log(x))\n",
    "#addr1, addr2\n",
    "top_ten_addr1 = list(test_df['addr1'].value_counts().index)[:100] #top ten regions\n",
    "top_ten_addr2 = list(test_df['addr2'].value_counts().index)[:100] #top ten countries\n",
    "test_df['addr1_new'] = test_df['addr1'].apply(addr1_transform)\n",
    "test_df['addr2_new'] = test_df['addr2'].apply(addr2_transform)\n",
    "#Email_Domain\n",
    "top_twenty_email_p = list(test_df['P_emaildomain'].value_counts().index)[:50] #top ten regions\n",
    "top_twenty_email_r = list(test_df['R_emaildomain'].value_counts().index)[:50] #top ten countries\n",
    "test_df['P_emaildomain'].value_counts()\n",
    "test_df['P_emaildomain_new'] = test_df['P_emaildomain'].apply(email_p_transform)\n",
    "test_df['R_emaildomain_new'] = test_df['R_emaildomain'].apply(email_r_transform)"
   ]
  },
  {
   "cell_type": "code",
   "execution_count": 32,
   "id": "d9d5271e",
   "metadata": {},
   "outputs": [],
   "source": [
    "##new added\n",
    "top_device_info = list(test_df['DeviceInfo'].value_counts().index)[:100] #top device info\n",
    "test_df['DeviceInfo_new'] = test_df['DeviceInfo'].apply(device_info_transform)"
   ]
  },
  {
   "cell_type": "code",
   "execution_count": 33,
   "id": "07f172a9",
   "metadata": {},
   "outputs": [],
   "source": [
    "test_col = [i.replace('-', '_') for i in test_df.columns]\n",
    "test_df.columns = test_col"
   ]
  },
  {
   "cell_type": "code",
   "execution_count": null,
   "id": "bbd9ddca",
   "metadata": {},
   "outputs": [],
   "source": []
  },
  {
   "cell_type": "code",
   "execution_count": 34,
   "id": "667de3c9",
   "metadata": {},
   "outputs": [],
   "source": [
    "def transform_i_new(x, arg=i):\n",
    "    if x in top_i_lst[i]:\n",
    "        return str(x)\n",
    "    elif (pd.isnull(x) == True):\n",
    "        return 'Missing'\n",
    "    else:\n",
    "        return 'Other'\n",
    "\n",
    "for i in range(len(id_lst)):\n",
    "    top_i = list(test_df[id_lst[i]].value_counts().index)[:12] #top device info\n",
    "    new_col = id_lst[i] + '_new'\n",
    "    test_df[new_col] = test_df[id_lst[i]].apply(transform_i_new, arg=i)"
   ]
  },
  {
   "cell_type": "code",
   "execution_count": 35,
   "id": "bd4d4a09",
   "metadata": {},
   "outputs": [],
   "source": [
    "test_df.columns = list(train_df.drop(columns=['isFraud']).columns)"
   ]
  },
  {
   "cell_type": "code",
   "execution_count": 36,
   "id": "b86e742a",
   "metadata": {},
   "outputs": [],
   "source": [
    "ohe_features_test = ohe.transform(test_df[one_hot_lst])\n",
    "cates_test = pd.DataFrame(ohe_features_test.toarray())\n",
    "# v_data = test_df.iloc[:, 94:433].fillna(0).to_numpy()"
   ]
  },
  {
   "cell_type": "code",
   "execution_count": 37,
   "id": "bf21879d",
   "metadata": {},
   "outputs": [],
   "source": [
    "nums_part = test_df[num_list]\n",
    "# v = pd.DataFrame(v_data)\n",
    "# nums = pd.concat([nums_part, v], axis = 1)\n",
    "X = pd.concat([nums_part, cates_test], axis=1)"
   ]
  },
  {
   "cell_type": "code",
   "execution_count": null,
   "id": "eda7b88f",
   "metadata": {},
   "outputs": [],
   "source": []
  },
  {
   "cell_type": "code",
   "execution_count": 38,
   "id": "5807c35d",
   "metadata": {},
   "outputs": [],
   "source": [
    "\n",
    "y = train_df['isFraud']\n",
    "X.columns = [x for x in range(len(X.columns.tolist()))]\n",
    "preds = xgb_cl.predict(X)\n",
    "test_df['isFraud'] = pd.Series(preds)\n",
    "submission = test_df[['TransactionID', 'isFraud']]\n",
    "submission.to_csv(\"submission.csv\", index=False)"
   ]
  },
  {
   "cell_type": "code",
   "execution_count": 39,
   "id": "3c3063b9",
   "metadata": {},
   "outputs": [
    {
     "data": {
      "text/html": [
       "<div>\n",
       "<style scoped>\n",
       "    .dataframe tbody tr th:only-of-type {\n",
       "        vertical-align: middle;\n",
       "    }\n",
       "\n",
       "    .dataframe tbody tr th {\n",
       "        vertical-align: top;\n",
       "    }\n",
       "\n",
       "    .dataframe thead th {\n",
       "        text-align: right;\n",
       "    }\n",
       "</style>\n",
       "<table border=\"1\" class=\"dataframe\">\n",
       "  <thead>\n",
       "    <tr style=\"text-align: right;\">\n",
       "      <th></th>\n",
       "      <th>TransactionID</th>\n",
       "      <th>isFraud</th>\n",
       "    </tr>\n",
       "  </thead>\n",
       "  <tbody>\n",
       "    <tr>\n",
       "      <th>0</th>\n",
       "      <td>3663549</td>\n",
       "      <td>0</td>\n",
       "    </tr>\n",
       "    <tr>\n",
       "      <th>1</th>\n",
       "      <td>3663550</td>\n",
       "      <td>0</td>\n",
       "    </tr>\n",
       "    <tr>\n",
       "      <th>2</th>\n",
       "      <td>3663551</td>\n",
       "      <td>0</td>\n",
       "    </tr>\n",
       "    <tr>\n",
       "      <th>3</th>\n",
       "      <td>3663552</td>\n",
       "      <td>0</td>\n",
       "    </tr>\n",
       "    <tr>\n",
       "      <th>4</th>\n",
       "      <td>3663553</td>\n",
       "      <td>0</td>\n",
       "    </tr>\n",
       "    <tr>\n",
       "      <th>...</th>\n",
       "      <td>...</td>\n",
       "      <td>...</td>\n",
       "    </tr>\n",
       "    <tr>\n",
       "      <th>506686</th>\n",
       "      <td>4170235</td>\n",
       "      <td>0</td>\n",
       "    </tr>\n",
       "    <tr>\n",
       "      <th>506687</th>\n",
       "      <td>4170236</td>\n",
       "      <td>0</td>\n",
       "    </tr>\n",
       "    <tr>\n",
       "      <th>506688</th>\n",
       "      <td>4170237</td>\n",
       "      <td>0</td>\n",
       "    </tr>\n",
       "    <tr>\n",
       "      <th>506689</th>\n",
       "      <td>4170238</td>\n",
       "      <td>0</td>\n",
       "    </tr>\n",
       "    <tr>\n",
       "      <th>506690</th>\n",
       "      <td>4170239</td>\n",
       "      <td>0</td>\n",
       "    </tr>\n",
       "  </tbody>\n",
       "</table>\n",
       "<p>506691 rows × 2 columns</p>\n",
       "</div>"
      ],
      "text/plain": [
       "        TransactionID  isFraud\n",
       "0             3663549        0\n",
       "1             3663550        0\n",
       "2             3663551        0\n",
       "3             3663552        0\n",
       "4             3663553        0\n",
       "...               ...      ...\n",
       "506686        4170235        0\n",
       "506687        4170236        0\n",
       "506688        4170237        0\n",
       "506689        4170238        0\n",
       "506690        4170239        0\n",
       "\n",
       "[506691 rows x 2 columns]"
      ]
     },
     "execution_count": 39,
     "metadata": {},
     "output_type": "execute_result"
    }
   ],
   "source": [
    "submission"
   ]
  },
  {
   "cell_type": "code",
   "execution_count": null,
   "id": "bbf0fd79",
   "metadata": {},
   "outputs": [],
   "source": []
  },
  {
   "cell_type": "code",
   "execution_count": null,
   "id": "459f2b13",
   "metadata": {},
   "outputs": [],
   "source": []
  }
 ],
 "metadata": {
  "kernelspec": {
   "display_name": "Python 3",
   "language": "python",
   "name": "python3"
  },
  "language_info": {
   "codemirror_mode": {
    "name": "ipython",
    "version": 3
   },
   "file_extension": ".py",
   "mimetype": "text/x-python",
   "name": "python",
   "nbconvert_exporter": "python",
   "pygments_lexer": "ipython3",
   "version": "3.8.8"
  }
 },
 "nbformat": 4,
 "nbformat_minor": 5
}
