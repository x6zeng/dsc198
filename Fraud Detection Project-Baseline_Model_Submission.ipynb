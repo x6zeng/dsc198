{
 "cells": [
  {
   "cell_type": "code",
   "execution_count": 1,
   "id": "34ba0068",
   "metadata": {},
   "outputs": [],
   "source": [
    "import numpy as np\n",
    "import math\n",
    "import pandas as pd\n",
    "import sklearn as sk\n",
    "import os\n",
    "import matplotlib\n",
    "import matplotlib.pyplot as plt\n",
    "import warnings \n",
    "from sklearn.decomposition import PCA\n",
    "from sklearn.preprocessing import OneHotEncoder\n",
    "from sklearn.metrics import accuracy_score\n",
    "import xgboost as xgb\n",
    "from sklearn.model_selection import train_test_split\n",
    "from sklearn.metrics import plot_confusion_matrix\n",
    "from sklearn import metrics\n",
    "warnings.filterwarnings('ignore')\n",
    "import seaborn as sns; sns.set_theme()"
   ]
  },
  {
   "cell_type": "markdown",
   "id": "e9466841",
   "metadata": {},
   "source": [
    "### Load Data"
   ]
  },
  {
   "cell_type": "code",
   "execution_count": 2,
   "id": "e17ee3fa",
   "metadata": {},
   "outputs": [
    {
     "name": "stdout",
     "output_type": "stream",
     "text": [
      "Transaction Training DataFrame: 590540 rows & 394 columns.\n",
      "Identity Training DataFrame: 144233 rows & 41 columns.\n",
      "Training DataFrame: 590540 rows & 434 columns.\n",
      "Testing DataFrame: 506691 rows & 433 columns.\n"
     ]
    }
   ],
   "source": [
    "#Data path\n",
    "train_transaction_path = \"data/train_transaction.csv\"\n",
    "train_identity_path = \"data/train_identity.csv\"\n",
    "test_transaction_path = \"data/test_transaction.csv\"\n",
    "test_identity_path = \"data/test_identity.csv\"\n",
    "sample_submission_path = \"data/sample_submission.csv\"\n",
    "\n",
    "#Read data\n",
    "train_transaction = pd.read_csv(train_transaction_path)\n",
    "train_identity = pd.read_csv(train_identity_path)\n",
    "test_transaction = pd.read_csv(test_transaction_path)\n",
    "test_identity = pd.read_csv(test_identity_path)\n",
    "sample_submission = pd.read_csv(sample_submission_path)\n",
    "\n",
    "train_df = pd.merge(train_identity, train_transaction, on=\"TransactionID\", how='right')\n",
    "test_df = pd.merge(test_identity, test_transaction, on=\"TransactionID\", how='right')\n",
    "train_transaction_row = train_transaction.shape[0]\n",
    "train_transaction_col = train_transaction.shape[1]\n",
    "train_identity_row = train_identity.shape[0]\n",
    "train_identity_col = train_identity.shape[1]\n",
    "\n",
    "train_df_row = train_df.shape[0]\n",
    "train_df_col = train_df.shape[1]\n",
    "test_df_row = test_df.shape[0]\n",
    "test_df_col = test_df.shape[1]\n",
    "\n",
    "print('Transaction Training DataFrame: {} rows & {} columns.'.format(train_transaction_row, train_transaction_col))\n",
    "print('Identity Training DataFrame: {} rows & {} columns.'.format(train_identity_row, train_identity_col))\n",
    "print('Training DataFrame: {} rows & {} columns.'.format(train_df_row, train_df_col))\n",
    "print('Testing DataFrame: {} rows & {} columns.'.format(test_df_row, test_df_col))"
   ]
  },
  {
   "cell_type": "code",
   "execution_count": 3,
   "id": "abfbb9c9",
   "metadata": {},
   "outputs": [],
   "source": [
    "# release data from those four\n",
    "del train_transaction\n",
    "del train_identity\n",
    "# del test_transaction\n",
    "# del test_identity"
   ]
  },
  {
   "cell_type": "markdown",
   "id": "4b6ca49c",
   "metadata": {},
   "source": [
    "### Time"
   ]
  },
  {
   "cell_type": "code",
   "execution_count": 4,
   "id": "d8da86b6",
   "metadata": {},
   "outputs": [],
   "source": [
    "## Day of week (one hot)\n",
    "def convert_day_of_week(x):\n",
    "    return (x // (24 * 60 * 60)) % 7\n",
    "\n",
    "# Hour of day (one hot)\n",
    "def convert_hour(x):\n",
    "    return (x // (1 * 60 * 60)) % 24\n",
    "\n",
    "def addr1_transform(x):\n",
    "    if x in top_ten_addr1:\n",
    "        return x\n",
    "    elif (pd.isnull(x) == True):\n",
    "        return 0\n",
    "    else:\n",
    "        return -1\n",
    "    \n",
    "def addr2_transform(x):\n",
    "    if x in top_ten_addr2:\n",
    "        return x\n",
    "    elif (pd.isnull(x) == True):\n",
    "        return 0\n",
    "    else:\n",
    "        return -1\n",
    "    \n",
    "def email_p_transform(x):\n",
    "    if x in top_twenty_email_p:\n",
    "        return x\n",
    "    elif (pd.isnull(x) == True):\n",
    "        return 'Missing'\n",
    "    else:\n",
    "        return 'Other'\n",
    "    \n",
    "def email_r_transform(x):\n",
    "    if x in top_twenty_email_r:\n",
    "        return x\n",
    "    elif (pd.isnull(x) == True):\n",
    "        return 'Missing'\n",
    "    else:\n",
    "        return 'Other'"
   ]
  },
  {
   "cell_type": "code",
   "execution_count": 5,
   "id": "e34b866e",
   "metadata": {},
   "outputs": [
    {
     "name": "stdout",
     "output_type": "stream",
     "text": [
      "86400\n"
     ]
    }
   ],
   "source": [
    "print(min(train_df['TransactionDT']))\n",
    "train_df['TransactionDT'] = train_df['TransactionDT'] - min(train_df['TransactionDT'])\n",
    "train_df['TransactionDayOfWeek'] = train_df['TransactionDT'].apply(convert_day_of_week)\n",
    "train_df['TransactionHour'] = train_df['TransactionDT'].apply(convert_hour)\n",
    "# Transaction Amount (Log)\n",
    "train_df['TransactionAmt_log'] = train_df['TransactionAmt'].apply(lambda x: np.log(x))\n",
    "#addr1, addr2\n",
    "top_ten_addr1 = list(train_df['addr1'].value_counts().index)[:10] #top ten regions\n",
    "top_ten_addr2 = list(train_df['addr2'].value_counts().index)[:10] #top ten countries\n",
    "train_df['addr1_new'] = train_df['addr1'].apply(addr1_transform)\n",
    "train_df['addr2_new'] = train_df['addr2'].apply(addr2_transform)\n",
    "#Email_Domain\n",
    "top_twenty_email_p = list(train_df['P_emaildomain'].value_counts().index)[:20] #top ten regions\n",
    "top_twenty_email_r = list(train_df['R_emaildomain'].value_counts().index)[:20] #top ten countries\n",
    "train_df['P_emaildomain'].value_counts()\n",
    "train_df['P_emaildomain_new'] = train_df['P_emaildomain'].apply(email_p_transform)\n",
    "train_df['R_emaildomain_new'] = train_df['R_emaildomain'].apply(email_r_transform)"
   ]
  },
  {
   "cell_type": "code",
   "execution_count": 6,
   "id": "8a937d8e",
   "metadata": {},
   "outputs": [],
   "source": [
    "# list for one-hot\n",
    "one_hot_lst = ['DeviceType', 'id_12', 'id_15', 'id_16', 'id_23', 'id_27', 'id_28', 'id_29', 'id_32', 'id_34', \n",
    "               'id_35', 'id_34', 'id_35', 'id_36', 'id_37', 'id_38', 'TransactionDayOfWeek', 'TransactionHour',\n",
    "                'ProductCD', 'card4', 'card6', 'addr1_new', 'addr2_new', 'P_emaildomain_new', 'R_emaildomain_new', \n",
    "              'M1', 'M2', 'M3', 'M4', 'M5', 'M6', 'M7', 'M8', 'M9']\n",
    "\n",
    "num_list = ['C1', 'C2', 'C3', 'C4', 'C5', 'C6', 'C7', 'C8', 'C9', 'C10', 'C11', 'C12', 'C13', 'C14',\n",
    "        'dist1', 'dist2', 'TransactionAmt_log']\n",
    "\n",
    "to_ohe = train_df[one_hot_lst]\n",
    "ohe = OneHotEncoder(handle_unknown='ignore')\n",
    "ohe.fit(to_ohe)\n",
    "ohe_features = ohe.transform(to_ohe)\n",
    "cates = pd.DataFrame(ohe_features.toarray())\n",
    "v_data = train_df.iloc[:, 95:434].fillna(0).to_numpy()\n",
    "nums_part = train_df[num_list]\n",
    "v = pd.DataFrame(v_data)\n",
    "nums = pd.concat([nums_part, v], axis = 1)"
   ]
  },
  {
   "cell_type": "code",
   "execution_count": 7,
   "id": "a5955149",
   "metadata": {},
   "outputs": [],
   "source": [
    "X = pd.concat([nums, cates], axis=1)\n",
    "y = train_df['isFraud']\n",
    "X.columns = [x for x in range(len(X.columns.tolist()))]\n",
    "xxx = X.columns"
   ]
  },
  {
   "cell_type": "markdown",
   "id": "c2548b93",
   "metadata": {},
   "source": [
    "### Train Test Split"
   ]
  },
  {
   "cell_type": "code",
   "execution_count": 8,
   "id": "9c33e1cc",
   "metadata": {},
   "outputs": [],
   "source": [
    "#Raw Ratio\n",
    "X_train, X_test, y_train, y_test = train_test_split(X, y, stratify=y, random_state=590540)"
   ]
  },
  {
   "cell_type": "markdown",
   "id": "6a2b7f96",
   "metadata": {},
   "source": [
    "### XGBoost Decision Tree - Raw Ratio"
   ]
  },
  {
   "cell_type": "code",
   "execution_count": 9,
   "id": "e0289609",
   "metadata": {},
   "outputs": [],
   "source": [
    "#Raw Ratio\n",
    "def XGBoost_DT(X_train, X_test, y_train, y_test):\n",
    "    xgb_cl = xgb.XGBClassifier()\n",
    "    xgb_cl.fit(X_train, y_train)\n",
    "    preds = xgb_cl.predict(X_test)\n",
    "    accuracy = accuracy_score(y_test, preds)\n",
    "    y_preds = xgb_cl.predict_proba(X_test)\n",
    "    preds = y_preds[:,1]\n",
    "    fpr, tpr, _ = metrics.roc_curve(y_test, preds)\n",
    "    auc_score = metrics.auc(fpr, tpr)\n",
    "    return xgb_cl, accuracy, X_test, y_test, y_preds, preds, fpr, tpr, auc_score"
   ]
  },
  {
   "cell_type": "code",
   "execution_count": 10,
   "id": "2e7e9676",
   "metadata": {},
   "outputs": [],
   "source": [
    "xgb_cl, accuracy, X_test, y_test, y_preds, preds, fpr, tpr, auc_score = XGBoost_DT(X_train, X_test, y_train, y_test)"
   ]
  },
  {
   "cell_type": "code",
   "execution_count": 11,
   "id": "01cffe3b",
   "metadata": {},
   "outputs": [
    {
     "data": {
      "image/png": "[encoded data removed]",
      "text/plain": [
       "<Figure size 432x288 with 2 Axes>"
      ]
     },
     "metadata": {},
     "output_type": "display_data"
    },
    {
     "data": {
      "image/png": "[encoded data removed]",
      "text/plain": [
       "<Figure size 432x288 with 1 Axes>"
      ]
     },
     "metadata": {},
     "output_type": "display_data"
    }
   ],
   "source": [
    "plot_confusion_matrix(xgb_cl, X_test, y_test)\n",
    "plt.show()\n",
    "plt.clf()\n",
    "plt.title('ROC Curve')\n",
    "plt.plot(fpr, tpr, label='AUC = {:.2f}'.format(auc_score))\n",
    "plt.plot([0,1],[0,1],'r--')\n",
    "plt.xlim([-0.1,1.1])\n",
    "plt.ylim([-0.1,1.1])\n",
    "plt.ylabel('True Positive Rate')\n",
    "plt.xlabel('False Positive Rate')\n",
    "plt.legend(loc='lower right')\n",
    "plt.show()"
   ]
  },
  {
   "cell_type": "code",
   "execution_count": 12,
   "id": "2ab7cc2d",
   "metadata": {},
   "outputs": [],
   "source": [
    "### Preparing Test Set\n",
    "test_df = test_df.drop(columns=['id_21', 'id_22', 'id_23', 'id_24', 'id_25', 'id_26','id_27','id_01','id_07','id_08'])"
   ]
  },
  {
   "cell_type": "code",
   "execution_count": 13,
   "id": "24cbad15",
   "metadata": {},
   "outputs": [
    {
     "data": {
      "text/plain": [
       "(506691, 433)"
      ]
     },
     "execution_count": 13,
     "metadata": {},
     "output_type": "execute_result"
    }
   ],
   "source": [
    "test_df.shape"
   ]
  },
  {
   "cell_type": "code",
   "execution_count": 14,
   "id": "01e0e905",
   "metadata": {},
   "outputs": [],
   "source": [
    "#min(train_df['TransactionDT']) #86506"
   ]
  },
  {
   "cell_type": "code",
   "execution_count": 15,
   "id": "164d23ee",
   "metadata": {},
   "outputs": [],
   "source": [
    "#min(test_df['TransactionDT']) #18404013"
   ]
  },
  {
   "cell_type": "code",
   "execution_count": 16,
   "id": "a8e62791",
   "metadata": {},
   "outputs": [],
   "source": [
    "test_df['TransactionDT'] = test_df['TransactionDT'] - min(train_df['TransactionDT'])\n",
    "test_df['TransactionDayOfWeek'] = test_df['TransactionDT'].apply(convert_day_of_week)\n",
    "test_df['TransactionHour'] = test_df['TransactionDT'].apply(convert_hour)\n",
    "# Transaction Amount (Log)\n",
    "test_df['TransactionAmt_log'] = test_df['TransactionAmt'].apply(lambda x: np.log(x))\n",
    "#addr1, addr2\n",
    "top_ten_addr1 = list(test_df['addr1'].value_counts().index)[:10] #top ten regions\n",
    "top_ten_addr2 = list(test_df['addr2'].value_counts().index)[:10] #top ten countries\n",
    "test_df['addr1_new'] = test_df['addr1'].apply(addr1_transform)\n",
    "test_df['addr2_new'] = test_df['addr2'].apply(addr2_transform)\n",
    "#Email_Domain\n",
    "top_twenty_email_p = list(test_df['P_emaildomain'].value_counts().index)[:20] #top ten regions\n",
    "top_twenty_email_r = list(test_df['R_emaildomain'].value_counts().index)[:20] #top ten countries\n",
    "test_df['P_emaildomain'].value_counts()\n",
    "test_df['P_emaildomain_new'] = test_df['P_emaildomain'].apply(email_p_transform)\n",
    "test_df['R_emaildomain_new'] = test_df['R_emaildomain'].apply(email_r_transform)"
   ]
  },
  {
   "cell_type": "code",
   "execution_count": 17,
   "id": "bd4d4a09",
   "metadata": {},
   "outputs": [],
   "source": [
    "test_df.columns = list(train_df.drop(columns=['isFraud']).columns)"
   ]
  },
  {
   "cell_type": "code",
   "execution_count": 18,
   "id": "b86e742a",
   "metadata": {},
   "outputs": [],
   "source": [
    "ohe_features = ohe.transform(test_df[one_hot_lst])\n",
    "cates = pd.DataFrame(ohe_features.toarray())\n",
    "v_data = test_df.iloc[:, 94:433].fillna(0).to_numpy()\n",
    "nums_part = test_df[num_list]\n",
    "v = pd.DataFrame(v_data)\n",
    "nums = pd.concat([nums_part, v], axis = 1)\n",
    "X = pd.concat([nums, cates], axis=1)\n",
    "y = train_df['isFraud']\n",
    "X.columns = [x for x in range(len(X.columns.tolist()))]\n",
    "preds = xgb_cl.predict(X)\n",
    "test_df['isFraud'] = pd.Series(preds)\n",
    "submission = test_df[['TransactionID', 'isFraud']]\n",
    "submission.to_csv(\"submission.csv\", index=False)"
   ]
  },
  {
   "cell_type": "code",
   "execution_count": 19,
   "id": "3c3063b9",
   "metadata": {},
   "outputs": [
    {
     "data": {
      "text/html": [
       "<div>\n",
       "<style scoped>\n",
       "    .dataframe tbody tr th:only-of-type {\n",
       "        vertical-align: middle;\n",
       "    }\n",
       "\n",
       "    .dataframe tbody tr th {\n",
       "        vertical-align: top;\n",
       "    }\n",
       "\n",
       "    .dataframe thead th {\n",
       "        text-align: right;\n",
       "    }\n",
       "</style>\n",
       "<table border=\"1\" class=\"dataframe\">\n",
       "  <thead>\n",
       "    <tr style=\"text-align: right;\">\n",
       "      <th></th>\n",
       "      <th>TransactionID</th>\n",
       "      <th>isFraud</th>\n",
       "    </tr>\n",
       "  </thead>\n",
       "  <tbody>\n",
       "    <tr>\n",
       "      <th>0</th>\n",
       "      <td>3663549</td>\n",
       "      <td>0</td>\n",
       "    </tr>\n",
       "    <tr>\n",
       "      <th>1</th>\n",
       "      <td>3663550</td>\n",
       "      <td>0</td>\n",
       "    </tr>\n",
       "    <tr>\n",
       "      <th>2</th>\n",
       "      <td>3663551</td>\n",
       "      <td>0</td>\n",
       "    </tr>\n",
       "    <tr>\n",
       "      <th>3</th>\n",
       "      <td>3663552</td>\n",
       "      <td>0</td>\n",
       "    </tr>\n",
       "    <tr>\n",
       "      <th>4</th>\n",
       "      <td>3663553</td>\n",
       "      <td>0</td>\n",
       "    </tr>\n",
       "    <tr>\n",
       "      <th>...</th>\n",
       "      <td>...</td>\n",
       "      <td>...</td>\n",
       "    </tr>\n",
       "    <tr>\n",
       "      <th>506686</th>\n",
       "      <td>4170235</td>\n",
       "      <td>0</td>\n",
       "    </tr>\n",
       "    <tr>\n",
       "      <th>506687</th>\n",
       "      <td>4170236</td>\n",
       "      <td>0</td>\n",
       "    </tr>\n",
       "    <tr>\n",
       "      <th>506688</th>\n",
       "      <td>4170237</td>\n",
       "      <td>0</td>\n",
       "    </tr>\n",
       "    <tr>\n",
       "      <th>506689</th>\n",
       "      <td>4170238</td>\n",
       "      <td>0</td>\n",
       "    </tr>\n",
       "    <tr>\n",
       "      <th>506690</th>\n",
       "      <td>4170239</td>\n",
       "      <td>0</td>\n",
       "    </tr>\n",
       "  </tbody>\n",
       "</table>\n",
       "<p>506691 rows × 2 columns</p>\n",
       "</div>"
      ],
      "text/plain": [
       "        TransactionID  isFraud\n",
       "0             3663549        0\n",
       "1             3663550        0\n",
       "2             3663551        0\n",
       "3             3663552        0\n",
       "4             3663553        0\n",
       "...               ...      ...\n",
       "506686        4170235        0\n",
       "506687        4170236        0\n",
       "506688        4170237        0\n",
       "506689        4170238        0\n",
       "506690        4170239        0\n",
       "\n",
       "[506691 rows x 2 columns]"
      ]
     },
     "execution_count": 19,
     "metadata": {},
     "output_type": "execute_result"
    }
   ],
   "source": [
    "submission"
   ]
  },
  {
   "cell_type": "code",
   "execution_count": null,
   "id": "bbf0fd79",
   "metadata": {},
   "outputs": [],
   "source": []
  },
  {
   "cell_type": "code",
   "execution_count": null,
   "id": "459f2b13",
   "metadata": {},
   "outputs": [],
   "source": []
  }
 ],
 "metadata": {
  "kernelspec": {
   "display_name": "Python 3",
   "language": "python",
   "name": "python3"
  },
  "language_info": {
   "codemirror_mode": {
    "name": "ipython",
    "version": 3
   },
   "file_extension": ".py",
   "mimetype": "text/x-python",
   "name": "python",
   "nbconvert_exporter": "python",
   "pygments_lexer": "ipython3",
   "version": "3.8.8"
  }
 },
 "nbformat": 4,
 "nbformat_minor": 5
}
