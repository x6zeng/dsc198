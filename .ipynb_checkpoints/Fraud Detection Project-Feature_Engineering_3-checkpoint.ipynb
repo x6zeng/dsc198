{
 "cells": [
  {
   "cell_type": "code",
   "execution_count": 1,
   "id": "34ba0068",
   "metadata": {},
   "outputs": [],
   "source": [
    "import numpy as np\n",
    "import math\n",
    "import pandas as pd\n",
    "import sklearn as sk\n",
    "import os\n",
    "import matplotlib\n",
    "import matplotlib.pyplot as plt\n",
    "import warnings \n",
    "from sklearn.decomposition import PCA\n",
    "from sklearn.preprocessing import OneHotEncoder\n",
    "from sklearn.metrics import accuracy_score\n",
    "import xgboost as xgb\n",
    "from sklearn.model_selection import train_test_split\n",
    "from sklearn.metrics import plot_confusion_matrix\n",
    "from sklearn import metrics\n",
    "warnings.filterwarnings('ignore')\n",
    "import seaborn as sns; sns.set_theme()"
   ]
  },
  {
   "cell_type": "markdown",
   "id": "e9466841",
   "metadata": {},
   "source": [
    "### Load Data"
   ]
  },
  {
   "cell_type": "code",
   "execution_count": 2,
   "id": "e17ee3fa",
   "metadata": {},
   "outputs": [
    {
     "name": "stdout",
     "output_type": "stream",
     "text": [
      "Transaction Training DataFrame: 590540 rows & 394 columns.\n",
      "Identity Training DataFrame: 144233 rows & 41 columns.\n",
      "Training DataFrame: 590540 rows & 434 columns.\n",
      "Testing DataFrame: 506691 rows & 433 columns.\n"
     ]
    }
   ],
   "source": [
    "#Data path\n",
    "train_transaction_path = \"data/train_transaction.csv\"\n",
    "train_identity_path = \"data/train_identity.csv\"\n",
    "test_transaction_path = \"data/test_transaction.csv\"\n",
    "test_identity_path = \"data/test_identity.csv\"\n",
    "sample_submission_path = \"data/sample_submission.csv\"\n",
    "\n",
    "#Read data\n",
    "train_transaction = pd.read_csv(train_transaction_path)\n",
    "train_identity = pd.read_csv(train_identity_path)\n",
    "test_transaction = pd.read_csv(test_transaction_path)\n",
    "test_identity = pd.read_csv(test_identity_path)\n",
    "# sample_submission = pd.read_csv(sample_submission_path)\n",
    "\n",
    "train_df = pd.merge(train_identity, train_transaction, on=\"TransactionID\", how='right')\n",
    "test_df = pd.merge(test_identity, test_transaction, on=\"TransactionID\", how='right')\n",
    "train_transaction_row = train_transaction.shape[0]\n",
    "train_transaction_col = train_transaction.shape[1]\n",
    "train_identity_row = train_identity.shape[0]\n",
    "train_identity_col = train_identity.shape[1]\n",
    "\n",
    "train_df_row = train_df.shape[0]\n",
    "train_df_col = train_df.shape[1]\n",
    "test_df_row = test_df.shape[0]\n",
    "test_df_col = test_df.shape[1]\n",
    "\n",
    "print('Transaction Training DataFrame: {} rows & {} columns.'.format(train_transaction_row, train_transaction_col))\n",
    "print('Identity Training DataFrame: {} rows & {} columns.'.format(train_identity_row, train_identity_col))\n",
    "print('Training DataFrame: {} rows & {} columns.'.format(train_df_row, train_df_col))\n",
    "print('Testing DataFrame: {} rows & {} columns.'.format(test_df_row, test_df_col))"
   ]
  },
  {
   "cell_type": "code",
   "execution_count": 3,
   "id": "abfbb9c9",
   "metadata": {},
   "outputs": [],
   "source": [
    "# release data from those four\n",
    "del train_transaction\n",
    "del train_identity\n",
    "# del test_transaction\n",
    "# del test_identity"
   ]
  },
  {
   "cell_type": "code",
   "execution_count": 4,
   "id": "c3a34ef2",
   "metadata": {},
   "outputs": [],
   "source": [
    "train_is_fraud = train_df[train_df['isFraud']==1].sample(replace=True, n=10*len(train_df[train_df['isFraud']==1]))\n",
    "train_is_not_fraud = train_df[train_df['isFraud']==0].sample(n=len(train_is_fraud))\n",
    "train_df = pd.concat([train_is_fraud, train_is_not_fraud])\n",
    "\n",
    "# release memory\n",
    "del train_is_fraud\n",
    "del train_is_not_fraud"
   ]
  },
  {
   "cell_type": "markdown",
   "id": "7a34316f",
   "metadata": {},
   "source": [
    "#### Feature Engineering\n",
    "- Drop rows with more than 90% values missing\n",
    "- Time\n",
    "    - Fraud Level (high, mid, low, very low)\n",
    "    - Minutes to Noon\n",
    "    - Another column with +- sign\n",
    "- Transaction Amount:\n",
    "    - Remove outliers (>30000)\n",
    "    - Add cent features\n",
    "- Email Domain:\n",
    "    - Filter out some very high fraudulent emails\n",
    "    - Clean some emails\n",
    "- V\n",
    "    - Groupby missingness\n",
    "    - Groupby correlation\n",
    "    - Keep the column with the most unique values\n",
    "- UserID\n",
    "    - Combine card1_d1_addr1\n",
    "    - Create several means, stds, count aggregations of several features\n"
   ]
  },
  {
   "cell_type": "markdown",
   "id": "d8d6dd6f",
   "metadata": {},
   "source": [
    "#### Drop Null Features"
   ]
  },
  {
   "cell_type": "code",
   "execution_count": 5,
   "id": "ad83bc8c",
   "metadata": {},
   "outputs": [],
   "source": [
    "def top_missing_cols(df,n=10,thresh=80):\n",
    "    dff = (df.isnull().sum()/df.shape[0])*100\n",
    "    dff = dff.reset_index()\n",
    "    dff.columns = ['col','missing_percent']\n",
    "    dff = dff.sort_values(by=['missing_percent'],ascending=False).reset_index(drop=True)\n",
    "    print(f'There are {df.isnull().any().sum()} columns in this dataset with missing values.')\n",
    "    print(f'There are {dff[dff[\"missing_percent\"] > thresh].shape[0]} columns with missing percent values than {thresh}%')\n",
    "    if n:\n",
    "        return dff.head(n)\n",
    "    else:\n",
    "        return dff"
   ]
  },
  {
   "cell_type": "code",
   "execution_count": 6,
   "id": "29d2f7a2",
   "metadata": {},
   "outputs": [
    {
     "name": "stdout",
     "output_type": "stream",
     "text": [
      "There are 414 columns in this dataset with missing values.\n",
      "There are 9 columns with missing percent values than 90%\n"
     ]
    },
    {
     "data": {
      "text/html": [
       "<div>\n",
       "<style scoped>\n",
       "    .dataframe tbody tr th:only-of-type {\n",
       "        vertical-align: middle;\n",
       "    }\n",
       "\n",
       "    .dataframe tbody tr th {\n",
       "        vertical-align: top;\n",
       "    }\n",
       "\n",
       "    .dataframe thead th {\n",
       "        text-align: right;\n",
       "    }\n",
       "</style>\n",
       "<table border=\"1\" class=\"dataframe\">\n",
       "  <thead>\n",
       "    <tr style=\"text-align: right;\">\n",
       "      <th></th>\n",
       "      <th>col</th>\n",
       "      <th>missing_percent</th>\n",
       "    </tr>\n",
       "  </thead>\n",
       "  <tbody>\n",
       "    <tr>\n",
       "      <th>0</th>\n",
       "      <td>id_24</td>\n",
       "      <td>98.654842</td>\n",
       "    </tr>\n",
       "    <tr>\n",
       "      <th>1</th>\n",
       "      <td>id_25</td>\n",
       "      <td>98.589266</td>\n",
       "    </tr>\n",
       "    <tr>\n",
       "      <th>2</th>\n",
       "      <td>id_26</td>\n",
       "      <td>98.567004</td>\n",
       "    </tr>\n",
       "    <tr>\n",
       "      <th>3</th>\n",
       "      <td>id_07</td>\n",
       "      <td>98.566520</td>\n",
       "    </tr>\n",
       "    <tr>\n",
       "      <th>4</th>\n",
       "      <td>id_08</td>\n",
       "      <td>98.566520</td>\n",
       "    </tr>\n",
       "    <tr>\n",
       "      <th>5</th>\n",
       "      <td>id_21</td>\n",
       "      <td>98.565794</td>\n",
       "    </tr>\n",
       "    <tr>\n",
       "      <th>6</th>\n",
       "      <td>id_22</td>\n",
       "      <td>98.564826</td>\n",
       "    </tr>\n",
       "    <tr>\n",
       "      <th>7</th>\n",
       "      <td>id_23</td>\n",
       "      <td>98.564826</td>\n",
       "    </tr>\n",
       "    <tr>\n",
       "      <th>8</th>\n",
       "      <td>id_27</td>\n",
       "      <td>98.564826</td>\n",
       "    </tr>\n",
       "    <tr>\n",
       "      <th>9</th>\n",
       "      <td>dist2</td>\n",
       "      <td>87.965445</td>\n",
       "    </tr>\n",
       "  </tbody>\n",
       "</table>\n",
       "</div>"
      ],
      "text/plain": [
       "     col  missing_percent\n",
       "0  id_24        98.654842\n",
       "1  id_25        98.589266\n",
       "2  id_26        98.567004\n",
       "3  id_07        98.566520\n",
       "4  id_08        98.566520\n",
       "5  id_21        98.565794\n",
       "6  id_22        98.564826\n",
       "7  id_23        98.564826\n",
       "8  id_27        98.564826\n",
       "9  dist2        87.965445"
      ]
     },
     "execution_count": 6,
     "metadata": {},
     "output_type": "execute_result"
    }
   ],
   "source": [
    "top_missing_cols(train_df, thresh=90)"
   ]
  },
  {
   "cell_type": "code",
   "execution_count": 7,
   "id": "3a811098",
   "metadata": {},
   "outputs": [],
   "source": [
    "# top_missing_cols(test_df, thresh=90)"
   ]
  },
  {
   "cell_type": "code",
   "execution_count": 8,
   "id": "c0d48a4d",
   "metadata": {},
   "outputs": [],
   "source": [
    "# We can see that columns like id_21,id_22,id_23,id_24,id_25,id_26,id_27,id_01,id_07,id_08 \n",
    "# have more than 99 percent missing values. Its better we drop those features.\n",
    "train_df = train_df.drop(columns=['id_21', 'id_22', 'id_23', 'id_24', 'id_25', 'id_26','id_27','id_01','id_07','id_08'])"
   ]
  },
  {
   "cell_type": "markdown",
   "id": "4b6ca49c",
   "metadata": {},
   "source": [
    "### Time"
   ]
  },
  {
   "cell_type": "code",
   "execution_count": 9,
   "id": "d8da86b6",
   "metadata": {},
   "outputs": [],
   "source": [
    "## Day of week (one hot)\n",
    "def convert_day_of_week(x):\n",
    "    return (x // (24 * 60 * 60)) % 7\n",
    "\n",
    "# Hour of day (one hot)\n",
    "def convert_hour(x):\n",
    "    return (x // (1 * 60 * 60)) % 24\n",
    "\n",
    "def addr1_transform(x):\n",
    "    if x in top_ten_addr1:\n",
    "        return x\n",
    "    elif (pd.isnull(x) == True):\n",
    "        return 0\n",
    "    else:\n",
    "        return -1\n",
    "    \n",
    "def addr2_transform(x):\n",
    "    if x in top_ten_addr2:\n",
    "        return x\n",
    "    elif (pd.isnull(x) == True):\n",
    "        return 0\n",
    "    else:\n",
    "        return -1\n",
    "    \n",
    "def email_p_transform(x):\n",
    "    if x in top_twenty_email_p:\n",
    "        return x\n",
    "    elif (pd.isnull(x) == True):\n",
    "        return 'Missing'\n",
    "    else:\n",
    "        return 'Other'\n",
    "    \n",
    "def email_r_transform(x):\n",
    "    if x in top_twenty_email_r:\n",
    "        return x\n",
    "    elif (pd.isnull(x) == True):\n",
    "        return 'Missing'\n",
    "    else:\n",
    "        return 'Other'"
   ]
  },
  {
   "cell_type": "code",
   "execution_count": 10,
   "id": "e34b866e",
   "metadata": {},
   "outputs": [
    {
     "name": "stdout",
     "output_type": "stream",
     "text": [
      "86499\n"
     ]
    }
   ],
   "source": [
    "print(min(train_df['TransactionDT']))\n",
    "train_df['TransactionDT'] = train_df['TransactionDT'] - min(train_df['TransactionDT'])\n",
    "train_df['TransactionDayOfWeek'] = train_df['TransactionDT'].apply(convert_day_of_week)\n",
    "train_df['TransactionHour'] = train_df['TransactionDT'].apply(convert_hour)"
   ]
  },
  {
   "cell_type": "code",
   "execution_count": 11,
   "id": "d4c83ec0",
   "metadata": {},
   "outputs": [],
   "source": [
    "# Fraud Level (high, mid, low, very low)\n",
    "\n",
    "def fraud_level_time(x):\n",
    "    very_low = [13,14,15,16]\n",
    "    low = [12, 17, 22, 0, 1]\n",
    "    mid = [10, 11, 18, 19, 20, 21, 23, 2, 3]\n",
    "    high = [4, 5, 6, 7, 8, 9]\n",
    "    if x in very_low:\n",
    "        return 'very_low'\n",
    "    elif x in low:\n",
    "        return 'low'\n",
    "    elif x in mid:\n",
    "        return 'mid'\n",
    "    else:\n",
    "        return 'high'\n",
    "\n",
    "train_df['fraud_level_time'] = train_df['TransactionHour'].apply(fraud_level_time)\n",
    "# Minutes to Noon\n",
    "noon = 60 * 60 * 12\n",
    "train_df['time_to_noon'] = train_df.apply(lambda row: (noon - (row['TransactionDT'] % noon))//60 if (row['TransactionHour'] > 12) else (row['TransactionDT'] % noon)//60, axis=1)\n",
    "train_df['plus_minus_to_noon'] = train_df['TransactionHour'].apply(lambda x: 'minus' if x < 12 else 'plus')"
   ]
  },
  {
   "cell_type": "markdown",
   "id": "f86fa4a2",
   "metadata": {},
   "source": [
    "#### Transaction Amount"
   ]
  },
  {
   "cell_type": "code",
   "execution_count": 12,
   "id": "f526e812",
   "metadata": {},
   "outputs": [],
   "source": [
    "# train_df.boxplot(column=['TransactionAmt'])"
   ]
  },
  {
   "cell_type": "code",
   "execution_count": 13,
   "id": "cb6e2c97",
   "metadata": {},
   "outputs": [],
   "source": [
    "train_df = train_df[train_df['TransactionAmt'] < 30000]"
   ]
  },
  {
   "cell_type": "code",
   "execution_count": 14,
   "id": "82e12969",
   "metadata": {},
   "outputs": [],
   "source": [
    "# train_df.boxplot(column=['TransactionAmt'])"
   ]
  },
  {
   "cell_type": "code",
   "execution_count": 15,
   "id": "9b7ac439",
   "metadata": {},
   "outputs": [],
   "source": [
    "train_df['cents'] = train_df['TransactionAmt'].apply(lambda x: round(x - math.floor(x), 3))\n",
    "# Transaction Amount (Log)\n",
    "train_df['TransactionAmt_log'] = train_df['TransactionAmt'].apply(lambda x: np.log(x))"
   ]
  },
  {
   "cell_type": "markdown",
   "id": "fd925c8c",
   "metadata": {},
   "source": [
    "#### Email"
   ]
  },
  {
   "cell_type": "code",
   "execution_count": 16,
   "id": "54076af8",
   "metadata": {},
   "outputs": [],
   "source": [
    "def email_p(x):\n",
    "    if x in safe_p_email:\n",
    "        return 0\n",
    "    elif x in sus_p_email:\n",
    "        return 20\n",
    "    elif x in fraud_p_email:\n",
    "        return 50\n",
    "    elif x == 'Missing':\n",
    "        return -1\n",
    "    else:\n",
    "        return 1\n",
    "    \n",
    "table_p = pd.pivot_table(train_df, values='TransactionID', index=['P_emaildomain'], columns=['isFraud'], aggfunc='count')\n",
    "table_p['sum'] = table_p.sum(axis=1)\n",
    "table_p['0_%'] = table_p[0] / table_p['sum']\n",
    "table_p['1_%'] = table_p[1] / table_p['sum']\n",
    "# # # table[[0, 1]]\n",
    "# fig, ax = plt.subplots(figsize = (12, 20))\n",
    "# sns.heatmap(table_p[['0_%', '1_%']], cmap ='RdYlGn', linewidths = 0.30, annot = True) \n",
    "#P_emaildomain\n",
    "safe_p_email = list(table_p[table_p['1_%'].isnull()].index)\n",
    "sus_p_email = ['aim.com', 'mail.com', 'outlook.es', 'outlook.com']\n",
    "fraud_p_email = ['protonmail.com']"
   ]
  },
  {
   "cell_type": "code",
   "execution_count": 17,
   "id": "a13df42f",
   "metadata": {},
   "outputs": [],
   "source": [
    "def email_r(x):\n",
    "    if x in safe_r_email:\n",
    "        return 0\n",
    "    elif x in sus_r_email:\n",
    "        return 5\n",
    "    elif x in fraud_r_email:\n",
    "        return 20\n",
    "    elif x in death_r_email:\n",
    "        return 95\n",
    "    elif x == 'Missing':\n",
    "        return -1\n",
    "    else:\n",
    "        return 1\n",
    "table_r = pd.pivot_table(train_df, values='TransactionID', index=['R_emaildomain'], columns=['isFraud'], aggfunc='count')\n",
    "table_r['sum'] = table_r.sum(axis=1)\n",
    "table_r['0_%'] = table_r[0] / table_r['sum']\n",
    "table_r['1_%'] = table_r[1] / table_r['sum']\n",
    "# # # table[[0, 1]]\n",
    "# fig, ax = plt.subplots(figsize = (12, 20))\n",
    "# sns.heatmap(table_r[['0_%', '1_%']], cmap ='RdYlGn', linewidths = 0.30, annot = True) \n",
    "#R_emaildomain\n",
    "safe_r_email = list(table_r[table_r['1_%'].isnull()].index)\n",
    "sus_r_email = ['earthlink.net', 'gmail.com', 'hotmail.com', 'hotmail.es', 'icloud.com'] #5\n",
    "fraud_r_email = ['mail.com', 'netzero.net', 'outlook.com', 'outlook.es'] #20\n",
    "death_r_email = ['protonmail.com']  #95"
   ]
  },
  {
   "cell_type": "code",
   "execution_count": 18,
   "id": "b694d16c",
   "metadata": {},
   "outputs": [],
   "source": [
    "train_df['email_p_score'] = train_df['P_emaildomain'].apply(email_p)\n",
    "train_df['email_r_score'] = train_df['R_emaildomain'].apply(email_r)"
   ]
  },
  {
   "cell_type": "markdown",
   "id": "a227d448",
   "metadata": {},
   "source": [
    "#### Address"
   ]
  },
  {
   "cell_type": "code",
   "execution_count": 19,
   "id": "2f01ca22",
   "metadata": {},
   "outputs": [],
   "source": [
    "# train_df['addr2'].astype(str)"
   ]
  },
  {
   "cell_type": "code",
   "execution_count": 20,
   "id": "9ae1f444",
   "metadata": {},
   "outputs": [],
   "source": [
    "table_a2 = pd.pivot_table(train_df, values='TransactionID', index=['addr2'], columns=['isFraud'], aggfunc='count')\n",
    "table_a2['sum'] = table_a2.sum(axis=1)\n",
    "table_a2['0_%'] = table_a2[0] / table_a2['sum']\n",
    "table_a2['1_%'] = table_a2[1] / table_a2['sum']\n",
    "# fig, ax = plt.subplots(figsize = (12, 20))\n",
    "# sns.heatmap(table_a2[['0_%', '1_%']], cmap ='RdYlGn', linewidths = 0.30, annot = True) \n",
    "\n",
    "table_a2 = table_a2.fillna(0)\n",
    "a2_df = table_a2[['1_%']]\n",
    "a2_df['index'] = a2_df.index\n",
    "addr2_val = list(table_a2.index)\n",
    "addr2_dict = {}\n",
    "for i in range(len(addr2_val)):\n",
    "    addr2_dict[addr2_val[i]] = a2_df.loc[addr2_val[i], '1_%']\n",
    "addr2_df = train_df[['addr2']].fillna(-2)\n",
    "train_df['addr2'] = addr2_df['addr2'].copy()\n",
    "train_df['addr2_score'] = train_df['addr2'].apply(lambda x: -2 if x == -2 else addr2_dict[x])"
   ]
  },
  {
   "cell_type": "code",
   "execution_count": 21,
   "id": "0dbd6177",
   "metadata": {},
   "outputs": [],
   "source": [
    "# train_df[['addr2', 'addr2_score']].head(20)"
   ]
  },
  {
   "cell_type": "markdown",
   "id": "f85d966a",
   "metadata": {},
   "source": [
    "#### Address 1"
   ]
  },
  {
   "cell_type": "code",
   "execution_count": 22,
   "id": "7c09f109",
   "metadata": {},
   "outputs": [],
   "source": [
    "table_a1 = pd.pivot_table(train_df, values='TransactionID', index=['addr1'], columns=['isFraud'], aggfunc='count')\n",
    "table_a1['sum'] = table_a1.sum(axis=1)\n",
    "table_a1['0_%'] = table_a1[0] / table_a1['sum']\n",
    "table_a1['1_%'] = table_a1[1] / table_a1['sum']\n",
    "# fig, ax = plt.subplots(figsize = (12, 100))\n",
    "# sns.heatmap(table_a1[['0_%', '1_%']], cmap ='RdYlGn', linewidths = 0.30, annot = True) "
   ]
  },
  {
   "cell_type": "code",
   "execution_count": 23,
   "id": "f9d2ebe5",
   "metadata": {},
   "outputs": [],
   "source": [
    "table_a1 = table_a1.fillna(0)\n",
    "a1_df = table_a1[['1_%']]\n",
    "a1_df['index'] = a1_df.index\n",
    "addr1_val = list(table_a1.index)\n",
    "addr1_dict = {}\n",
    "for i in range(len(addr1_val)):\n",
    "    addr1_dict[addr1_val[i]] = a1_df.loc[addr1_val[i], '1_%']\n",
    "addr1_df = train_df[['addr1']].fillna(-2)\n",
    "train_df['addr1'] = addr1_df['addr1'].copy()\n",
    "train_df['addr1_score'] = train_df['addr1'].apply(lambda x: -2 if x == -2 else addr1_dict[x])"
   ]
  },
  {
   "cell_type": "code",
   "execution_count": 24,
   "id": "8f12c832",
   "metadata": {},
   "outputs": [
    {
     "data": {
      "text/html": [
       "<div>\n",
       "<style scoped>\n",
       "    .dataframe tbody tr th:only-of-type {\n",
       "        vertical-align: middle;\n",
       "    }\n",
       "\n",
       "    .dataframe tbody tr th {\n",
       "        vertical-align: top;\n",
       "    }\n",
       "\n",
       "    .dataframe thead th {\n",
       "        text-align: right;\n",
       "    }\n",
       "</style>\n",
       "<table border=\"1\" class=\"dataframe\">\n",
       "  <thead>\n",
       "    <tr style=\"text-align: right;\">\n",
       "      <th></th>\n",
       "      <th>addr1</th>\n",
       "      <th>addr1_score</th>\n",
       "    </tr>\n",
       "  </thead>\n",
       "  <tbody>\n",
       "    <tr>\n",
       "      <th>176289</th>\n",
       "      <td>264.0</td>\n",
       "      <td>0.32922</td>\n",
       "    </tr>\n",
       "    <tr>\n",
       "      <th>475373</th>\n",
       "      <td>-2.0</td>\n",
       "      <td>-2.00000</td>\n",
       "    </tr>\n",
       "  </tbody>\n",
       "</table>\n",
       "</div>"
      ],
      "text/plain": [
       "        addr1  addr1_score\n",
       "176289  264.0      0.32922\n",
       "475373   -2.0     -2.00000"
      ]
     },
     "execution_count": 24,
     "metadata": {},
     "output_type": "execute_result"
    }
   ],
   "source": [
    "train_df[['addr1', 'addr1_score']].head(2)"
   ]
  },
  {
   "cell_type": "markdown",
   "id": "7f719822",
   "metadata": {},
   "source": [
    "#### Device Info"
   ]
  },
  {
   "cell_type": "code",
   "execution_count": 25,
   "id": "584a6dfa",
   "metadata": {},
   "outputs": [],
   "source": [
    "table_di = pd.pivot_table(train_df, values='TransactionID', index=['DeviceInfo'], columns=['isFraud'], aggfunc='count')\n",
    "table_di['sum'] = table_di.sum(axis=1)\n",
    "table_di['0_%'] = table_di[0] / table_di['sum']\n",
    "table_di['1_%'] = table_di[1] / table_di['sum']\n",
    "# fig, ax = plt.subplots(figsize = (12, 100))\n",
    "# sns.heatmap(table_di[['0_%', '1_%']], cmap ='RdYlGn', linewidths = 0.30, annot = True) "
   ]
  },
  {
   "cell_type": "code",
   "execution_count": 26,
   "id": "4080c941",
   "metadata": {},
   "outputs": [],
   "source": [
    "table_di = table_di.fillna(0)\n",
    "di_df = table_di[['1_%']]\n",
    "di_df['index'] = di_df.index\n",
    "di_val = list(table_di.index)"
   ]
  },
  {
   "cell_type": "code",
   "execution_count": 27,
   "id": "3334d375",
   "metadata": {},
   "outputs": [],
   "source": [
    "di_dict = {}\n",
    "for i in range(len(di_val)):\n",
    "    di_dict[di_val[i]] = di_df.loc[di_val[i], '1_%']\n",
    "di_df = train_df[['DeviceInfo']].fillna(-2)\n",
    "train_df['DeviceInfo'] = di_df['DeviceInfo'].copy()\n",
    "train_df['DeviceInfo_score'] = train_df['DeviceInfo'].apply(lambda x: di_dict[x] if x in di_dict.keys() else -2)"
   ]
  },
  {
   "cell_type": "code",
   "execution_count": 28,
   "id": "52941e4e",
   "metadata": {},
   "outputs": [],
   "source": [
    "# train_df[['DeviceInfo', 'DeviceInfo_score']].head(200)"
   ]
  },
  {
   "cell_type": "markdown",
   "id": "4bde8387",
   "metadata": {},
   "source": [
    "#### V"
   ]
  },
  {
   "cell_type": "code",
   "execution_count": 31,
   "id": "803eba95",
   "metadata": {},
   "outputs": [],
   "source": [
    "# Groupby missingness\n",
    "# Groupby correlation\n",
    "# Keep the column with the most unique values\n",
    "v_df = train_df.iloc[:, 85:424]\n",
    "v_miss_df = pd.DataFrame(v_df.isnull().mean())\n",
    "v_miss_df['col'] = v_miss_df.index\n",
    "group_by_miss_perc = {}\n",
    "miss_perc = list(v_miss_df[0])\n",
    "miss_col = list(v_miss_df['col'])\n",
    "\n",
    "for i in range(len(miss_perc)):\n",
    "    if miss_perc[i] not in group_by_miss_perc.keys():\n",
    "        group_by_miss_perc[miss_perc[i]] = [v_miss_df['col'][i]]\n",
    "    else:\n",
    "        group_by_miss_perc[miss_perc[i]].append(v_miss_df['col'][i])\n",
    "        \n",
    "miss_keys = list(group_by_miss_perc.keys())\n",
    "\n",
    "# group_by_miss_perc\n",
    "# for i in miss_keys:\n",
    "#     sub_df = train_df[group_by_miss_perc[i]]\n",
    "#     corr = sub_df.corr()\n",
    "#     sns.heatmap(corr, xticklabels=corr.columns, yticklabels=corr.columns)\n",
    "#     plt.show()\n",
    "\n",
    "final_col_v = []\n",
    "for i in range(len(miss_keys)):\n",
    "    corr = train_df[group_by_miss_perc[miss_keys[i]]].corr()\n",
    "    group = []\n",
    "    \n",
    "    for i in corr.columns:\n",
    "        sub_group = [i]\n",
    "        for j in corr.columns:\n",
    "            if (corr[i][j] > 0.7) and (corr[i][j] < 1):\n",
    "                sub_group.append(j)\n",
    "        group.append(sub_group)\n",
    "    \n",
    "    for i in group:\n",
    "        i.sort()\n",
    "    final_group = []\n",
    "    \n",
    "    for i in group:\n",
    "        if i not in final_group:\n",
    "            final_group.append(i)\n",
    "            \n",
    "    for i in final_group:\n",
    "        if len(i) != 1:\n",
    "            temp = {}\n",
    "            for j in i:\n",
    "                temp[j] = train_df[j].nunique()\n",
    "            sorted_temp = sorted(temp.items(), key=lambda item: item[1])\n",
    "            final_col_v.append(sorted_temp[-1][0])\n",
    "        else:\n",
    "            final_col_v.append(i[0])"
   ]
  },
  {
   "cell_type": "code",
   "execution_count": 32,
   "id": "83ba34d6",
   "metadata": {},
   "outputs": [],
   "source": [
    "final_col_v = list(set(final_col_v))"
   ]
  },
  {
   "cell_type": "code",
   "execution_count": 33,
   "id": "1b4e61e0",
   "metadata": {},
   "outputs": [],
   "source": [
    "final_col_v.sort()"
   ]
  },
  {
   "cell_type": "markdown",
   "id": "5846cc07",
   "metadata": {},
   "source": [
    "### Columns\n"
   ]
  },
  {
   "cell_type": "code",
   "execution_count": 34,
   "id": "8a937d8e",
   "metadata": {},
   "outputs": [],
   "source": [
    "# list for one-hot\n",
    "one_hot_lst = ['DeviceType', 'id_12', 'id_15', 'id_16', 'id_28', 'id_29', 'id_32', 'id_34', \n",
    "               'id_35', 'id_34', 'id_35', 'id_36', 'id_37', 'id_38', 'TransactionDayOfWeek', 'TransactionHour', 'fraud_level_time',\n",
    "               'plus_minus_to_noon', 'ProductCD', 'card4', 'card6', 'M1', 'M2', 'M3', 'M4', 'M5', 'M6', 'M7', 'M8', 'M9']\n",
    "\n",
    "num_list = ['C1', 'C2', 'C3', 'C4', 'C5', 'C6', 'C7', 'C8', 'C9', 'C10', 'C11', 'C12', 'C13', 'C14',\n",
    "        'dist1', 'dist2', 'TransactionAmt_log', 'time_to_noon', 'cents', 'TransactionAmt_log',\n",
    "         'email_p_score', 'email_r_score', 'addr2_score', 'addr1_score', 'DeviceInfo_score']\n",
    "\n",
    "\n",
    "num_list = num_list + final_col_v"
   ]
  },
  {
   "cell_type": "code",
   "execution_count": 35,
   "id": "3b458e8d",
   "metadata": {},
   "outputs": [],
   "source": [
    "to_ohe = train_df[one_hot_lst]\n",
    "ohe = OneHotEncoder(handle_unknown='ignore')\n",
    "ohe.fit(to_ohe)\n",
    "ohe_features = ohe.transform(to_ohe)\n",
    "cates = pd.DataFrame(ohe_features.toarray())\n",
    "nums = train_df[num_list].reset_index(drop=True)\n",
    "X = pd.concat([nums, cates], axis=1)\n",
    "y = train_df['isFraud']\n",
    "X.columns = [x for x in range(len(X.columns.tolist()))]\n",
    "xxx = X.columns"
   ]
  },
  {
   "cell_type": "code",
   "execution_count": 36,
   "id": "268a95c3",
   "metadata": {},
   "outputs": [
    {
     "data": {
      "text/plain": [
       "Int64Index([  0,   1,   2,   3,   4,   5,   6,   7,   8,   9,\n",
       "            ...\n",
       "            276, 277, 278, 279, 280, 281, 282, 283, 284, 285],\n",
       "           dtype='int64', length=286)"
      ]
     },
     "execution_count": 36,
     "metadata": {},
     "output_type": "execute_result"
    }
   ],
   "source": [
    "xxx"
   ]
  },
  {
   "cell_type": "code",
   "execution_count": 39,
   "id": "7d29866b",
   "metadata": {},
   "outputs": [],
   "source": [
    "feat_list = num_list + one_hot_lst"
   ]
  },
  {
   "cell_type": "markdown",
   "id": "c2548b93",
   "metadata": {},
   "source": [
    "### Train Test Split"
   ]
  },
  {
   "cell_type": "code",
   "execution_count": 40,
   "id": "9c33e1cc",
   "metadata": {},
   "outputs": [],
   "source": [
    "#Raw Ratio\n",
    "X_train, X_test, y_train, y_test = train_test_split(X, y, stratify=y, random_state=59054)"
   ]
  },
  {
   "cell_type": "markdown",
   "id": "6a2b7f96",
   "metadata": {},
   "source": [
    "### XGBoost Decision Tree - Balanced Ratio"
   ]
  },
  {
   "cell_type": "code",
   "execution_count": 41,
   "id": "e0289609",
   "metadata": {},
   "outputs": [],
   "source": [
    "#Raw Ratio\n",
    "def XGBoost_DT(X_train, X_test, y_train, y_test):\n",
    "    xgb_cl = xgb.XGBClassifier()\n",
    "    xgb_cl.fit(X_train, y_train)\n",
    "    preds = xgb_cl.predict(X_test)\n",
    "    accuracy = accuracy_score(y_test, preds)\n",
    "    y_preds = xgb_cl.predict_proba(X_test)\n",
    "    preds = y_preds[:,1]\n",
    "    fpr, tpr, _ = metrics.roc_curve(y_test, preds)\n",
    "    auc_score = metrics.auc(fpr, tpr)\n",
    "    return xgb_cl, accuracy, X_test, y_test, y_preds, preds, fpr, tpr, auc_score"
   ]
  },
  {
   "cell_type": "code",
   "execution_count": 42,
   "id": "2e7e9676",
   "metadata": {},
   "outputs": [],
   "source": [
    "xgb_cl, accuracy, X_test, y_test, y_preds, preds, fpr, tpr, auc_score = XGBoost_DT(X_train, X_test, y_train, y_test)"
   ]
  },
  {
   "cell_type": "code",
   "execution_count": 43,
   "id": "84e179d0",
   "metadata": {},
   "outputs": [
    {
     "data": {
      "image/png": "[encoded data removed]",
      "text/plain": [
       "<Figure size 432x288 with 2 Axes>"
      ]
     },
     "metadata": {},
     "output_type": "display_data"
    },
    {
     "data": {
      "image/png": "[encoded data removed]",
      "text/plain": [
       "<Figure size 432x288 with 1 Axes>"
      ]
     },
     "metadata": {},
     "output_type": "display_data"
    }
   ],
   "source": [
    "plot_confusion_matrix(xgb_cl, X_test, y_test)\n",
    "plt.show()\n",
    "plt.clf()\n",
    "plt.title('ROC Curve')\n",
    "plt.plot(fpr, tpr, label='AUC = {:.2f}'.format(auc_score))\n",
    "plt.plot([0,1],[0,1],'r--')\n",
    "plt.xlim([-0.1,1.1])\n",
    "plt.ylim([-0.1,1.1])\n",
    "plt.ylabel('True Positive Rate')\n",
    "plt.xlabel('False Positive Rate')\n",
    "plt.legend(loc='lower right')\n",
    "plt.show()"
   ]
  },
  {
   "cell_type": "code",
   "execution_count": 44,
   "id": "0d3abb4b",
   "metadata": {},
   "outputs": [],
   "source": [
    "def XGBoost_DT_T(X_train, X_test, y_train, y_test):\n",
    "    xgb_cl = xgb.XGBClassifier(eta=0.2, eval_metric='rmse', max_depth=9, min_child_weight=0.5,subsample=1)\n",
    "    xgb_cl_2 = xgb_cl.fit(X_train, y_train)\n",
    "    preds = xgb_cl.predict(X_test)\n",
    "    preds_2 = preds\n",
    "    accuracy = accuracy_score(y_test, preds)\n",
    "    y_preds = xgb_cl.predict_proba(X_test)\n",
    "    preds = y_preds[:,1]\n",
    "    fpr, tpr, _ = metrics.roc_curve(y_test, preds)\n",
    "    auc_score = metrics.auc(fpr, tpr)\n",
    "    return xgb_cl, accuracy, X_test, y_test, y_preds, preds, fpr, tpr, auc_score, preds_2, xgb_cl_2"
   ]
  },
  {
   "cell_type": "code",
   "execution_count": 45,
   "id": "468ace49",
   "metadata": {},
   "outputs": [],
   "source": [
    "xgb_cl_T, accuracy_T, X_test_T, y_test_T, y_preds_T, preds_T, fpr_T, tpr_T, auc_score_T, preds_2, xgb_cl_2 = XGBoost_DT_T(X_train, X_test, y_train, y_test)"
   ]
  },
  {
   "cell_type": "code",
   "execution_count": 46,
   "id": "1c6c5ac9",
   "metadata": {},
   "outputs": [
    {
     "data": {
      "text/plain": [
       "0.9154720998886899"
      ]
     },
     "execution_count": 46,
     "metadata": {},
     "output_type": "execute_result"
    }
   ],
   "source": [
    "accuracy_T"
   ]
  },
  {
   "cell_type": "code",
   "execution_count": 47,
   "id": "854f5be8",
   "metadata": {},
   "outputs": [
    {
     "data": {
      "text/plain": [
       "0.8944403577374269"
      ]
     },
     "execution_count": 47,
     "metadata": {},
     "output_type": "execute_result"
    }
   ],
   "source": [
    "metrics.recall_score(y_test, preds_2)"
   ]
  },
  {
   "cell_type": "code",
   "execution_count": 48,
   "id": "90d9c477",
   "metadata": {},
   "outputs": [
    {
     "data": {
      "text/plain": [
       "0.9337172880670911"
      ]
     },
     "execution_count": 48,
     "metadata": {},
     "output_type": "execute_result"
    }
   ],
   "source": [
    "metrics.precision_score(y_test, preds_2)"
   ]
  },
  {
   "cell_type": "code",
   "execution_count": 49,
   "id": "4b380cf3",
   "metadata": {},
   "outputs": [],
   "source": [
    "feat_names = X_train.columns"
   ]
  },
  {
   "cell_type": "code",
   "execution_count": 50,
   "id": "9f3ad67f",
   "metadata": {},
   "outputs": [],
   "source": [
    "def get_xgb_imp(xgb, feat_names):\n",
    "    imp_vals = xgb.get_booster().get_fscore()\n",
    "    feats_imp = pd.DataFrame(imp_vals,index=np.arange(2)).T\n",
    "    feats_imp.iloc[:,0]= feats_imp.index    \n",
    "    feats_imp.columns=['feature','importance']\n",
    "    feats_imp.sort_values('importance',inplace=True,ascending=False)\n",
    "    feats_imp.reset_index(drop=True,inplace=True)\n",
    "    return feats_imp"
   ]
  },
  {
   "cell_type": "code",
   "execution_count": 67,
   "id": "900a236c",
   "metadata": {},
   "outputs": [],
   "source": [
    "feature_importance_df = get_xgb_imp(xgb_cl_2, feat_names)"
   ]
  },
  {
   "cell_type": "code",
   "execution_count": 61,
   "id": "d41321b5",
   "metadata": {},
   "outputs": [],
   "source": [
    "one_hot = list(range(159, 286))"
   ]
  },
  {
   "cell_type": "code",
   "execution_count": 63,
   "id": "1624335f",
   "metadata": {},
   "outputs": [],
   "source": [
    "feat_names = (num_list + one_hot)"
   ]
  },
  {
   "cell_type": "code",
   "execution_count": 101,
   "id": "0c43f5ca",
   "metadata": {},
   "outputs": [],
   "source": [
    "top_feat = feature_importance_df.head(50)['feature'].to_list()\n",
    "bottom_feat = feature_importance_df.tail(50)['feature'].to_list()"
   ]
  },
  {
   "cell_type": "code",
   "execution_count": 102,
   "id": "aee08194",
   "metadata": {},
   "outputs": [
    {
     "data": {
      "text/plain": [
       "['TransactionAmt_log',\n",
       " 'addr1_score',\n",
       " 'time_to_noon',\n",
       " 'C13',\n",
       " 'C1',\n",
       " 'dist1',\n",
       " 'DeviceInfo_score',\n",
       " 'cents',\n",
       " 'C2',\n",
       " 'dist2',\n",
       " 'C6',\n",
       " 'C11',\n",
       " 'V307',\n",
       " 'V282',\n",
       " 'C14',\n",
       " 'V310',\n",
       " 'V308',\n",
       " 'C9',\n",
       " 'V314',\n",
       " 'V127',\n",
       " 'V283',\n",
       " 'C5',\n",
       " 'V130',\n",
       " 254,\n",
       " 'V294',\n",
       " 'V87',\n",
       " 'V76',\n",
       " 'V36',\n",
       " 'C10',\n",
       " 'V83',\n",
       " 'V13',\n",
       " 250,\n",
       " 'V78',\n",
       " 'C8',\n",
       " 'email_r_score',\n",
       " 'V285',\n",
       " 'V56',\n",
       " 'V20',\n",
       " 'V38',\n",
       " 'V320',\n",
       " 'V62',\n",
       " 'V264',\n",
       " 'V165',\n",
       " 'V54',\n",
       " 'V309',\n",
       " 'V203',\n",
       " 'V37',\n",
       " 'V136',\n",
       " 'V291',\n",
       " 'V160']"
      ]
     },
     "execution_count": 102,
     "metadata": {},
     "output_type": "execute_result"
    }
   ],
   "source": [
    "[feat_names[int(i)] for i in top_feat]"
   ]
  },
  {
   "cell_type": "code",
   "execution_count": 103,
   "id": "914d30fd",
   "metadata": {},
   "outputs": [
    {
     "data": {
      "text/plain": [
       "[246,\n",
       " 'V286',\n",
       " 226,\n",
       " 181,\n",
       " 270,\n",
       " 'V256',\n",
       " 219,\n",
       " 223,\n",
       " 197,\n",
       " 167,\n",
       " 'V230',\n",
       " 'V185',\n",
       " 262,\n",
       " 279,\n",
       " 222,\n",
       " 'V329',\n",
       " 273,\n",
       " 173,\n",
       " 'V93',\n",
       " 'V252',\n",
       " 252,\n",
       " 'V1',\n",
       " 204,\n",
       " 'V239',\n",
       " 201,\n",
       " 'V113',\n",
       " 'V236',\n",
       " 'V110',\n",
       " 175,\n",
       " 'V325',\n",
       " 259,\n",
       " 'V183',\n",
       " 185,\n",
       " 170,\n",
       " 'V98',\n",
       " 'V254',\n",
       " 172,\n",
       " 'V14',\n",
       " 243,\n",
       " 163,\n",
       " 'V122',\n",
       " 183,\n",
       " 186,\n",
       " 161,\n",
       " 'V240',\n",
       " 187,\n",
       " 'V119',\n",
       " 171,\n",
       " 182,\n",
       " 247]"
      ]
     },
     "execution_count": 103,
     "metadata": {},
     "output_type": "execute_result"
    }
   ],
   "source": [
    "[feat_names[int(i)] for i in bottom_feat]"
   ]
  },
  {
   "cell_type": "code",
   "execution_count": 87,
   "id": "00cee1e9",
   "metadata": {},
   "outputs": [
    {
     "data": {
      "text/html": [
       "<div>\n",
       "<style scoped>\n",
       "    .dataframe tbody tr th:only-of-type {\n",
       "        vertical-align: middle;\n",
       "    }\n",
       "\n",
       "    .dataframe tbody tr th {\n",
       "        vertical-align: top;\n",
       "    }\n",
       "\n",
       "    .dataframe thead th {\n",
       "        text-align: right;\n",
       "    }\n",
       "</style>\n",
       "<table border=\"1\" class=\"dataframe\">\n",
       "  <thead>\n",
       "    <tr style=\"text-align: right;\">\n",
       "      <th></th>\n",
       "      <th>feature</th>\n",
       "      <th>importance</th>\n",
       "    </tr>\n",
       "  </thead>\n",
       "  <tbody>\n",
       "    <tr>\n",
       "      <th>0</th>\n",
       "      <td>16</td>\n",
       "      <td>1145.0</td>\n",
       "    </tr>\n",
       "    <tr>\n",
       "      <th>1</th>\n",
       "      <td>23</td>\n",
       "      <td>942.0</td>\n",
       "    </tr>\n",
       "    <tr>\n",
       "      <th>2</th>\n",
       "      <td>17</td>\n",
       "      <td>856.0</td>\n",
       "    </tr>\n",
       "    <tr>\n",
       "      <th>3</th>\n",
       "      <td>12</td>\n",
       "      <td>677.0</td>\n",
       "    </tr>\n",
       "    <tr>\n",
       "      <th>4</th>\n",
       "      <td>0</td>\n",
       "      <td>598.0</td>\n",
       "    </tr>\n",
       "    <tr>\n",
       "      <th>5</th>\n",
       "      <td>14</td>\n",
       "      <td>553.0</td>\n",
       "    </tr>\n",
       "    <tr>\n",
       "      <th>6</th>\n",
       "      <td>24</td>\n",
       "      <td>453.0</td>\n",
       "    </tr>\n",
       "    <tr>\n",
       "      <th>7</th>\n",
       "      <td>18</td>\n",
       "      <td>407.0</td>\n",
       "    </tr>\n",
       "    <tr>\n",
       "      <th>8</th>\n",
       "      <td>1</td>\n",
       "      <td>402.0</td>\n",
       "    </tr>\n",
       "    <tr>\n",
       "      <th>9</th>\n",
       "      <td>15</td>\n",
       "      <td>305.0</td>\n",
       "    </tr>\n",
       "  </tbody>\n",
       "</table>\n",
       "</div>"
      ],
      "text/plain": [
       "  feature  importance\n",
       "0      16      1145.0\n",
       "1      23       942.0\n",
       "2      17       856.0\n",
       "3      12       677.0\n",
       "4       0       598.0\n",
       "5      14       553.0\n",
       "6      24       453.0\n",
       "7      18       407.0\n",
       "8       1       402.0\n",
       "9      15       305.0"
      ]
     },
     "execution_count": 87,
     "metadata": {},
     "output_type": "execute_result"
    }
   ],
   "source": [
    "feature_importance_df.head(10)"
   ]
  },
  {
   "cell_type": "code",
   "execution_count": null,
   "id": "01cffe3b",
   "metadata": {},
   "outputs": [],
   "source": [
    "plot_confusion_matrix(xgb_cl_T, X_test_T, y_test_T)\n",
    "plt.show()\n",
    "plt.clf()\n",
    "plt.title('ROC Curve')\n",
    "plt.plot(fpr_T, tpr_T, label='AUC = {:.2f}'.format(auc_score_T))\n",
    "plt.plot([0,1],[0,1],'r--')\n",
    "plt.xlim([-0.1,1.1])\n",
    "plt.ylim([-0.1,1.1])\n",
    "plt.ylabel('True Positive Rate')\n",
    "plt.xlabel('False Positive Rate')\n",
    "plt.legend(loc='lower right')\n",
    "plt.show()"
   ]
  },
  {
   "cell_type": "markdown",
   "id": "9cfb2a38",
   "metadata": {},
   "source": [
    "### Preparing Test Set"
   ]
  },
  {
   "cell_type": "code",
   "execution_count": 42,
   "id": "232049f1",
   "metadata": {},
   "outputs": [],
   "source": [
    "test_df = test_df.drop(columns=['id-21', 'id-22', 'id-23', 'id-24', 'id-25', 'id-26','id-27','id-01','id-07','id-08'])"
   ]
  },
  {
   "cell_type": "code",
   "execution_count": 43,
   "id": "d7783808",
   "metadata": {},
   "outputs": [],
   "source": [
    "#min(train_df['TransactionDT']) #86506"
   ]
  },
  {
   "cell_type": "code",
   "execution_count": 44,
   "id": "08ed48e8",
   "metadata": {},
   "outputs": [],
   "source": [
    "#min(test_df['TransactionDT']) #18404013"
   ]
  },
  {
   "cell_type": "markdown",
   "id": "e359a847",
   "metadata": {},
   "source": [
    "#### Time"
   ]
  },
  {
   "cell_type": "code",
   "execution_count": 45,
   "id": "5c499d2c",
   "metadata": {},
   "outputs": [],
   "source": [
    "test_df['TransactionDT'] = test_df['TransactionDT'] - min(train_df['TransactionDT'])\n",
    "test_df['TransactionDayOfWeek'] = test_df['TransactionDT'].apply(convert_day_of_week)\n",
    "test_df['TransactionHour'] = test_df['TransactionDT'].apply(convert_hour)\n",
    "test_df['fraud_level_time'] = test_df['TransactionHour'].apply(fraud_level_time)\n",
    "test_df['time_to_noon'] = test_df.apply(lambda row: (noon - (row['TransactionDT'] % noon))//60 if (row['TransactionHour'] > 12) else (row['TransactionDT'] % noon)//60, axis=1)\n",
    "test_df['plus_minus_to_noon'] = test_df['TransactionHour'].apply(lambda x: 'minus' if x < 12 else 'plus')"
   ]
  },
  {
   "cell_type": "markdown",
   "id": "548cc931",
   "metadata": {},
   "source": [
    "#### Amount"
   ]
  },
  {
   "cell_type": "code",
   "execution_count": 48,
   "id": "31f053ea",
   "metadata": {},
   "outputs": [],
   "source": [
    "test_df['cents'] = test_df['TransactionAmt'].apply(lambda x: round(x - math.floor(x), 3))"
   ]
  },
  {
   "cell_type": "code",
   "execution_count": 49,
   "id": "206fe7df",
   "metadata": {},
   "outputs": [],
   "source": [
    "test_df['TransactionAmt_log'] = test_df['TransactionAmt'].apply(lambda x: np.log(x))"
   ]
  },
  {
   "cell_type": "markdown",
   "id": "d04bfeb9",
   "metadata": {},
   "source": [
    "#### Email"
   ]
  },
  {
   "cell_type": "code",
   "execution_count": 50,
   "id": "3c103df6",
   "metadata": {},
   "outputs": [],
   "source": [
    "test_df['email_p_score'] = test_df['P_emaildomain'].fillna('Missing').apply(email_p)\n",
    "test_df['email_r_score'] = test_df['R_emaildomain'].fillna('Missing').apply(email_r)"
   ]
  },
  {
   "cell_type": "markdown",
   "id": "404c9248",
   "metadata": {},
   "source": [
    "#### Addr"
   ]
  },
  {
   "cell_type": "code",
   "execution_count": 51,
   "id": "e0462738",
   "metadata": {},
   "outputs": [],
   "source": [
    "test_df['addr2'] = test_df['addr2'].fillna(-2)\n",
    "test_df['addr2_score'] = test_df['addr2'].apply(lambda x: addr2_dict[x] if x in addr2_dict else (-2 if x == -2 else -1))"
   ]
  },
  {
   "cell_type": "code",
   "execution_count": 52,
   "id": "187d677d",
   "metadata": {},
   "outputs": [],
   "source": [
    "test_df['addr1'] = test_df['addr1'].fillna(-2)\n",
    "test_df['addr1_score'] = test_df['addr1'].apply(lambda x: addr1_dict[x] if x in addr1_dict else (-2 if x == -2 else -1))"
   ]
  },
  {
   "cell_type": "markdown",
   "id": "596dcb24",
   "metadata": {},
   "source": [
    "#### DeviceInfo"
   ]
  },
  {
   "cell_type": "code",
   "execution_count": 53,
   "id": "f11d9454",
   "metadata": {},
   "outputs": [],
   "source": [
    "test_df['DeviceInfo'] = test_df['DeviceInfo'].fillna(-2)\n",
    "test_df['DeviceInfo_score'] = test_df['DeviceInfo'].apply(lambda x: di_dict[x] if x in di_dict else (-2 if x == -2 else -1))"
   ]
  },
  {
   "cell_type": "markdown",
   "id": "33fe68b7",
   "metadata": {},
   "source": [
    "#### Columns"
   ]
  },
  {
   "cell_type": "code",
   "execution_count": 54,
   "id": "b381cd0c",
   "metadata": {},
   "outputs": [
    {
     "data": {
      "text/plain": [
       "Index(['TransactionID', 'id_02', 'id_03', 'id_04', 'id_05', 'id_06', 'id_09',\n",
       "       'id_10', 'id_11', 'id_12',\n",
       "       ...\n",
       "       'fraud_level_time', 'time_to_noon', 'plus_minus_to_noon', 'cents',\n",
       "       'TransactionAmt_log', 'email_p_score', 'email_r_score', 'addr2_score',\n",
       "       'addr1_score', 'DeviceInfo_score'],\n",
       "      dtype='object', length=436)"
      ]
     },
     "execution_count": 54,
     "metadata": {},
     "output_type": "execute_result"
    }
   ],
   "source": [
    "train_df.columns"
   ]
  },
  {
   "cell_type": "code",
   "execution_count": 55,
   "id": "e482a56e",
   "metadata": {},
   "outputs": [
    {
     "data": {
      "text/plain": [
       "Index(['TransactionID', 'id-02', 'id-03', 'id-04', 'id-05', 'id-06', 'id-09',\n",
       "       'id-10', 'id-11', 'id-12',\n",
       "       ...\n",
       "       'fraud_level_time', 'time_to_noon', 'plus_minus_to_noon', 'cents',\n",
       "       'TransactionAmt_log', 'email_p_score', 'email_r_score', 'addr2_score',\n",
       "       'addr1_score', 'DeviceInfo_score'],\n",
       "      dtype='object', length=435)"
      ]
     },
     "execution_count": 55,
     "metadata": {},
     "output_type": "execute_result"
    }
   ],
   "source": [
    "test_df.columns"
   ]
  },
  {
   "cell_type": "code",
   "execution_count": 56,
   "id": "d58af751",
   "metadata": {},
   "outputs": [],
   "source": [
    "test_df.columns = list(train_df.drop(columns=['isFraud']).columns)\n",
    "ohe_features = ohe.transform(test_df[one_hot_lst])\n",
    "cates = pd.DataFrame(ohe_features.toarray())\n",
    "nums_part = test_df[num_list]\n",
    "X = pd.concat([nums_part, cates], axis=1)\n",
    "X.columns = [x for x in range(len(X.columns.tolist()))]"
   ]
  },
  {
   "cell_type": "code",
   "execution_count": 57,
   "id": "1856be9a",
   "metadata": {},
   "outputs": [],
   "source": [
    "preds = xgb_cl.predict(X)\n",
    "preds_T = xgb_cl_T.predict(X)\n",
    "test_df['isFraud'] = pd.Series(preds)\n",
    "test_df['isFraud'] = pd.Series(preds_T)\n",
    "submission = test_df[['TransactionID', 'isFraud']]\n",
    "submission_T = test_df[['TransactionID', 'isFraud']]"
   ]
  },
  {
   "cell_type": "code",
   "execution_count": 58,
   "id": "c14bf463",
   "metadata": {},
   "outputs": [],
   "source": [
    "submission.to_csv(\"submission_balanced_10x_FE.csv\", index=False)\n",
    "submission_T.to_csv(\"submission_balanced_10x_FE_T.csv\", index=False)"
   ]
  },
  {
   "cell_type": "code",
   "execution_count": 59,
   "id": "43ff4e61",
   "metadata": {},
   "outputs": [
    {
     "data": {
      "text/html": [
       "<div>\n",
       "<style scoped>\n",
       "    .dataframe tbody tr th:only-of-type {\n",
       "        vertical-align: middle;\n",
       "    }\n",
       "\n",
       "    .dataframe tbody tr th {\n",
       "        vertical-align: top;\n",
       "    }\n",
       "\n",
       "    .dataframe thead th {\n",
       "        text-align: right;\n",
       "    }\n",
       "</style>\n",
       "<table border=\"1\" class=\"dataframe\">\n",
       "  <thead>\n",
       "    <tr style=\"text-align: right;\">\n",
       "      <th></th>\n",
       "      <th>TransactionID</th>\n",
       "      <th>isFraud</th>\n",
       "    </tr>\n",
       "  </thead>\n",
       "  <tbody>\n",
       "    <tr>\n",
       "      <th>0</th>\n",
       "      <td>3663549</td>\n",
       "      <td>0</td>\n",
       "    </tr>\n",
       "    <tr>\n",
       "      <th>1</th>\n",
       "      <td>3663550</td>\n",
       "      <td>0</td>\n",
       "    </tr>\n",
       "    <tr>\n",
       "      <th>2</th>\n",
       "      <td>3663551</td>\n",
       "      <td>0</td>\n",
       "    </tr>\n",
       "    <tr>\n",
       "      <th>3</th>\n",
       "      <td>3663552</td>\n",
       "      <td>0</td>\n",
       "    </tr>\n",
       "    <tr>\n",
       "      <th>4</th>\n",
       "      <td>3663553</td>\n",
       "      <td>0</td>\n",
       "    </tr>\n",
       "    <tr>\n",
       "      <th>...</th>\n",
       "      <td>...</td>\n",
       "      <td>...</td>\n",
       "    </tr>\n",
       "    <tr>\n",
       "      <th>506686</th>\n",
       "      <td>4170235</td>\n",
       "      <td>0</td>\n",
       "    </tr>\n",
       "    <tr>\n",
       "      <th>506687</th>\n",
       "      <td>4170236</td>\n",
       "      <td>0</td>\n",
       "    </tr>\n",
       "    <tr>\n",
       "      <th>506688</th>\n",
       "      <td>4170237</td>\n",
       "      <td>0</td>\n",
       "    </tr>\n",
       "    <tr>\n",
       "      <th>506689</th>\n",
       "      <td>4170238</td>\n",
       "      <td>0</td>\n",
       "    </tr>\n",
       "    <tr>\n",
       "      <th>506690</th>\n",
       "      <td>4170239</td>\n",
       "      <td>0</td>\n",
       "    </tr>\n",
       "  </tbody>\n",
       "</table>\n",
       "<p>506691 rows × 2 columns</p>\n",
       "</div>"
      ],
      "text/plain": [
       "        TransactionID  isFraud\n",
       "0             3663549        0\n",
       "1             3663550        0\n",
       "2             3663551        0\n",
       "3             3663552        0\n",
       "4             3663553        0\n",
       "...               ...      ...\n",
       "506686        4170235        0\n",
       "506687        4170236        0\n",
       "506688        4170237        0\n",
       "506689        4170238        0\n",
       "506690        4170239        0\n",
       "\n",
       "[506691 rows x 2 columns]"
      ]
     },
     "execution_count": 59,
     "metadata": {},
     "output_type": "execute_result"
    }
   ],
   "source": [
    "submission"
   ]
  },
  {
   "cell_type": "code",
   "execution_count": null,
   "id": "4d8f59a2",
   "metadata": {},
   "outputs": [],
   "source": []
  },
  {
   "cell_type": "code",
   "execution_count": null,
   "id": "2452db82",
   "metadata": {},
   "outputs": [],
   "source": []
  }
 ],
 "metadata": {
  "kernelspec": {
   "display_name": "Python 3",
   "language": "python",
   "name": "python3"
  },
  "language_info": {
   "codemirror_mode": {
    "name": "ipython",
    "version": 3
   },
   "file_extension": ".py",
   "mimetype": "text/x-python",
   "name": "python",
   "nbconvert_exporter": "python",
   "pygments_lexer": "ipython3",
   "version": "3.8.8"
  }
 },
 "nbformat": 4,
 "nbformat_minor": 5
}
