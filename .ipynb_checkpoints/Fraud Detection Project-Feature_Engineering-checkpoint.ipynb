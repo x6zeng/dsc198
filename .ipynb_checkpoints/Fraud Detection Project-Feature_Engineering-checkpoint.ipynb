{
 "cells": [
  {
   "cell_type": "code",
   "execution_count": 1,
   "id": "34ba0068",
   "metadata": {},
   "outputs": [],
   "source": [
    "import numpy as np\n",
    "import math\n",
    "import pandas as pd\n",
    "import sklearn as sk\n",
    "import os\n",
    "import matplotlib\n",
    "import matplotlib.pyplot as plt\n",
    "import warnings \n",
    "from sklearn.decomposition import PCA\n",
    "from sklearn.preprocessing import OneHotEncoder\n",
    "from sklearn.metrics import accuracy_score\n",
    "import xgboost as xgb\n",
    "from sklearn.model_selection import train_test_split\n",
    "from sklearn.metrics import plot_confusion_matrix\n",
    "from sklearn import metrics\n",
    "warnings.filterwarnings('ignore')\n",
    "import seaborn as sns; sns.set_theme()"
   ]
  },
  {
   "cell_type": "markdown",
   "id": "0f0a2a9b",
   "metadata": {},
   "source": [
    "### Meta Data"
   ]
  },
  {
   "cell_type": "markdown",
   "id": "558363e0",
   "metadata": {},
   "source": [
    "In this project, we are predicting the probability that an online transaction is fraudulent, \n",
    "as denoted by the binary target isFraud. The data is broken into two files identity and transaction, \n",
    "which are joined by TransactionID. Not all transactions have corresponding identity information."
   ]
  },
  {
   "cell_type": "markdown",
   "id": "7070a26e",
   "metadata": {},
   "source": [
    "**Transaction Table**\n",
    "\n",
    "- **TransactionDT**: timedelta from a given reference datetime (not an actual timestamp)\n",
    "- **TransactionAmt**: transaction payment amount in USD\n",
    "- **ProductCD**: product code, the product for each transaction\n",
    "- **card1 - card6**: payment card information, such as card type, card category, issue bank, country, etc.\n",
    "- **addr1, addr2**: “both addresses are for purchaser; addr1 as billing region; addr2 as billing country”\n",
    "- **dist: distance**; \"distances between (not limited) billing address, mailing address, zip code, IP address, phone area, etc.”\n",
    "- **P_ and (R__) emaildomain**: purchaser and recipient email domain (certain transactions don't need recipient, so R_emaildomain is null.)\n",
    "- **C1-C14**: counting, such as how many addresses are found to be associated with the payment card, etc. The actual meaning is masked. (maybe counts of phone numbers, email addresses, names associated with the user, device, ipaddr, billingaddr, etc. Also these are for both purchaser and recipient, which doubles the number.)\n",
    "- **D1-D15**: timedelta, such as days between previous transaction, etc.\n",
    "- **M1-M9**: match, such as names on card and address, etc.\n",
    "- **Vxxx**: Vesta engineered rich features, including ranking, counting, and other entity relations."
   ]
  },
  {
   "cell_type": "markdown",
   "id": "9c0ee82c",
   "metadata": {},
   "source": [
    "**Identity Table**\n",
    "\n",
    "- **DeviceType**\n",
    "- **DeviceInfo**\n",
    "- **id_01 - id_38**\n",
    "- Variables in this table are identity information – network connection information (IP, ISP, Proxy, etc) and digital signature (UA/browser/os/version, etc) associated with transactions.\n",
    "- They're collected by Vesta’s fraud protection system and digital security partners.\n",
    "- The field names are masked and pairwise dictionary will not be provided for privacy protection and contract agreement"
   ]
  },
  {
   "cell_type": "markdown",
   "id": "99f17cd8",
   "metadata": {},
   "source": [
    "### Feature Engineering\n",
    "\n",
    "In this notebook, we will be primarily focused on feature engineering.\n",
    "\n",
    "Baseline Model:\n",
    "\n",
    "- Model: XG-Boost\n",
    "\n",
    "Feature Engineering (important)\n",
    "- Time\n",
    "- Day of week (one hot)\n",
    "- Hour of day (one hot)\n",
    "- Transaction Amount (take log when linear model?)\n",
    "- Product Code (one hot)\n",
    "- Card information\n",
    "- 4 & 6 (one hot)\n",
    "- Others : consider later (large amount of categorical data)\n",
    "- Address\n",
    "- Top 10 countries and other\n",
    "- Region: consider later\n",
    "- Dist\n",
    "    - Dist1, Dist2 (direct)\n",
    "- Email_Domain\n",
    "    - P & R: Top 20 and other\n",
    "- Count\n",
    "    - 1-14\n",
    "- D\n",
    "    - Consider later\n",
    "- M1 - M9\n",
    "    - One hot\n",
    "- V:\n",
    "    - Standardized and PCA\n",
    "\n",
    "龙：\n",
    "- Device Type & Info:\n",
    "- One hot\n",
    "- ID\n",
    "- IP: feature engineering\n",
    "    - (If already featured: direct as numeric)\n",
    "    - (tags < 10): one - hot\n",
    "    - (tags > 10): consider later\n"
   ]
  },
  {
   "cell_type": "markdown",
   "id": "e9466841",
   "metadata": {},
   "source": [
    "### Load Data"
   ]
  },
  {
   "cell_type": "code",
   "execution_count": 3,
   "id": "e17ee3fa",
   "metadata": {},
   "outputs": [
    {
     "ename": "MemoryError",
     "evalue": "Unable to allocate 16.0 KiB for an array with shape (2048,) and data type int64",
     "output_type": "error",
     "traceback": [
      "\u001b[1;31m---------------------------------------------------------------------------\u001b[0m",
      "\u001b[1;31mMemoryError\u001b[0m                               Traceback (most recent call last)",
      "\u001b[1;32m<ipython-input-3-6bfd3b808f53>\u001b[0m in \u001b[0;36m<module>\u001b[1;34m\u001b[0m\n\u001b[0;32m      7\u001b[0m \u001b[1;33m\u001b[0m\u001b[0m\n\u001b[0;32m      8\u001b[0m \u001b[1;31m#Read data\u001b[0m\u001b[1;33m\u001b[0m\u001b[1;33m\u001b[0m\u001b[1;33m\u001b[0m\u001b[0m\n\u001b[1;32m----> 9\u001b[1;33m \u001b[0mtrain_transaction\u001b[0m \u001b[1;33m=\u001b[0m \u001b[0mpd\u001b[0m\u001b[1;33m.\u001b[0m\u001b[0mread_csv\u001b[0m\u001b[1;33m(\u001b[0m\u001b[0mtrain_transaction_path\u001b[0m\u001b[1;33m)\u001b[0m\u001b[1;33m\u001b[0m\u001b[1;33m\u001b[0m\u001b[0m\n\u001b[0m\u001b[0;32m     10\u001b[0m \u001b[0mtrain_identity\u001b[0m \u001b[1;33m=\u001b[0m \u001b[0mpd\u001b[0m\u001b[1;33m.\u001b[0m\u001b[0mread_csv\u001b[0m\u001b[1;33m(\u001b[0m\u001b[0mtrain_identity_path\u001b[0m\u001b[1;33m)\u001b[0m\u001b[1;33m\u001b[0m\u001b[1;33m\u001b[0m\u001b[0m\n\u001b[0;32m     11\u001b[0m \u001b[1;31m# test_transaction = pd.read_csv(test_transaction_path)\u001b[0m\u001b[1;33m\u001b[0m\u001b[1;33m\u001b[0m\u001b[1;33m\u001b[0m\u001b[0m\n",
      "\u001b[1;32m~\\anaconda3\\lib\\site-packages\\pandas\\io\\parsers.py\u001b[0m in \u001b[0;36mread_csv\u001b[1;34m(filepath_or_buffer, sep, delimiter, header, names, index_col, usecols, squeeze, prefix, mangle_dupe_cols, dtype, engine, converters, true_values, false_values, skipinitialspace, skiprows, skipfooter, nrows, na_values, keep_default_na, na_filter, verbose, skip_blank_lines, parse_dates, infer_datetime_format, keep_date_col, date_parser, dayfirst, cache_dates, iterator, chunksize, compression, thousands, decimal, lineterminator, quotechar, quoting, doublequote, escapechar, comment, encoding, dialect, error_bad_lines, warn_bad_lines, delim_whitespace, low_memory, memory_map, float_precision, storage_options)\u001b[0m\n\u001b[0;32m    608\u001b[0m     \u001b[0mkwds\u001b[0m\u001b[1;33m.\u001b[0m\u001b[0mupdate\u001b[0m\u001b[1;33m(\u001b[0m\u001b[0mkwds_defaults\u001b[0m\u001b[1;33m)\u001b[0m\u001b[1;33m\u001b[0m\u001b[1;33m\u001b[0m\u001b[0m\n\u001b[0;32m    609\u001b[0m \u001b[1;33m\u001b[0m\u001b[0m\n\u001b[1;32m--> 610\u001b[1;33m     \u001b[1;32mreturn\u001b[0m \u001b[0m_read\u001b[0m\u001b[1;33m(\u001b[0m\u001b[0mfilepath_or_buffer\u001b[0m\u001b[1;33m,\u001b[0m \u001b[0mkwds\u001b[0m\u001b[1;33m)\u001b[0m\u001b[1;33m\u001b[0m\u001b[1;33m\u001b[0m\u001b[0m\n\u001b[0m\u001b[0;32m    611\u001b[0m \u001b[1;33m\u001b[0m\u001b[0m\n\u001b[0;32m    612\u001b[0m \u001b[1;33m\u001b[0m\u001b[0m\n",
      "\u001b[1;32m~\\anaconda3\\lib\\site-packages\\pandas\\io\\parsers.py\u001b[0m in \u001b[0;36m_read\u001b[1;34m(filepath_or_buffer, kwds)\u001b[0m\n\u001b[0;32m    466\u001b[0m \u001b[1;33m\u001b[0m\u001b[0m\n\u001b[0;32m    467\u001b[0m     \u001b[1;32mwith\u001b[0m \u001b[0mparser\u001b[0m\u001b[1;33m:\u001b[0m\u001b[1;33m\u001b[0m\u001b[1;33m\u001b[0m\u001b[0m\n\u001b[1;32m--> 468\u001b[1;33m         \u001b[1;32mreturn\u001b[0m \u001b[0mparser\u001b[0m\u001b[1;33m.\u001b[0m\u001b[0mread\u001b[0m\u001b[1;33m(\u001b[0m\u001b[0mnrows\u001b[0m\u001b[1;33m)\u001b[0m\u001b[1;33m\u001b[0m\u001b[1;33m\u001b[0m\u001b[0m\n\u001b[0m\u001b[0;32m    469\u001b[0m \u001b[1;33m\u001b[0m\u001b[0m\n\u001b[0;32m    470\u001b[0m \u001b[1;33m\u001b[0m\u001b[0m\n",
      "\u001b[1;32m~\\anaconda3\\lib\\site-packages\\pandas\\io\\parsers.py\u001b[0m in \u001b[0;36mread\u001b[1;34m(self, nrows)\u001b[0m\n\u001b[0;32m   1055\u001b[0m     \u001b[1;32mdef\u001b[0m \u001b[0mread\u001b[0m\u001b[1;33m(\u001b[0m\u001b[0mself\u001b[0m\u001b[1;33m,\u001b[0m \u001b[0mnrows\u001b[0m\u001b[1;33m=\u001b[0m\u001b[1;32mNone\u001b[0m\u001b[1;33m)\u001b[0m\u001b[1;33m:\u001b[0m\u001b[1;33m\u001b[0m\u001b[1;33m\u001b[0m\u001b[0m\n\u001b[0;32m   1056\u001b[0m         \u001b[0mnrows\u001b[0m \u001b[1;33m=\u001b[0m \u001b[0mvalidate_integer\u001b[0m\u001b[1;33m(\u001b[0m\u001b[1;34m\"nrows\"\u001b[0m\u001b[1;33m,\u001b[0m \u001b[0mnrows\u001b[0m\u001b[1;33m)\u001b[0m\u001b[1;33m\u001b[0m\u001b[1;33m\u001b[0m\u001b[0m\n\u001b[1;32m-> 1057\u001b[1;33m         \u001b[0mindex\u001b[0m\u001b[1;33m,\u001b[0m \u001b[0mcolumns\u001b[0m\u001b[1;33m,\u001b[0m \u001b[0mcol_dict\u001b[0m \u001b[1;33m=\u001b[0m \u001b[0mself\u001b[0m\u001b[1;33m.\u001b[0m\u001b[0m_engine\u001b[0m\u001b[1;33m.\u001b[0m\u001b[0mread\u001b[0m\u001b[1;33m(\u001b[0m\u001b[0mnrows\u001b[0m\u001b[1;33m)\u001b[0m\u001b[1;33m\u001b[0m\u001b[1;33m\u001b[0m\u001b[0m\n\u001b[0m\u001b[0;32m   1058\u001b[0m \u001b[1;33m\u001b[0m\u001b[0m\n\u001b[0;32m   1059\u001b[0m         \u001b[1;32mif\u001b[0m \u001b[0mindex\u001b[0m \u001b[1;32mis\u001b[0m \u001b[1;32mNone\u001b[0m\u001b[1;33m:\u001b[0m\u001b[1;33m\u001b[0m\u001b[1;33m\u001b[0m\u001b[0m\n",
      "\u001b[1;32m~\\anaconda3\\lib\\site-packages\\pandas\\io\\parsers.py\u001b[0m in \u001b[0;36mread\u001b[1;34m(self, nrows)\u001b[0m\n\u001b[0;32m   2059\u001b[0m     \u001b[1;32mdef\u001b[0m \u001b[0mread\u001b[0m\u001b[1;33m(\u001b[0m\u001b[0mself\u001b[0m\u001b[1;33m,\u001b[0m \u001b[0mnrows\u001b[0m\u001b[1;33m=\u001b[0m\u001b[1;32mNone\u001b[0m\u001b[1;33m)\u001b[0m\u001b[1;33m:\u001b[0m\u001b[1;33m\u001b[0m\u001b[1;33m\u001b[0m\u001b[0m\n\u001b[0;32m   2060\u001b[0m         \u001b[1;32mtry\u001b[0m\u001b[1;33m:\u001b[0m\u001b[1;33m\u001b[0m\u001b[1;33m\u001b[0m\u001b[0m\n\u001b[1;32m-> 2061\u001b[1;33m             \u001b[0mdata\u001b[0m \u001b[1;33m=\u001b[0m \u001b[0mself\u001b[0m\u001b[1;33m.\u001b[0m\u001b[0m_reader\u001b[0m\u001b[1;33m.\u001b[0m\u001b[0mread\u001b[0m\u001b[1;33m(\u001b[0m\u001b[0mnrows\u001b[0m\u001b[1;33m)\u001b[0m\u001b[1;33m\u001b[0m\u001b[1;33m\u001b[0m\u001b[0m\n\u001b[0m\u001b[0;32m   2062\u001b[0m         \u001b[1;32mexcept\u001b[0m \u001b[0mStopIteration\u001b[0m\u001b[1;33m:\u001b[0m\u001b[1;33m\u001b[0m\u001b[1;33m\u001b[0m\u001b[0m\n\u001b[0;32m   2063\u001b[0m             \u001b[1;32mif\u001b[0m \u001b[0mself\u001b[0m\u001b[1;33m.\u001b[0m\u001b[0m_first_chunk\u001b[0m\u001b[1;33m:\u001b[0m\u001b[1;33m\u001b[0m\u001b[1;33m\u001b[0m\u001b[0m\n",
      "\u001b[1;32mpandas\\_libs\\parsers.pyx\u001b[0m in \u001b[0;36mpandas._libs.parsers.TextReader.read\u001b[1;34m()\u001b[0m\n",
      "\u001b[1;32mpandas\\_libs\\parsers.pyx\u001b[0m in \u001b[0;36mpandas._libs.parsers.TextReader._read_low_memory\u001b[1;34m()\u001b[0m\n",
      "\u001b[1;32mpandas\\_libs\\parsers.pyx\u001b[0m in \u001b[0;36mpandas._libs.parsers.TextReader._read_rows\u001b[1;34m()\u001b[0m\n",
      "\u001b[1;32mpandas\\_libs\\parsers.pyx\u001b[0m in \u001b[0;36mpandas._libs.parsers.TextReader._convert_column_data\u001b[1;34m()\u001b[0m\n",
      "\u001b[1;32mpandas\\_libs\\parsers.pyx\u001b[0m in \u001b[0;36mpandas._libs.parsers.TextReader._convert_tokens\u001b[1;34m()\u001b[0m\n",
      "\u001b[1;32mpandas\\_libs\\parsers.pyx\u001b[0m in \u001b[0;36mpandas._libs.parsers.TextReader._convert_with_dtype\u001b[1;34m()\u001b[0m\n",
      "\u001b[1;32mpandas\\_libs\\parsers.pyx\u001b[0m in \u001b[0;36mpandas._libs.parsers._try_int64\u001b[1;34m()\u001b[0m\n",
      "\u001b[1;31mMemoryError\u001b[0m: Unable to allocate 16.0 KiB for an array with shape (2048,) and data type int64"
     ]
    }
   ],
   "source": [
    "#Data path\n",
    "train_transaction_path = \"data/train_transaction.csv\"\n",
    "train_identity_path = \"data/train_identity.csv\"\n",
    "test_transaction_path = \"data/test_transaction.csv\"\n",
    "test_identity_path = \"data/test_identity.csv\"\n",
    "# sample_submission_path = \"data/sample_submission.csv\"\n",
    "\n",
    "#Read data\n",
    "train_transaction = pd.read_csv(train_transaction_path)\n",
    "train_identity = pd.read_csv(train_identity_path)\n",
    "# test_transaction = pd.read_csv(test_transaction_path)\n",
    "# test_identity = pd.read_csv(test_identity_path)\n",
    "# sample_submission = pd.read_csv(sample_submission_path)\n",
    "\n",
    "train_df = pd.merge(train_identity, train_transaction, on=\"TransactionID\", how='left')\n",
    "train_transaction_row = train_transaction.shape[0]\n",
    "train_transaction_col = train_transaction.shape[1]\n",
    "train_identity_row = train_identity.shape[0]\n",
    "train_identity_col = train_identity.shape[1]\n",
    "train_df_row = train_df.shape[0]\n",
    "train_df_col = train_df.shape[1]\n",
    "print('Transaction Training DataFrame: {} rows & {} columns.'.format(train_transaction_row, train_transaction_col))\n",
    "print('Identity Training DataFrame: {} rows & {} columns.'.format(train_identity_row, train_identity_col))\n",
    "print('Training DataFrame: {} rows & {} columns.'.format(train_df_row, train_df_col))"
   ]
  },
  {
   "cell_type": "code",
   "execution_count": null,
   "id": "0655f00f",
   "metadata": {
    "scrolled": true
   },
   "outputs": [],
   "source": [
    "train_transaction.shape"
   ]
  },
  {
   "cell_type": "code",
   "execution_count": null,
   "id": "4b22a819",
   "metadata": {},
   "outputs": [],
   "source": [
    "train_identity.shape"
   ]
  },
  {
   "cell_type": "code",
   "execution_count": null,
   "id": "f400ff2a",
   "metadata": {},
   "outputs": [],
   "source": [
    "test_transaction.shape"
   ]
  },
  {
   "cell_type": "code",
   "execution_count": null,
   "id": "4ca949b7",
   "metadata": {
    "scrolled": true
   },
   "outputs": [],
   "source": [
    "test_identity.shape"
   ]
  },
  {
   "cell_type": "code",
   "execution_count": 6,
   "id": "abfbb9c9",
   "metadata": {},
   "outputs": [],
   "source": [
    "# release data from those four\n",
    "del train_transaction\n",
    "del train_identity\n",
    "del test_transaction\n",
    "del test_identity"
   ]
  },
  {
   "cell_type": "markdown",
   "id": "4b6ca49c",
   "metadata": {},
   "source": [
    "### Feature Engineering"
   ]
  },
  {
   "cell_type": "code",
   "execution_count": 153,
   "id": "afca287b",
   "metadata": {
    "scrolled": true
   },
   "outputs": [
    {
     "data": {
      "text/html": [
       "<div>\n",
       "<style scoped>\n",
       "    .dataframe tbody tr th:only-of-type {\n",
       "        vertical-align: middle;\n",
       "    }\n",
       "\n",
       "    .dataframe tbody tr th {\n",
       "        vertical-align: top;\n",
       "    }\n",
       "\n",
       "    .dataframe thead th {\n",
       "        text-align: right;\n",
       "    }\n",
       "</style>\n",
       "<table border=\"1\" class=\"dataframe\">\n",
       "  <thead>\n",
       "    <tr style=\"text-align: right;\">\n",
       "      <th></th>\n",
       "      <th>TransactionID</th>\n",
       "      <th>id_01</th>\n",
       "      <th>id_02</th>\n",
       "      <th>id_03</th>\n",
       "      <th>id_04</th>\n",
       "      <th>id_05</th>\n",
       "      <th>id_06</th>\n",
       "      <th>id_07</th>\n",
       "      <th>id_08</th>\n",
       "      <th>id_09</th>\n",
       "      <th>...</th>\n",
       "      <th>V330</th>\n",
       "      <th>V331</th>\n",
       "      <th>V332</th>\n",
       "      <th>V333</th>\n",
       "      <th>V334</th>\n",
       "      <th>V335</th>\n",
       "      <th>V336</th>\n",
       "      <th>V337</th>\n",
       "      <th>V338</th>\n",
       "      <th>V339</th>\n",
       "    </tr>\n",
       "  </thead>\n",
       "  <tbody>\n",
       "    <tr>\n",
       "      <th>0</th>\n",
       "      <td>2987004</td>\n",
       "      <td>0.0</td>\n",
       "      <td>70787.0</td>\n",
       "      <td>NaN</td>\n",
       "      <td>NaN</td>\n",
       "      <td>NaN</td>\n",
       "      <td>NaN</td>\n",
       "      <td>NaN</td>\n",
       "      <td>NaN</td>\n",
       "      <td>NaN</td>\n",
       "      <td>...</td>\n",
       "      <td>0.0</td>\n",
       "      <td>0.0</td>\n",
       "      <td>0.0</td>\n",
       "      <td>0.0</td>\n",
       "      <td>0.0</td>\n",
       "      <td>0.0</td>\n",
       "      <td>0.0</td>\n",
       "      <td>0.0</td>\n",
       "      <td>0.0</td>\n",
       "      <td>0.0</td>\n",
       "    </tr>\n",
       "    <tr>\n",
       "      <th>1</th>\n",
       "      <td>2987008</td>\n",
       "      <td>-5.0</td>\n",
       "      <td>98945.0</td>\n",
       "      <td>NaN</td>\n",
       "      <td>NaN</td>\n",
       "      <td>0.0</td>\n",
       "      <td>-5.0</td>\n",
       "      <td>NaN</td>\n",
       "      <td>NaN</td>\n",
       "      <td>NaN</td>\n",
       "      <td>...</td>\n",
       "      <td>0.0</td>\n",
       "      <td>0.0</td>\n",
       "      <td>0.0</td>\n",
       "      <td>0.0</td>\n",
       "      <td>0.0</td>\n",
       "      <td>0.0</td>\n",
       "      <td>0.0</td>\n",
       "      <td>0.0</td>\n",
       "      <td>0.0</td>\n",
       "      <td>0.0</td>\n",
       "    </tr>\n",
       "    <tr>\n",
       "      <th>2</th>\n",
       "      <td>2987010</td>\n",
       "      <td>-5.0</td>\n",
       "      <td>191631.0</td>\n",
       "      <td>0.0</td>\n",
       "      <td>0.0</td>\n",
       "      <td>0.0</td>\n",
       "      <td>0.0</td>\n",
       "      <td>NaN</td>\n",
       "      <td>NaN</td>\n",
       "      <td>0.0</td>\n",
       "      <td>...</td>\n",
       "      <td>NaN</td>\n",
       "      <td>NaN</td>\n",
       "      <td>NaN</td>\n",
       "      <td>NaN</td>\n",
       "      <td>NaN</td>\n",
       "      <td>NaN</td>\n",
       "      <td>NaN</td>\n",
       "      <td>NaN</td>\n",
       "      <td>NaN</td>\n",
       "      <td>NaN</td>\n",
       "    </tr>\n",
       "    <tr>\n",
       "      <th>3</th>\n",
       "      <td>2987011</td>\n",
       "      <td>-5.0</td>\n",
       "      <td>221832.0</td>\n",
       "      <td>NaN</td>\n",
       "      <td>NaN</td>\n",
       "      <td>0.0</td>\n",
       "      <td>-6.0</td>\n",
       "      <td>NaN</td>\n",
       "      <td>NaN</td>\n",
       "      <td>NaN</td>\n",
       "      <td>...</td>\n",
       "      <td>NaN</td>\n",
       "      <td>NaN</td>\n",
       "      <td>NaN</td>\n",
       "      <td>NaN</td>\n",
       "      <td>NaN</td>\n",
       "      <td>NaN</td>\n",
       "      <td>NaN</td>\n",
       "      <td>NaN</td>\n",
       "      <td>NaN</td>\n",
       "      <td>NaN</td>\n",
       "    </tr>\n",
       "    <tr>\n",
       "      <th>4</th>\n",
       "      <td>2987016</td>\n",
       "      <td>0.0</td>\n",
       "      <td>7460.0</td>\n",
       "      <td>0.0</td>\n",
       "      <td>0.0</td>\n",
       "      <td>1.0</td>\n",
       "      <td>0.0</td>\n",
       "      <td>NaN</td>\n",
       "      <td>NaN</td>\n",
       "      <td>0.0</td>\n",
       "      <td>...</td>\n",
       "      <td>0.0</td>\n",
       "      <td>0.0</td>\n",
       "      <td>0.0</td>\n",
       "      <td>0.0</td>\n",
       "      <td>0.0</td>\n",
       "      <td>0.0</td>\n",
       "      <td>0.0</td>\n",
       "      <td>0.0</td>\n",
       "      <td>0.0</td>\n",
       "      <td>0.0</td>\n",
       "    </tr>\n",
       "  </tbody>\n",
       "</table>\n",
       "<p>5 rows × 434 columns</p>\n",
       "</div>"
      ],
      "text/plain": [
       "   TransactionID  id_01     id_02  id_03  id_04  id_05  id_06  id_07  id_08  \\\n",
       "0        2987004    0.0   70787.0    NaN    NaN    NaN    NaN    NaN    NaN   \n",
       "1        2987008   -5.0   98945.0    NaN    NaN    0.0   -5.0    NaN    NaN   \n",
       "2        2987010   -5.0  191631.0    0.0    0.0    0.0    0.0    NaN    NaN   \n",
       "3        2987011   -5.0  221832.0    NaN    NaN    0.0   -6.0    NaN    NaN   \n",
       "4        2987016    0.0    7460.0    0.0    0.0    1.0    0.0    NaN    NaN   \n",
       "\n",
       "   id_09  ...  V330  V331 V332  V333  V334 V335 V336  V337  V338  V339  \n",
       "0    NaN  ...   0.0   0.0  0.0   0.0   0.0  0.0  0.0   0.0   0.0   0.0  \n",
       "1    NaN  ...   0.0   0.0  0.0   0.0   0.0  0.0  0.0   0.0   0.0   0.0  \n",
       "2    0.0  ...   NaN   NaN  NaN   NaN   NaN  NaN  NaN   NaN   NaN   NaN  \n",
       "3    NaN  ...   NaN   NaN  NaN   NaN   NaN  NaN  NaN   NaN   NaN   NaN  \n",
       "4    0.0  ...   0.0   0.0  0.0   0.0   0.0  0.0  0.0   0.0   0.0   0.0  \n",
       "\n",
       "[5 rows x 434 columns]"
      ]
     },
     "execution_count": 153,
     "metadata": {},
     "output_type": "execute_result"
    }
   ],
   "source": [
    "train_df.head()"
   ]
  },
  {
   "cell_type": "code",
   "execution_count": 159,
   "id": "d8da86b6",
   "metadata": {},
   "outputs": [
    {
     "data": {
      "text/plain": [
       "credit         75090\n",
       "debit          68950\n",
       "charge card       15\n",
       "Name: card6, dtype: int64"
      ]
     },
     "execution_count": 159,
     "metadata": {},
     "output_type": "execute_result"
    }
   ],
   "source": [
    "## Day of week (one hot)\n",
    "def convert_day_of_week(x):\n",
    "    return (x // (24 * 60 * 60)) % 7\n",
    "\n",
    "# Hour of day (one hot)\n",
    "def convert_hour(x):\n",
    "    return (x // (1 * 60 * 60)) % 24\n",
    "\n",
    "def addr1_transform(x):\n",
    "    if x in top_ten_addr1:\n",
    "        return x\n",
    "    elif (pd.isnull(x) == True):\n",
    "        return 0\n",
    "    else:\n",
    "        return -1\n",
    "    \n",
    "def addr2_transform(x):\n",
    "    if x in top_ten_addr2:\n",
    "        return x\n",
    "    elif (pd.isnull(x) == True):\n",
    "        return 0\n",
    "    else:\n",
    "        return -1\n",
    "    \n",
    "def email_p_transform(x):\n",
    "    if x in top_twenty_email_p:\n",
    "        return x\n",
    "    elif (pd.isnull(x) == True):\n",
    "        return 'Missing'\n",
    "    else:\n",
    "        return 'Other'\n",
    "    \n",
    "def email_r_transform(x):\n",
    "    if x in top_twenty_email_r:\n",
    "        return x\n",
    "    elif (pd.isnull(x) == True):\n",
    "        return 'Missing'\n",
    "    else:\n",
    "        return 'Other'"
   ]
  },
  {
   "cell_type": "code",
   "execution_count": 160,
   "id": "e34b866e",
   "metadata": {},
   "outputs": [],
   "source": [
    "train_df['TransactionDT'] = train_df['TransactionDT'] - min(train_df['TransactionDT'])\n",
    "train_df['TransactionDayOfWeek'] = train_df['TransactionDT'].apply(convert_day_of_week)\n",
    "train_df['TransactionHour'] = train_df['TransactionDT'].apply(convert_hour)\n",
    "# Transaction Amount (Log)\n",
    "train_df['TransactionAmt_log'] = train_df['TransactionAmt'].apply(lambda x: np.log(x))\n",
    "# Product Code (one hot)\n",
    "train_df['ProductCD'].value_counts()\n",
    "# Card information\n",
    "train_df['card4'].value_counts()\n",
    "train_df['card6'].value_counts()\n",
    "#addr1, addr2\n",
    "top_ten_addr1 = list(train_df['addr1'].value_counts().index)[:10] #top ten regions\n",
    "top_ten_addr2 = list(train_df['addr2'].value_counts().index)[:10] #top ten countries\n",
    "train_df['addr1_new'] = train_df['addr1'].apply(addr1_transform)\n",
    "train_df['addr2_new'] = train_df['addr2'].apply(addr2_transform)\n",
    "\n",
    "#Email_Domain\n",
    "top_twenty_email_p = list(train_df['P_emaildomain'].value_counts().index)[:20] #top ten regions\n",
    "top_twenty_email_r = list(train_df['R_emaildomain'].value_counts().index)[:20] #top ten countries\n",
    "train_df['P_emaildomain'].value_counts()\n",
    "train_df['P_emaildomain_new'] = train_df['P_emaildomain'].apply(email_p_transform)\n",
    "train_df['R_emaildomain_new'] = train_df['R_emaildomain'].apply(email_r_transform)\n",
    "# Count 1-14\n",
    "train_df['C1'].value_counts()\n",
    "#M1 - M9\n",
    "train_df['M1'].value_counts()\n",
    "# V: Standardized and PCA\n",
    "train_df['V3'].value_counts()"
   ]
  },
  {
   "cell_type": "code",
   "execution_count": 168,
   "id": "8a937d8e",
   "metadata": {},
   "outputs": [],
   "source": [
    "# list for one-hot\n",
    "one_hot_lst = ['DeviceType', 'id_12', 'id_15', 'id_16', 'id_23', 'id_27', 'id_28', 'id_29', 'id_32', 'id_34', \n",
    "               'id_35', 'id_34', 'id_35', 'id_36', 'id_37', 'id_38', 'TransactionDayOfWeek', 'TransactionHour',\n",
    "                'ProductCD', 'card4', 'card6', 'addr1_new', 'addr2_new', 'P_emaildomain_new', 'R_emaildomain_new', \n",
    "              'M1', 'M2', 'M3', 'M4', 'M5', 'M6', 'M7', 'M8', 'M9']\n",
    "\n",
    "num_list = ['C1', 'C2', 'C3', 'C4', 'C5', 'C6', 'C7', 'C8', 'C9', 'C10', 'C11', 'C12', 'C13', 'C14',\n",
    "        'dist1', 'dist2', 'TransactionAmt_log']\n",
    "\n",
    "to_ohe = train_df[one_hot_lst]\n",
    "ohe = OneHotEncoder()\n",
    "ohe.fit(to_ohe)\n",
    "ohe_features = ohe.transform(to_ohe)\n",
    "cates = pd.DataFrame(ohe_features.toarray())\n",
    "v_data = train_df.iloc[:, 95:434].fillna(0).to_numpy()\n",
    "nums_part = train_df[num_list]\n",
    "v = pd.DataFrame(v_data)\n",
    "nums = pd.concat([nums_part, v], axis = 1)"
   ]
  },
  {
   "cell_type": "markdown",
   "id": "47772c5a",
   "metadata": {},
   "source": [
    "### Construct Balanced Data Set"
   ]
  },
  {
   "cell_type": "code",
   "execution_count": 251,
   "id": "a5955149",
   "metadata": {},
   "outputs": [],
   "source": [
    "X = pd.concat([nums, cates], axis=1)\n",
    "y = train_df['isFraud']\n",
    "X.columns = [x for x in range(len(X.columns.tolist()))]\n",
    "\n",
    "# inbalanced data (Raw Ratio)\n",
    "X_inb = X.copy()\n",
    "y_inb = y.copy()\n",
    "\n",
    "# balanced data\n",
    "combined_data = pd.concat([X, y], axis=1)\n",
    "combined_data_0 = combined_data[combined_data['isFraud'] == 0]\n",
    "combined_data_1 = combined_data[combined_data['isFraud'] == 1]\n",
    "combined_data_0_10000 = combined_data_0.sample(n=10000, replace=False, ignore_index=True)\n",
    "combined_data_1_10000 = combined_data_1.sample(n=10000, replace=False, ignore_index=True)\n",
    "combined_data_10000 = pd.concat([combined_data_0_10000, combined_data1_10000])\n",
    "X_b = combined_data_10000.drop(columns=['isFraud'])\n",
    "y_b = combined_data_10000['isFraud']\n",
    "\n",
    "# 2:1 ratio\n",
    "combined_data_0_20000 = combined_data_0.sample(n=20000, replace=True, ignore_index=True)\n",
    "combined_data_1_10000 = combined_data_1.sample(n=10000, replace=False, ignore_index=True)\n",
    "combined_data_20000 = pd.concat([combined_data_0_20000, combined_data1_10000])\n",
    "X_2 = combined_data_20000.drop(columns=['isFraud'])\n",
    "y_2 = combined_data_20000['isFraud']"
   ]
  },
  {
   "cell_type": "markdown",
   "id": "c2548b93",
   "metadata": {},
   "source": [
    "### Train Test Split"
   ]
  },
  {
   "cell_type": "code",
   "execution_count": 266,
   "id": "9c33e1cc",
   "metadata": {},
   "outputs": [],
   "source": [
    "#Raw Ratio\n",
    "X_train_inb, X_test_inb, y_train_inb, y_test_inb = train_test_split(X_inb, y_inb, stratify=y_inb, random_state=590540)\n",
    "\n",
    "# Balanced Data\n",
    "X_train_b, X_test_b, y_train_b, y_test_b = train_test_split(X_b, y_b, stratify=y_b, random_state=590540)\n",
    "\n",
    "# 2:1 Ratio\n",
    "X_train_2, X_test_2, y_train_2, y_test_2 = train_test_split(X_2, y_2, stratify=y_2, random_state=590540)"
   ]
  },
  {
   "cell_type": "markdown",
   "id": "6a2b7f96",
   "metadata": {},
   "source": [
    "### XGBoost Decision Tree"
   ]
  },
  {
   "cell_type": "code",
   "execution_count": 268,
   "id": "e0289609",
   "metadata": {},
   "outputs": [
    {
     "name": "stdout",
     "output_type": "stream",
     "text": [
      "[23:32:43] WARNING: C:/Users/Administrator/workspace/xgboost-win64_release_1.5.1/src/learner.cc:1115: Starting in XGBoost 1.3.0, the default evaluation metric used with the objective 'binary:logistic' was changed from 'error' to 'logloss'. Explicitly set eval_metric if you'd like to restore the old behavior.\n"
     ]
    },
    {
     "data": {
      "text/plain": [
       "0.8926"
      ]
     },
     "execution_count": 268,
     "metadata": {},
     "output_type": "execute_result"
    }
   ],
   "source": [
    "#Raw Ratio\n",
    "def XGBoost_DT(X_train, X_test, y_train, y_test):\n",
    "    xgb_cl = xgb.XGBClassifier()\n",
    "    xgb_cl.fit(X_train, y_train)\n",
    "    preds = xgb_cl.predict(X_test)\n",
    "    accuracy = accuracy_score(y_test, preds)\n",
    "    y_preds = xgb_cl.predict_proba(X_test)\n",
    "    preds = y_preds[:,1]\n",
    "    fpr, tpr, _ = metrics.roc_curve(y_test, preds)\n",
    "    auc_score = metrics.auc(fpr, tpr)\n",
    "    return xgb_cl, accuracy, y_preds, preds, fpr, tpr, auc_score"
   ]
  },
  {
   "cell_type": "code",
   "execution_count": 281,
   "id": "2e7e9676",
   "metadata": {},
   "outputs": [
    {
     "data": {
      "text/plain": [
       "<Figure size 432x288 with 0 Axes>"
      ]
     },
     "metadata": {},
     "output_type": "display_data"
    }
   ],
   "source": [
    "xgb_cl, accuracy, y_preds, preds, fpr, tpr, auc_score = XGBoost_DT(X_train_inb, X_test_inb, y_train_inb, y_test_inb)\n",
    "plot_confusion_matrix(xgb_cl, X_test, y_test)"
   ]
  },
  {
   "cell_type": "code",
   "execution_count": 282,
   "id": "5448fb31",
   "metadata": {},
   "outputs": [
    {
     "data": {
      "image/png": "[encoded data removed]",
      "text/plain": [
       "<Figure size 432x288 with 1 Axes>"
      ]
     },
     "metadata": {},
     "output_type": "display_data"
    }
   ],
   "source": [
    "plt.clf()\n",
    "plt.title('ROC Curve')\n",
    "plt.plot(fpr, tpr, label='AUC = {:.2f}'.format(auc_score))\n",
    "plt.plot([0,1],[0,1],'r--')\n",
    "plt.xlim([-0.1,1.1])\n",
    "plt.ylim([-0.1,1.1])\n",
    "plt.ylabel('True Positive Rate')\n",
    "plt.xlabel('False Positive Rate')\n",
    "plt.legend(loc='lower right')\n",
    "plt.show()"
   ]
  },
  {
   "cell_type": "code",
   "execution_count": null,
   "id": "064fd798",
   "metadata": {},
   "outputs": [],
   "source": []
  },
  {
   "cell_type": "code",
   "execution_count": null,
   "id": "8809098d",
   "metadata": {},
   "outputs": [],
   "source": [
    "# Logistic Regression\n",
    "# k-Nearest Neighbors\n",
    "# Decision Trees\n",
    "# Support Vector Machine\n",
    "# Naive Bayes"
   ]
  },
  {
   "cell_type": "code",
   "execution_count": null,
   "id": "0d545edb",
   "metadata": {},
   "outputs": [],
   "source": []
  },
  {
   "cell_type": "code",
   "execution_count": null,
   "id": "afa17c63",
   "metadata": {},
   "outputs": [],
   "source": []
  }
 ],
 "metadata": {
  "kernelspec": {
   "display_name": "Python 3",
   "language": "python",
   "name": "python3"
  },
  "language_info": {
   "codemirror_mode": {
    "name": "ipython",
    "version": 3
   },
   "file_extension": ".py",
   "mimetype": "text/x-python",
   "name": "python",
   "nbconvert_exporter": "python",
   "pygments_lexer": "ipython3",
   "version": "3.8.8"
  }
 },
 "nbformat": 4,
 "nbformat_minor": 5
}
