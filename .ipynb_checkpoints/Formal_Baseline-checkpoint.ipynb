{
 "cells": [
  {
   "cell_type": "markdown",
   "id": "6e10568b",
   "metadata": {},
   "source": [
    "### Importations"
   ]
  },
  {
   "cell_type": "code",
   "execution_count": 113,
   "id": "99ab9b2d",
   "metadata": {},
   "outputs": [],
   "source": [
    "# Baisc Packages\n",
    "import numpy as np\n",
    "import pandas as pd\n",
    "import math\n",
    "import os\n",
    "import matplotlib\n",
    "import matplotlib.pyplot as plt\n",
    "import seaborn as sns; sns.set_theme()\n",
    "import warnings # ?\n",
    "# Transformers\n",
    "from sklearn.preprocessing import OneHotEncoder\n",
    "from sklearn.compose import ColumnTransformer\n",
    "from sklearn.preprocessing import FunctionTransformer\n",
    "# Validation\n",
    "from sklearn.model_selection import train_test_split\n",
    "# model\n",
    "import xgboost as xgb\n",
    "# pipeline\n",
    "from sklearn.pipeline import Pipeline\n",
    "# validation\n",
    "from sklearn.metrics import plot_confusion_matrix\n",
    "from sklearn.metrics import accuracy_score\n",
    "from sklearn.metrics import roc_curve\n",
    "from sklearn.metrics import auc\n",
    "from sklearn.metrics import recall_score"
   ]
  },
  {
   "cell_type": "code",
   "execution_count": 2,
   "id": "e1e2f69a",
   "metadata": {},
   "outputs": [
    {
     "name": "stderr",
     "output_type": "stream",
     "text": [
      "Intel(R) Extension for Scikit-learn* enabled (https://github.com/intel/scikit-learn-intelex)\n"
     ]
    }
   ],
   "source": [
    "# Intel Package for Acceleration\n",
    "from sklearnex import patch_sklearn\n",
    "patch_sklearn()"
   ]
  },
  {
   "cell_type": "markdown",
   "id": "977366ca",
   "metadata": {},
   "source": [
    "## Load Data"
   ]
  },
  {
   "cell_type": "code",
   "execution_count": 55,
   "id": "a733f0b0",
   "metadata": {},
   "outputs": [],
   "source": [
    "#Data path\n",
    "train_transaction_path = \"data/train_transaction.csv\"\n",
    "train_identity_path = \"data/train_identity.csv\"\n",
    "test_transaction_path = \"data/test_transaction.csv\"\n",
    "test_identity_path = \"data/test_identity.csv\"\n",
    "sample_submission_path = \"data/sample_submission.csv\"\n",
    "\n",
    "# Train Data Process\n",
    "train_transaction = pd.read_csv(train_transaction_path)\n",
    "train_identity = pd.read_csv(train_identity_path)\n",
    "train_df = pd.merge(train_identity, train_transaction, on=\"TransactionID\", how='right')\n",
    "# Release Memory\n",
    "del train_transaction\n",
    "del train_identity\n",
    "\n",
    "# Test Data Process\n",
    "test_transaction = pd.read_csv(test_transaction_path)\n",
    "test_identity = pd.read_csv(test_identity_path)\n",
    "test_df = pd.merge(test_identity, test_transaction, on=\"TransactionID\", how='right')\n",
    "# Release Memory\n",
    "del test_transaction\n",
    "del test_identity"
   ]
  },
  {
   "cell_type": "code",
   "execution_count": 56,
   "id": "f941db80",
   "metadata": {},
   "outputs": [],
   "source": [
    "# make sure test_df and train_df are with the corresponding column names\n",
    "test_df.columns = test_df.columns.str.replace('-', '_')"
   ]
  },
  {
   "cell_type": "markdown",
   "id": "03da6e4c",
   "metadata": {},
   "source": [
    "## Data Preprocessing"
   ]
  },
  {
   "cell_type": "markdown",
   "id": "10835ee7",
   "metadata": {},
   "source": [
    "### Time"
   ]
  },
  {
   "cell_type": "code",
   "execution_count": 59,
   "id": "ad8750a3",
   "metadata": {},
   "outputs": [],
   "source": [
    "## Day of week (one hot)\n",
    "def convert_day_of_week(x):\n",
    "    return (x // (24 * 60 * 60)) % 7\n",
    "\n",
    "# Hour of day (one hot)\n",
    "def convert_hour(x):\n",
    "    return (x // (1 * 60 * 60)) % 24\n",
    "\n",
    "def addr1_transform(x):\n",
    "    if x in top_addr1: \n",
    "        return x\n",
    "    elif (pd.isnull(x) == True):\n",
    "        return 0\n",
    "    else:\n",
    "        return -1\n",
    "    \n",
    "def addr2_transform(x):\n",
    "    if x in top_addr2:\n",
    "        return x\n",
    "    elif (pd.isnull(x) == True):\n",
    "        return 0\n",
    "    else:\n",
    "        return -1\n",
    "    \n",
    "def email_p_transform(x):\n",
    "    if x in top_email_p:\n",
    "        return x\n",
    "    elif (pd.isnull(x) == True):\n",
    "        return 'Missing'\n",
    "    else:\n",
    "        return 'Other'\n",
    "    \n",
    "def email_r_transform(x):\n",
    "    if x in top_email_r:\n",
    "        return x\n",
    "    elif (pd.isnull(x) == True):\n",
    "        return 'Missing'\n",
    "    else:\n",
    "        return 'Other'"
   ]
  },
  {
   "cell_type": "code",
   "execution_count": 60,
   "id": "44488ed9",
   "metadata": {},
   "outputs": [],
   "source": [
    "# Transform the train_df\n",
    "# Time\n",
    "train_df['TransactionDT'] = train_df['TransactionDT'] - min(train_df['TransactionDT']) # shift encoding? might be in transformer, too\n",
    "train_df['TransactionDayOfWeek'] = train_df['TransactionDT'].apply(convert_day_of_week) # give a day of week\n",
    "train_df['TransactionHour'] = train_df['TransactionDT'].apply(convert_hour) # give the hour of the day\n",
    "\n",
    "# Following utilize a Top K encoding for categorical variables\n",
    "#addr1, addr2\n",
    "top_addr1 = list(train_df['addr1'].value_counts().index)[:10] #top ten regions\n",
    "top_addr2 = list(train_df['addr2'].value_counts().index)[:10] #top ten countries\n",
    "train_df['addr1_new'] = train_df['addr1'].apply(addr1_transform)\n",
    "train_df['addr2_new'] = train_df['addr2'].apply(addr2_transform)\n",
    "#Email_Domain\n",
    "top_email_p = list(train_df['P_emaildomain'].value_counts().index)[:20] #top twenty regions\n",
    "top_email_r = list(train_df['R_emaildomain'].value_counts().index)[:20] #top twenty countries\n",
    "train_df['P_emaildomain_new'] = train_df['P_emaildomain'].apply(email_p_transform)\n",
    "train_df['R_emaildomain_new'] = train_df['R_emaildomain'].apply(email_r_transform)\n"
   ]
  },
  {
   "cell_type": "code",
   "execution_count": 61,
   "id": "50a21165",
   "metadata": {},
   "outputs": [],
   "source": [
    "# Transform the test_df\n",
    "# Time\n",
    "test_df['TransactionDT'] = test_df['TransactionDT'] - min(test_df['TransactionDT']) # shift encoding? might be in transformer, too\n",
    "test_df['TransactionDayOfWeek'] = test_df['TransactionDT'].apply(convert_day_of_week) # give a day of week\n",
    "test_df['TransactionHour'] = test_df['TransactionDT'].apply(convert_hour) # give the hour of the day\n",
    "\n",
    "# Following utilize a Top K encoding for categorical variables\n",
    "#addr1, addr2\n",
    "top_addr1 = list(test_df['addr1'].value_counts().index)[:10] #top ten regions\n",
    "top_addr2 = list(test_df['addr2'].value_counts().index)[:10] #top ten countries\n",
    "test_df['addr1_new'] = test_df['addr1'].apply(addr1_transform)\n",
    "test_df['addr2_new'] = test_df['addr2'].apply(addr2_transform)\n",
    "#Email_Domain\n",
    "top_email_p = list(test_df['P_emaildomain'].value_counts().index)[:20] #top twenty regions\n",
    "top_email_r = list(test_df['R_emaildomain'].value_counts().index)[:20] #top twenty countries\n",
    "test_df['P_emaildomain_new'] = test_df['P_emaildomain'].apply(email_p_transform)\n",
    "test_df['R_emaildomain_new'] = test_df['R_emaildomain'].apply(email_r_transform)"
   ]
  },
  {
   "cell_type": "markdown",
   "id": "b02b070d",
   "metadata": {},
   "source": [
    "To help memory efficiency, will directly show what is the formal train, test set:\n",
    "\n",
    "X_train = train_df\n",
    "\n",
    "y_train = train_df\\['isFraud'\\]\n",
    "\n",
    "X_test = test_df\n",
    "\n",
    "t_test is not known"
   ]
  },
  {
   "cell_type": "markdown",
   "id": "42705989",
   "metadata": {},
   "source": [
    "## Pipeline and Model"
   ]
  },
  {
   "cell_type": "code",
   "execution_count": 62,
   "id": "b5695402",
   "metadata": {},
   "outputs": [
    {
     "data": {
      "text/plain": [
       "(590540, 440)"
      ]
     },
     "execution_count": 62,
     "metadata": {},
     "output_type": "execute_result"
    }
   ],
   "source": [
    "train_df.shape"
   ]
  },
  {
   "cell_type": "code",
   "execution_count": 63,
   "id": "023d09e2",
   "metadata": {},
   "outputs": [
    {
     "data": {
      "text/plain": [
       "(506691, 439)"
      ]
     },
     "execution_count": 63,
     "metadata": {},
     "output_type": "execute_result"
    }
   ],
   "source": [
    "test_df.shape"
   ]
  },
  {
   "cell_type": "code",
   "execution_count": 79,
   "id": "3eead934",
   "metadata": {},
   "outputs": [],
   "source": [
    "one_hot_lst = ['DeviceType', 'id_12', 'id_15', 'id_16', 'id_23', 'id_27', 'id_28', 'id_29', 'id_32', 'id_34', \n",
    "               'id_35', 'id_36', 'id_37', 'id_38', 'TransactionDayOfWeek', 'TransactionHour', 'addr1_new', 'addr2_new',\n",
    "                'ProductCD', 'card4', 'card6', 'M1', 'M2', 'M3', 'M4', 'M5', 'M6', 'M7', 'M8', 'M9', 'P_emaildomain_new', 'R_emaildomain_new']\n",
    "identity_lst = ['C1', 'C2', 'C3', 'C4', 'C5', 'C6', 'C7', 'C8', 'C9', 'C10', 'C11', 'C12', 'C13', 'C14',\n",
    "                'dist1', 'dist2', 'TransactionDT'] + train_df.columns[train_df.columns.str.contains('V')].tolist() # V lists"
   ]
  },
  {
   "cell_type": "code",
   "execution_count": 80,
   "id": "01225782",
   "metadata": {},
   "outputs": [],
   "source": [
    "preproc = ColumnTransformer(\n",
    "    transformers = [\n",
    "        ('ohe', OneHotEncoder(handle_unknown = 'ignore'), one_hot_lst),\n",
    "        ('log', FunctionTransformer(np.log), ['TransactionAmt']),\n",
    "        ('identity', FunctionTransformer(lambda x: x), identity_lst)\n",
    "    ], remainder = 'drop'\n",
    ")"
   ]
  },
  {
   "cell_type": "code",
   "execution_count": 81,
   "id": "a7650575",
   "metadata": {},
   "outputs": [],
   "source": [
    "# Pipeline\n",
    "pl = Pipeline(steps = [\n",
    "    ('preprocesser', preproc),\n",
    "    ('xgb_cl', xgb.XGBClassifier(use_label_encoder =False))\n",
    "])"
   ]
  },
  {
   "cell_type": "code",
   "execution_count": 87,
   "id": "b096995d",
   "metadata": {},
   "outputs": [
    {
     "name": "stderr",
     "output_type": "stream",
     "text": [
      "C:\\Users\\keyuu\\.conda\\envs\\intelai\\lib\\site-packages\\xgboost\\sklearn.py:1224: UserWarning: The use of label encoder in XGBClassifier is deprecated and will be removed in a future release. To remove this warning, do the following: 1) Pass option use_label_encoder=False when constructing XGBClassifier object; and 2) Encode your labels (y) as integers starting with 0, i.e. 0, 1, 2, ..., [num_class - 1].\n",
      "  warnings.warn(label_encoder_deprecation_msg, UserWarning)\n"
     ]
    },
    {
     "name": "stdout",
     "output_type": "stream",
     "text": [
      "[01:38:39] WARNING: D:\\bld\\xgboost-split_1645118015404\\work\\src\\learner.cc:1115: Starting in XGBoost 1.3.0, the default evaluation metric used with the objective 'binary:logistic' was changed from 'error' to 'logloss'. Explicitly set eval_metric if you'd like to restore the old behavior.\n",
      "CPU times: total: 19min 45s\n",
      "Wall time: 1min 53s\n"
     ]
    },
    {
     "data": {
      "text/plain": [
       "Pipeline(steps=[('preprocesser',\n",
       "                 ColumnTransformer(transformers=[('ohe',\n",
       "                                                  OneHotEncoder(handle_unknown='ignore'),\n",
       "                                                  ['DeviceType', 'id_12',\n",
       "                                                   'id_15', 'id_16', 'id_23',\n",
       "                                                   'id_27', 'id_28', 'id_29',\n",
       "                                                   'id_32', 'id_34', 'id_35',\n",
       "                                                   'id_36', 'id_37', 'id_38',\n",
       "                                                   'TransactionDayOfWeek',\n",
       "                                                   'TransactionHour',\n",
       "                                                   'addr1_new', 'addr2_new',\n",
       "                                                   'ProductCD', 'card4',\n",
       "                                                   'card6', 'M1', 'M2', 'M3',\n",
       "                                                   'M4', 'M5', 'M6'...\n",
       "                               gamma=0, gpu_id=-1, importance_type=None,\n",
       "                               interaction_constraints='',\n",
       "                               learning_rate=0.300000012, max_delta_step=0,\n",
       "                               max_depth=6, min_child_weight=1, missing=nan,\n",
       "                               monotone_constraints='()', n_estimators=100,\n",
       "                               n_jobs=12, num_parallel_tree=1, predictor='auto',\n",
       "                               random_state=0, reg_alpha=0, reg_lambda=1,\n",
       "                               scale_pos_weight=1, subsample=1,\n",
       "                               tree_method='exact', validate_parameters=1,\n",
       "                               verbosity=None))])"
      ]
     },
     "execution_count": 87,
     "metadata": {},
     "output_type": "execute_result"
    }
   ],
   "source": [
    "%%time\n",
    "# fit the train data\n",
    "pl.fit(train_df.drop(columns='isFraud'), train_df['isFraud'])"
   ]
  },
  {
   "cell_type": "markdown",
   "id": "f1922226",
   "metadata": {},
   "source": [
    "## Pipeline & Model with Train Test Split"
   ]
  },
  {
   "cell_type": "code",
   "execution_count": 105,
   "id": "f6f9cf66",
   "metadata": {},
   "outputs": [],
   "source": [
    "X_train, X_test, y_train, y_test = train_test_split(train_df.drop(columns = 'isFraud'), train_df['isFraud'], test_size = 0.5, random_state=1)"
   ]
  },
  {
   "cell_type": "code",
   "execution_count": 106,
   "id": "c170832c",
   "metadata": {},
   "outputs": [],
   "source": [
    "# Pipeline cross_validated\n",
    "pl_cv = Pipeline(steps = [\n",
    "    ('preprocesser', preproc),\n",
    "    ('xgb_cl', xgb.XGBClassifier(use_label_encoder = False))\n",
    "])"
   ]
  },
  {
   "cell_type": "code",
   "execution_count": 107,
   "id": "3aa27de6",
   "metadata": {},
   "outputs": [
    {
     "name": "stdout",
     "output_type": "stream",
     "text": [
      "[01:55:44] WARNING: D:\\bld\\xgboost-split_1645118015404\\work\\src\\learner.cc:1115: Starting in XGBoost 1.3.0, the default evaluation metric used with the objective 'binary:logistic' was changed from 'error' to 'logloss'. Explicitly set eval_metric if you'd like to restore the old behavior.\n",
      "CPU times: total: 9min 50s\n",
      "Wall time: 55.5 s\n"
     ]
    },
    {
     "data": {
      "text/plain": [
       "Pipeline(steps=[('preprocesser',\n",
       "                 ColumnTransformer(transformers=[('ohe',\n",
       "                                                  OneHotEncoder(handle_unknown='ignore'),\n",
       "                                                  ['DeviceType', 'id_12',\n",
       "                                                   'id_15', 'id_16', 'id_23',\n",
       "                                                   'id_27', 'id_28', 'id_29',\n",
       "                                                   'id_32', 'id_34', 'id_35',\n",
       "                                                   'id_36', 'id_37', 'id_38',\n",
       "                                                   'TransactionDayOfWeek',\n",
       "                                                   'TransactionHour',\n",
       "                                                   'addr1_new', 'addr2_new',\n",
       "                                                   'ProductCD', 'card4',\n",
       "                                                   'card6', 'M1', 'M2', 'M3',\n",
       "                                                   'M4', 'M5', 'M6'...\n",
       "                               interaction_constraints='',\n",
       "                               learning_rate=0.300000012, max_delta_step=0,\n",
       "                               max_depth=6, min_child_weight=1, missing=nan,\n",
       "                               monotone_constraints='()', n_estimators=100,\n",
       "                               n_jobs=12, num_parallel_tree=1, predictor='auto',\n",
       "                               random_state=0, reg_alpha=0, reg_lambda=1,\n",
       "                               scale_pos_weight=1, subsample=1,\n",
       "                               tree_method='exact', use_label_encoder=False,\n",
       "                               validate_parameters=1, verbosity=None))])"
      ]
     },
     "execution_count": 107,
     "metadata": {},
     "output_type": "execute_result"
    }
   ],
   "source": [
    "%%time\n",
    "# fit the train data\n",
    "pl_cv.fit(X_train, y_train)"
   ]
  },
  {
   "cell_type": "code",
   "execution_count": 108,
   "id": "b3d0a350",
   "metadata": {},
   "outputs": [
    {
     "data": {
      "text/plain": [
       "0.9822738510515799"
      ]
     },
     "execution_count": 108,
     "metadata": {},
     "output_type": "execute_result"
    }
   ],
   "source": [
    "# Accuracy on train data\n",
    "pl_cv.score(X_train, y_train)"
   ]
  },
  {
   "cell_type": "code",
   "execution_count": 109,
   "id": "5be8a549",
   "metadata": {},
   "outputs": [
    {
     "data": {
      "text/plain": [
       "0.979523825651099"
      ]
     },
     "execution_count": 109,
     "metadata": {},
     "output_type": "execute_result"
    }
   ],
   "source": [
    "# Accuracy on test data\n",
    "pl_cv.score(X_test, y_test)"
   ]
  },
  {
   "cell_type": "code",
   "execution_count": 114,
   "id": "beb19ed8",
   "metadata": {},
   "outputs": [
    {
     "data": {
      "text/plain": [
       "0.4566890772678554"
      ]
     },
     "execution_count": 114,
     "metadata": {},
     "output_type": "execute_result"
    }
   ],
   "source": [
    "# Recall on test data\n",
    "recall_score(y_test, pl_cv.predict(X_test))"
   ]
  },
  {
   "cell_type": "code",
   "execution_count": 110,
   "id": "d0147632",
   "metadata": {},
   "outputs": [
    {
     "data": {
      "image/png": "[encoded data removed]",
      "text/plain": [
       "<Figure size 432x288 with 2 Axes>"
      ]
     },
     "metadata": {},
     "output_type": "display_data"
    },
    {
     "data": {
      "text/plain": [
       "<Figure size 432x288 with 0 Axes>"
      ]
     },
     "metadata": {},
     "output_type": "display_data"
    }
   ],
   "source": [
    "# Confusion Matrix\n",
    "plot_confusion_matrix(pl_cv, X_test, y_test)\n",
    "plt.show()\n",
    "plt.clf()"
   ]
  },
  {
   "cell_type": "code",
   "execution_count": 111,
   "id": "8c59a3ea",
   "metadata": {},
   "outputs": [
    {
     "data": {
      "image/png": "[encoded data removed]",
      "text/plain": [
       "<Figure size 432x288 with 1 Axes>"
      ]
     },
     "metadata": {},
     "output_type": "display_data"
    }
   ],
   "source": [
    "# ROC Curve and AUC\n",
    "fpr, tpr, _ = roc_curve(y_test, pl_cv.predict(X_test))\n",
    "auc_score = auc(fpr, tpr)\n",
    "plt.title('ROC Curve')\n",
    "plt.plot(fpr, tpr, label='AUC = {:.2f}'.format(auc_score))\n",
    "plt.plot([0,1],[0,1],'r--')\n",
    "plt.xlim([-0.1,1.1])\n",
    "plt.ylim([-0.1,1.1])\n",
    "plt.ylabel('True Positive Rate')\n",
    "plt.xlabel('False Positive Rate')\n",
    "plt.legend(loc='lower right')\n",
    "plt.show()"
   ]
  },
  {
   "cell_type": "markdown",
   "id": "c86845e6",
   "metadata": {},
   "source": [
    "### Evaluation"
   ]
  },
  {
   "cell_type": "code",
   "execution_count": 88,
   "id": "e49aaae9",
   "metadata": {},
   "outputs": [
    {
     "data": {
      "text/plain": [
       "0.9817810817218139"
      ]
     },
     "execution_count": 88,
     "metadata": {},
     "output_type": "execute_result"
    }
   ],
   "source": [
    "# Accuracy on train data\n",
    "pl.score(train_df.drop(columns='isFraud'), train_df['isFraud'])"
   ]
  },
  {
   "cell_type": "code",
   "execution_count": 89,
   "id": "6f1a65d6",
   "metadata": {},
   "outputs": [
    {
     "data": {
      "image/png": "[encoded data removed]",
      "text/plain": [
       "<Figure size 432x288 with 2 Axes>"
      ]
     },
     "metadata": {},
     "output_type": "display_data"
    },
    {
     "data": {
      "text/plain": [
       "<Figure size 432x288 with 0 Axes>"
      ]
     },
     "metadata": {},
     "output_type": "display_data"
    }
   ],
   "source": [
    "# Confusion Matrix\n",
    "plot_confusion_matrix(pl, train_df.drop(columns='isFraud'), train_df['isFraud'])\n",
    "plt.show()\n",
    "plt.clf()"
   ]
  },
  {
   "cell_type": "code",
   "execution_count": 90,
   "id": "84bf662d",
   "metadata": {},
   "outputs": [
    {
     "data": {
      "image/png": "[encoded data removed]",
      "text/plain": [
       "<Figure size 432x288 with 1 Axes>"
      ]
     },
     "metadata": {},
     "output_type": "display_data"
    }
   ],
   "source": [
    "# ROC Curve and AUC\n",
    "fpr, tpr, _ = roc_curve(train_df['isFraud'], pl.predict(train_df.drop(columns='isFraud')))\n",
    "auc_score = auc(fpr, tpr)\n",
    "plt.title('ROC Curve')\n",
    "plt.plot(fpr, tpr, label='AUC = {:.2f}'.format(auc_score))\n",
    "plt.plot([0,1],[0,1],'r--')\n",
    "plt.xlim([-0.1,1.1])\n",
    "plt.ylim([-0.1,1.1])\n",
    "plt.ylabel('True Positive Rate')\n",
    "plt.xlabel('False Positive Rate')\n",
    "plt.legend(loc='lower right')\n",
    "plt.show()"
   ]
  },
  {
   "cell_type": "markdown",
   "id": "b655c860",
   "metadata": {},
   "source": [
    "### Balanced Dataset"
   ]
  },
  {
   "cell_type": "code",
   "execution_count": 120,
   "id": "dd2f3d72",
   "metadata": {},
   "outputs": [],
   "source": [
    "# create a balanced dataframe\n",
    "train_is_fraud = train_df[train_df['isFraud']==1]\n",
    "train_is_not_fraud = train_df[train_df['isFraud']==0].sample(n=len(train_is_fraud))\n",
    "train_dfb = pd.concat([train_is_fraud, train_is_not_fraud])\n",
    "\n",
    "# release memory\n",
    "del train_is_fraud\n",
    "del train_is_not_fraud"
   ]
  },
  {
   "cell_type": "code",
   "execution_count": 121,
   "id": "0bf643e6",
   "metadata": {},
   "outputs": [],
   "source": [
    "X_train, X_test, y_train, y_test = train_test_split(train_dfb.drop(columns = 'isFraud'), train_dfb['isFraud'], random_state=1)"
   ]
  },
  {
   "cell_type": "code",
   "execution_count": 122,
   "id": "11dffeb2",
   "metadata": {},
   "outputs": [],
   "source": [
    "# Pipeline cross validated balanced\n",
    "pl_cvb = Pipeline(steps = [\n",
    "    ('preprocesser', preproc),\n",
    "    ('xgb_cl', xgb.XGBClassifier(use_label_encoder = False))\n",
    "])"
   ]
  },
  {
   "cell_type": "code",
   "execution_count": 124,
   "id": "603aa7d2",
   "metadata": {},
   "outputs": [
    {
     "name": "stdout",
     "output_type": "stream",
     "text": [
      "[02:13:01] WARNING: D:\\bld\\xgboost-split_1645118015404\\work\\src\\learner.cc:1115: Starting in XGBoost 1.3.0, the default evaluation metric used with the objective 'binary:logistic' was changed from 'error' to 'logloss'. Explicitly set eval_metric if you'd like to restore the old behavior.\n",
      "CPU times: total: 1min 4s\n",
      "Wall time: 5.94 s\n"
     ]
    },
    {
     "data": {
      "text/plain": [
       "Pipeline(steps=[('preprocesser',\n",
       "                 ColumnTransformer(transformers=[('ohe',\n",
       "                                                  OneHotEncoder(handle_unknown='ignore'),\n",
       "                                                  ['DeviceType', 'id_12',\n",
       "                                                   'id_15', 'id_16', 'id_23',\n",
       "                                                   'id_27', 'id_28', 'id_29',\n",
       "                                                   'id_32', 'id_34', 'id_35',\n",
       "                                                   'id_36', 'id_37', 'id_38',\n",
       "                                                   'TransactionDayOfWeek',\n",
       "                                                   'TransactionHour',\n",
       "                                                   'addr1_new', 'addr2_new',\n",
       "                                                   'ProductCD', 'card4',\n",
       "                                                   'card6', 'M1', 'M2', 'M3',\n",
       "                                                   'M4', 'M5', 'M6'...\n",
       "                               interaction_constraints='',\n",
       "                               learning_rate=0.300000012, max_delta_step=0,\n",
       "                               max_depth=6, min_child_weight=1, missing=nan,\n",
       "                               monotone_constraints='()', n_estimators=100,\n",
       "                               n_jobs=12, num_parallel_tree=1, predictor='auto',\n",
       "                               random_state=0, reg_alpha=0, reg_lambda=1,\n",
       "                               scale_pos_weight=1, subsample=1,\n",
       "                               tree_method='exact', use_label_encoder=False,\n",
       "                               validate_parameters=1, verbosity=None))])"
      ]
     },
     "execution_count": 124,
     "metadata": {},
     "output_type": "execute_result"
    }
   ],
   "source": [
    "%%time\n",
    "# fit the train data\n",
    "pl_cvb.fit(X_train, y_train)"
   ]
  },
  {
   "cell_type": "code",
   "execution_count": 125,
   "id": "d546333f",
   "metadata": {},
   "outputs": [
    {
     "data": {
      "text/plain": [
       "0.9093372910885978"
      ]
     },
     "execution_count": 125,
     "metadata": {},
     "output_type": "execute_result"
    }
   ],
   "source": [
    "# Accuracy on train data\n",
    "pl_cvb.score(X_train, y_train)"
   ]
  },
  {
   "cell_type": "code",
   "execution_count": 126,
   "id": "23d2a484",
   "metadata": {},
   "outputs": [
    {
     "data": {
      "text/plain": [
       "0.8465931087882307"
      ]
     },
     "execution_count": 126,
     "metadata": {},
     "output_type": "execute_result"
    }
   ],
   "source": [
    "# Accuracy on test data\n",
    "pl_cvb.score(X_test, y_test)"
   ]
  },
  {
   "cell_type": "code",
   "execution_count": 127,
   "id": "e09c9509",
   "metadata": {},
   "outputs": [
    {
     "data": {
      "image/png": "[encoded data removed]",
      "text/plain": [
       "<Figure size 432x288 with 2 Axes>"
      ]
     },
     "metadata": {},
     "output_type": "display_data"
    },
    {
     "data": {
      "text/plain": [
       "<Figure size 432x288 with 0 Axes>"
      ]
     },
     "metadata": {},
     "output_type": "display_data"
    }
   ],
   "source": [
    "# Confusion Matrix\n",
    "plot_confusion_matrix(pl_cvb, X_test, y_test)\n",
    "plt.show()\n",
    "plt.clf()"
   ]
  },
  {
   "cell_type": "code",
   "execution_count": 128,
   "id": "f0843437",
   "metadata": {},
   "outputs": [
    {
     "data": {
      "image/png": "[encoded data removed]",
      "text/plain": [
       "<Figure size 432x288 with 1 Axes>"
      ]
     },
     "metadata": {},
     "output_type": "display_data"
    }
   ],
   "source": [
    "# ROC Curve and AUC\n",
    "fpr, tpr, _ = roc_curve(y_test, pl_cvb.predict(X_test))\n",
    "auc_score = auc(fpr, tpr)\n",
    "plt.title('ROC Curve')\n",
    "plt.plot(fpr, tpr, label='AUC = {:.2f}'.format(auc_score))\n",
    "plt.plot([0,1],[0,1],'r--')\n",
    "plt.xlim([-0.1,1.1])\n",
    "plt.ylim([-0.1,1.1])\n",
    "plt.ylabel('True Positive Rate')\n",
    "plt.xlabel('False Positive Rate')\n",
    "plt.legend(loc='lower right')\n",
    "plt.show()"
   ]
  },
  {
   "cell_type": "code",
   "execution_count": 129,
   "id": "baf49941",
   "metadata": {},
   "outputs": [],
   "source": [
    "# following is a for balanced model output\n",
    "submission = pd.DataFrame({'TransactionID': test_df['TransactionID'], 'isFraud': pl_cvb.predict(test_df)})\n",
    "submission.to_csv(\"modified_submission_vb.csv\", index = False)"
   ]
  },
  {
   "cell_type": "code",
   "execution_count": null,
   "id": "4cf69b67",
   "metadata": {},
   "outputs": [],
   "source": []
  }
 ],
 "metadata": {
  "kernelspec": {
   "display_name": "Python 3 (ipykernel)",
   "language": "python",
   "name": "python3"
  },
  "language_info": {
   "codemirror_mode": {
    "name": "ipython",
    "version": 3
   },
   "file_extension": ".py",
   "mimetype": "text/x-python",
   "name": "python",
   "nbconvert_exporter": "python",
   "pygments_lexer": "ipython3",
   "version": "3.9.10"
  }
 },
 "nbformat": 4,
 "nbformat_minor": 5
}
